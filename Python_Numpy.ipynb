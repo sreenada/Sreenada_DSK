{
  "cells": [
    {
      "cell_type": "markdown",
      "metadata": {
        "id": "view-in-github",
        "colab_type": "text"
      },
      "source": [
        "<a href=\"https://colab.research.google.com/github/sreenada/Sreenada_DSK/blob/main/Python_Numpy.ipynb\" target=\"_parent\"><img src=\"https://colab.research.google.com/assets/colab-badge.svg\" alt=\"Open In Colab\"/></a>"
      ]
    },
    {
      "cell_type": "markdown",
      "metadata": {
        "id": "tCafkOuOuEPa"
      },
      "source": [
        "# Python Package: Numpy"
      ]
    },
    {
      "cell_type": "code",
      "execution_count": null,
      "metadata": {
        "id": "ypieyPOouEPc"
      },
      "outputs": [],
      "source": []
    },
    {
      "cell_type": "code",
      "execution_count": null,
      "metadata": {
        "id": "o__oT7IhuEPd"
      },
      "outputs": [],
      "source": []
    },
    {
      "cell_type": "markdown",
      "metadata": {
        "id": "EVQrBmUkuEPd"
      },
      "source": [
        "#### Refferences\n",
        "https://www.pluralsight.com/guides/overview-basic-numpy-operations <br>\n",
        "https://www.w3schools.com/python/numpy/"
      ]
    },
    {
      "cell_type": "code",
      "execution_count": null,
      "metadata": {
        "id": "dE9KdJvquEPd"
      },
      "outputs": [],
      "source": [
        "#Importing packages with alias\n",
        "import pandas as pd\n",
        "import numpy as np"
      ]
    },
    {
      "cell_type": "markdown",
      "metadata": {
        "id": "-S1XkJBquEPe"
      },
      "source": [
        "### Numpy"
      ]
    },
    {
      "cell_type": "markdown",
      "metadata": {
        "id": "law5MGHSuEPe"
      },
      "source": [
        "##### Numpy is a collection of elemnts of same data type. <br> where as its competition python list can hold elements of any data type."
      ]
    },
    {
      "cell_type": "code",
      "execution_count": null,
      "metadata": {
        "id": "bZ92KXGhuEPe",
        "outputId": "e5ed21bf-5d30-4cbf-e4e8-44d16f2f9f8d"
      },
      "outputs": [
        {
          "name": "stdout",
          "output_type": "stream",
          "text": [
            "[1 2 3 4 5]\n",
            "<class 'numpy.ndarray'>\n"
          ]
        }
      ],
      "source": [
        "npary = np.array([1,2,3,4,5])\n",
        "print(npary)\n",
        "print(type(npary))"
      ]
    },
    {
      "cell_type": "code",
      "execution_count": null,
      "metadata": {
        "id": "cNZPGW5RuEPf",
        "outputId": "e9255970-aa73-46e8-cfef-bd8938cc5730"
      },
      "outputs": [
        {
          "name": "stdout",
          "output_type": "stream",
          "text": [
            " a= [ 0  1  2  3  4  5  6  7  8  9 10 11 12 13 14] \n",
            " b= [ 5  6  7  8  9 10 11 12 13 14] \n",
            " c= [ 0  2  4  6  8 10 12 14] \n",
            "\n",
            "<class 'numpy.ndarray'>\n"
          ]
        }
      ],
      "source": [
        "#creating a series of numbers lets say 1 to 15\n",
        "\n",
        "a =np.arange(15) ## 0 to n-1, here (15-1)\n",
        "b =np.arange(5,15) ## starting from 5 to 14\n",
        "c =np.arange(0,15,2) ## staring form 1 to 14, with an interval of 2\n",
        "\n",
        "print(\" a=\",a,\"\\n\",\"b=\",b,\"\\n\",\"c=\",c,\"\\n\")\n",
        "\n",
        "print(type(a))"
      ]
    },
    {
      "cell_type": "markdown",
      "metadata": {
        "id": "DtC3nl2uuEPf"
      },
      "source": [
        "#### Note : reshape is temporoary and resize is permenant"
      ]
    },
    {
      "cell_type": "code",
      "execution_count": null,
      "metadata": {
        "id": "K-R_iCNAuEPf",
        "outputId": "3dff0838-7339-440b-8b2d-1f6aa46f36ba"
      },
      "outputs": [
        {
          "name": "stdout",
          "output_type": "stream",
          "text": [
            "reshape function \n",
            " [[ 0  1  2  3  4]\n",
            " [ 5  6  7  8  9]\n",
            " [10 11 12 13 14]] \n",
            "\n",
            "checking after reshape function \n",
            " [ 0  1  2  3  4  5  6  7  8  9 10 11 12 13 14] \n",
            "\n",
            "check for a after resize \n",
            " [[ 0  1  2  3  4]\n",
            " [ 5  6  7  8  9]\n",
            " [10 11 12 13 14]]\n"
          ]
        }
      ],
      "source": [
        "# 'a' is 1x15 in dimension, to convert it to 3x5\n",
        "print (\"reshape function \\n\",a.reshape(3,5),\"\\n\") ## the change is temporary\n",
        "print(\"checking after reshape function \\n\",a,\"\\n\")\n",
        "a.resize(3,5)  ## the change is permenant\n",
        "print(\"check for a after resize \\n\",a)"
      ]
    },
    {
      "cell_type": "code",
      "execution_count": null,
      "metadata": {
        "id": "T7Ca9OVWuEPg",
        "outputId": "b52dd808-f92e-4e73-9bbc-30e6e608d2fd"
      },
      "outputs": [
        {
          "data": {
            "text/plain": [
              "array([[ 3,  8, 13, 19],\n",
              "       [11,  7, 15, 15],\n",
              "       [14,  1, 23,  1],\n",
              "       [11, 20, 24, 18],\n",
              "       [13, 11, 16,  8]])"
            ]
          },
          "execution_count": 5,
          "metadata": {},
          "output_type": "execute_result"
        }
      ],
      "source": [
        "#Creating a multi diamentional array\n",
        "np.random.randint(1,25,size=(5,4))"
      ]
    },
    {
      "cell_type": "markdown",
      "metadata": {
        "id": "4m6Cs30AuEPg"
      },
      "source": [
        "##### There are a lot of functions, all of which cannot be explanined. if done so this will become the help file. <br>  So pls be familiar with the commands and the remaining things like syntax and useage could be obtained form inbuilt help/google\n",
        "\n",
        "Help about a pirticular function can be obtained as follows. <br>\n",
        "To see list of functions avaiable on numpy. <br>\n",
        "just type \"numpy.\" or \"np.\"(if using alias)  and press tab"
      ]
    },
    {
      "cell_type": "markdown",
      "metadata": {
        "id": "S-oqnrfwuEPg"
      },
      "source": [
        "#### Syntax for help"
      ]
    },
    {
      "cell_type": "code",
      "execution_count": null,
      "metadata": {
        "id": "CftQolvYuEPg",
        "outputId": "32410e88-6ddd-406b-f1fd-0cde7ebc61f4"
      },
      "outputs": [
        {
          "name": "stdout",
          "output_type": "stream",
          "text": [
            "randint(low, high=None, size=None, dtype='l')\n",
            "\n",
            "Return random integers from `low` (inclusive) to `high` (exclusive).\n",
            "\n",
            "Return random integers from the \"discrete uniform\" distribution of\n",
            "the specified dtype in the \"half-open\" interval [`low`, `high`). If\n",
            "`high` is None (the default), then results are from [0, `low`).\n",
            "\n",
            "Parameters\n",
            "----------\n",
            "low : int\n",
            "    Lowest (signed) integer to be drawn from the distribution (unless\n",
            "    ``high=None``, in which case this parameter is one above the\n",
            "    *highest* such integer).\n",
            "high : int, optional\n",
            "    If provided, one above the largest (signed) integer to be drawn\n",
            "    from the distribution (see above for behavior if ``high=None``).\n",
            "size : int or tuple of ints, optional\n",
            "    Output shape.  If the given shape is, e.g., ``(m, n, k)``, then\n",
            "    ``m * n * k`` samples are drawn.  Default is None, in which case a\n",
            "    single value is returned.\n",
            "dtype : dtype, optional\n",
            "    Desired dtype of the result. All dtypes are determined by their\n",
            "    name, i.e., 'int64', 'int', etc, so byteorder is not available\n",
            "    and a specific precision may have different C types depending\n",
            "    on the platform. The default value is 'np.int'.\n",
            "\n",
            "    .. versionadded:: 1.11.0\n",
            "\n",
            "Returns\n",
            "-------\n",
            "out : int or ndarray of ints\n",
            "    `size`-shaped array of random integers from the appropriate\n",
            "    distribution, or a single such random int if `size` not provided.\n",
            "\n",
            "See Also\n",
            "--------\n",
            "random.random_integers : similar to `randint`, only for the closed\n",
            "    interval [`low`, `high`], and 1 is the lowest value if `high` is\n",
            "    omitted. In particular, this other one is the one to use to generate\n",
            "    uniformly distributed discrete non-integers.\n",
            "\n",
            "Examples\n",
            "--------\n",
            ">>> np.random.randint(2, size=10)\n",
            "array([1, 0, 0, 0, 1, 1, 0, 0, 1, 0])\n",
            ">>> np.random.randint(1, size=10)\n",
            "array([0, 0, 0, 0, 0, 0, 0, 0, 0, 0])\n",
            "\n",
            "Generate a 2 x 4 array of ints between 0 and 4, inclusive:\n",
            "\n",
            ">>> np.random.randint(5, size=(2, 4))\n",
            "array([[4, 0, 2, 1],\n",
            "       [3, 2, 2, 0]])\n"
          ]
        }
      ],
      "source": [
        "# Syntax\n",
        "# np.info(np.function_name)\n",
        "np.info(np.random.randint)"
      ]
    },
    {
      "cell_type": "code",
      "execution_count": null,
      "metadata": {
        "id": "om9WQ7pBuEPg"
      },
      "outputs": [],
      "source": []
    },
    {
      "cell_type": "code",
      "execution_count": null,
      "metadata": {
        "id": "IIaulUOXuEPg",
        "outputId": "c492cc22-7bb3-4776-d3d2-99022ee79eda"
      },
      "outputs": [
        {
          "name": "stdout",
          "output_type": "stream",
          "text": [
            "[ 0.          2.85714286  5.71428571  8.57142857 11.42857143 14.28571429\n",
            " 17.14285714 20.        ]\n"
          ]
        }
      ],
      "source": [
        "#printing 8 values between 0 to 20\n",
        "print(np.linspace(0,20,8))"
      ]
    },
    {
      "cell_type": "code",
      "execution_count": null,
      "metadata": {
        "id": "rCGvPtIEuEPh",
        "outputId": "885fb99e-bdd6-413e-ed50-769da4374359"
      },
      "outputs": [
        {
          "name": "stdout",
          "output_type": "stream",
          "text": [
            "[[ 0  1  2  3  4]\n",
            " [ 5  6  7  8  9]\n",
            " [10 11 12 13 14]] \n",
            "\n",
            "the shape of array a: (3, 5)\n",
            "the dimension of array a: 2\n",
            "the total no of elements in array a: 15\n"
          ]
        }
      ],
      "source": [
        "print(a,\"\\n\")\n",
        "print(\"the shape of array a:\",a.shape)\n",
        "print(\"the dimension of array a:\",a.ndim)\n",
        "print(\"the total no of elements in array a:\",a.size)\n"
      ]
    },
    {
      "cell_type": "code",
      "execution_count": null,
      "metadata": {
        "scrolled": true,
        "id": "SX7PXxzZuEPh",
        "outputId": "14f22536-7135-430a-9928-f01bd19d17d7"
      },
      "outputs": [
        {
          "name": "stdout",
          "output_type": "stream",
          "text": [
            "Regular Array\n",
            " [1 2 3 4 5] \n",
            "\n",
            "Multi Dimensional Array (here 2D) \n",
            " [[1 2]\n",
            " [3 4]] \n",
            "\n",
            "Complex Array\n",
            " [[1.+0.j 2.+0.j]\n",
            " [5.+0.j 6.+0.j]]\n"
          ]
        }
      ],
      "source": [
        "#array creation\n",
        "aa =np.array([1,2,3,4,5])  ## Regular array\n",
        "ab=np.array([[1, 2], [3, 4]]) ## Multi dimesnional array\n",
        "ac=np.array([[1,2],[5,6]],dtype = complex) ## complex array\n",
        "\n",
        "print (\"Regular Array\\n\",aa, \"\\n\\nMulti Dimensional Array (here 2D) \\n\",ab,\"\\n\\nComplex Array\\n\",ac)"
      ]
    },
    {
      "cell_type": "markdown",
      "metadata": {
        "id": "55VqshGmuEPh"
      },
      "source": [
        "#### operations in numpy array"
      ]
    },
    {
      "cell_type": "code",
      "execution_count": null,
      "metadata": {
        "id": "QxQUeKQjuEPh",
        "outputId": "86ccebb1-e151-40a8-dab1-0a82904cedf8"
      },
      "outputs": [
        {
          "name": "stdout",
          "output_type": "stream",
          "text": [
            "a \n",
            "\n",
            "['a' 'b' 'c'] \n",
            "\n",
            "[['a' 'b' 'c']\n",
            " ['d' 'e' 'f']] \n",
            "\n"
          ]
        },
        {
          "data": {
            "text/plain": [
              "array(['a', 'b', 'c'], dtype='<U1')"
            ]
          },
          "execution_count": 10,
          "metadata": {},
          "output_type": "execute_result"
        }
      ],
      "source": [
        "#slicing and dicing,\n",
        "DSK=np.array([\n",
        "[[\"a\",\"b\",\"c\"],[\"d\",\"e\",\"f\"]],\n",
        "[[\"g\",\"h\",\"i\"],[\"j\",\"k\",\"l\"]]\n",
        "])\n",
        "\n",
        "print(DSK[0][0][0],\"\\n\")\n",
        "print(DSK[0][0],\"\\n\")\n",
        "print(DSK[0],\"\\n\")\n",
        "\n",
        "DSK2=np.array([[\"a\",\"b\",\"c\",\"d\",\"e\",\"f\"],[\"g\",\"h\",\"i\",\"j\",\"k\",\"l\"]])\n",
        "DSK2[0][0:3]\n",
        "\n",
        "#In DSK2 printing the section 1, and that too the first 3 elements only.\n",
        "#Note: here n-1 is taken as the upper limit."
      ]
    },
    {
      "cell_type": "code",
      "execution_count": null,
      "metadata": {
        "id": "01oBxxBauEPi",
        "outputId": "b54ce47f-d3d6-400b-dc5b-7edee576b3c3"
      },
      "outputs": [
        {
          "name": "stdout",
          "output_type": "stream",
          "text": [
            "A= \n",
            " [[1 1]\n",
            " [0 1]] \n",
            "B=\n",
            " [[2 0]\n",
            " [3 4]]\n"
          ]
        }
      ],
      "source": [
        "A = np.array([[1,1],[0,1]])\n",
        "B = np.array([[2,0],[3,4]])\n",
        "\n",
        "print(\"A= \\n\",A,\"\\nB=\\n\",B)"
      ]
    },
    {
      "cell_type": "markdown",
      "metadata": {
        "id": "C1thPOR-uEPi"
      },
      "source": [
        "#### Element wise and Matrix Multiplication"
      ]
    },
    {
      "cell_type": "code",
      "execution_count": null,
      "metadata": {
        "id": "OovtweZPuEPi",
        "outputId": "c34e941b-1bb5-4ebe-a14c-17e409f660d0"
      },
      "outputs": [
        {
          "name": "stdout",
          "output_type": "stream",
          "text": [
            "[[2 0]\n",
            " [0 4]] \n",
            "\n",
            "\n",
            " [[5 4]\n",
            " [3 4]]\n"
          ]
        }
      ],
      "source": [
        "print(A*B,\"\\n\")         ## Element wise multiplication\n",
        "print(\"\\n\",A.dot(B))    ## Matrix Multiplication\n"
      ]
    },
    {
      "cell_type": "code",
      "execution_count": null,
      "metadata": {
        "id": "P5HYGB_OuEPi"
      },
      "outputs": [],
      "source": []
    },
    {
      "cell_type": "code",
      "execution_count": null,
      "metadata": {
        "id": "1ofYw_MmuEPi",
        "outputId": "ac5643fe-3a53-4b5d-9966-d28360740879"
      },
      "outputs": [
        {
          "name": "stdout",
          "output_type": "stream",
          "text": [
            "15 random numbers (b/w 0 and 1), reshaped to 5 rows and 3 cols \n",
            " [[0.66170746 0.25599191 0.89386444]\n",
            " [0.78905742 0.38012069 0.54118996]\n",
            " [0.85622064 0.5881181  0.67014658]\n",
            " [0.50889932 0.89647414 0.74708635]\n",
            " [0.74670335 0.22066635 0.91584827]] \n",
            "\n",
            "\n",
            "15 random numbers (b/w 1 and 20), reshaped to 5 rows and 3 cols \n",
            " [[ 1 14 12]\n",
            " [ 8 12 17]\n",
            " [17 19  3]\n",
            " [18  7 14]\n",
            " [ 9 15 16]] \n",
            "\n",
            "\n",
            "15 random numbers (b/w 0 and 100) \n",
            " [83 49 80 31 93 25 30 52 29 15 53 37 90  5 37]\n"
          ]
        }
      ],
      "source": [
        "#generating and reshaping\n",
        "print(\"15 random numbers (b/w 0 and 1), reshaped to 5 rows and 3 cols \\n\",np.random.random(15).reshape(5,3),\"\\n\\n\")\n",
        "#or\n",
        "print(\"15 random numbers (b/w 1 and 20), reshaped to 5 rows and 3 cols \\n\",np.random.randint(1,20, size=(5,3)),\"\\n\\n\")\n",
        "\n",
        "print(\"15 random numbers (b/w 0 and 100) \\n\",np.random.randint(0,100,size=15))\n"
      ]
    },
    {
      "cell_type": "code",
      "execution_count": null,
      "metadata": {
        "id": "BcFoAtkOuEPi"
      },
      "outputs": [],
      "source": []
    },
    {
      "cell_type": "code",
      "execution_count": null,
      "metadata": {
        "id": "27sxFf-puEPi",
        "outputId": "f238db49-a1c5-417d-9641-50a3e92b8337"
      },
      "outputs": [
        {
          "name": "stdout",
          "output_type": "stream",
          "text": [
            "90\n",
            "the value of  90 :  90 \n",
            "\n",
            "the value of square root of  90 :  9.486832980505138 \n",
            "\n",
            "the value of  90 :  0.8939966636005579 \n",
            " By default the function takes degrees in rads. \n",
            "\n",
            "the value of sine  90 :  in degrees 1.0\n"
          ]
        }
      ],
      "source": [
        "#other built in funtions\n",
        "zz=int(input())\n",
        "print(\"the value of \",zz,\": \", zz,\"\\n\")\n",
        "print(\"the value of square root of \",zz,\": \",np.sqrt(zz),\"\\n\")\n",
        "print(\"the value of \",zz,\": \", np.sin(zz), \"\\n By default the function takes degrees in rads. \\n\")\n",
        "print(\"the value of sine \",zz,\":  in degrees\", np.sin(np.deg2rad(zz)))"
      ]
    },
    {
      "cell_type": "code",
      "execution_count": null,
      "metadata": {
        "id": "eixY8588uEPj",
        "outputId": "831a1f53-584e-449b-c863-fa2208860fe0"
      },
      "outputs": [
        {
          "data": {
            "text/plain": [
              "1.5707963267948966"
            ]
          },
          "execution_count": 15,
          "metadata": {},
          "output_type": "execute_result"
        }
      ],
      "source": [
        "#Converting degrees to rad\n",
        "np.deg2rad(90)"
      ]
    },
    {
      "cell_type": "code",
      "execution_count": null,
      "metadata": {
        "id": "Y9CwCUTkuEPj",
        "outputId": "84c804a5-0fcb-4134-d532-5518f3d3dac2"
      },
      "outputs": [
        {
          "name": "stdout",
          "output_type": "stream",
          "text": [
            "[[ 5 13 10]\n",
            " [19  5  5]\n",
            " [ 5  8  3]]\n"
          ]
        }
      ],
      "source": [
        "var_b = np.random.randint(1,20, size=(3,3))\n",
        "print(var_b)"
      ]
    },
    {
      "cell_type": "code",
      "execution_count": null,
      "metadata": {
        "id": "vuhroY7PuEPj",
        "outputId": "bd0a68e7-6432-46f3-bc52-3279a64e30b7"
      },
      "outputs": [
        {
          "name": "stdout",
          "output_type": "stream",
          "text": [
            "Sum of Columns [29 26 18]\n",
            "Sum of Rows [28 29 16]\n",
            "Max value 19\n",
            "Total sum 73\n",
            "Minimum value 3\n",
            "Mean value 8.11111111111111\n",
            "Standard deviation 4.840671313509325\n"
          ]
        }
      ],
      "source": [
        "print(\"Sum of Columns\",var_b.sum(axis=0)) ## the sum of values of columns\n",
        "print(\"Sum of Rows\",var_b.sum(axis=1)) ## the sum of values of Row\n",
        "print(\"Max value\",var_b.max())\n",
        "print(\"Total sum\",var_b.sum())\n",
        "print(\"Minimum value\",var_b.min())\n",
        "print(\"Mean value\",var_b.mean())\n",
        "print(\"Standard deviation\",var_b.std())"
      ]
    },
    {
      "cell_type": "code",
      "execution_count": null,
      "metadata": {
        "id": "YJn3HeADuEPj",
        "outputId": "787bd811-bae0-4b24-e49c-6f79c39a532c"
      },
      "outputs": [
        {
          "name": "stdout",
          "output_type": "stream",
          "text": [
            "var_b=\n",
            " [[ 5 13 10]\n",
            " [19  5  5]\n",
            " [ 5  8  3]]\n",
            "var_c =  [ 5 13 10 19  5  5  5  8  3]\n"
          ]
        }
      ],
      "source": [
        "#converting a multi dimensional array to a single dimensional array\n",
        "print(\"var_b=\\n\",var_b)\n",
        "var_c = var_b.ravel()\n",
        "print(\"var_c = \",var_c)"
      ]
    },
    {
      "cell_type": "code",
      "execution_count": null,
      "metadata": {
        "id": "zuyvTDl4uEPj",
        "outputId": "18154246-f4f9-4639-9080-b0365eb92abe"
      },
      "outputs": [
        {
          "name": "stdout",
          "output_type": "stream",
          "text": [
            "[[ 5 13]\n",
            " [10 19]\n",
            " [ 5  5]\n",
            " [ 5  8]\n",
            " [ 3  5]]\n"
          ]
        }
      ],
      "source": [
        "var_d = np.resize(var_c,(5,2))\n",
        "print(var_d)\n",
        "#note : here var_c had only 9 elements. when we reshared it to 5x2 it required 10 elements,\n",
        "# in this case it reuse or loop through the elements of the source"
      ]
    },
    {
      "cell_type": "code",
      "execution_count": null,
      "metadata": {
        "id": "Iv6NNSE5uEPk",
        "outputId": "88790eb1-a2db-450f-b42c-5eb9d78cf92a"
      },
      "outputs": [
        {
          "name": "stdout",
          "output_type": "stream",
          "text": [
            "[[ 5 13 10]\n",
            " [19  5  5]\n",
            " [ 5  8  3]\n",
            " [ 5 13 10]]\n"
          ]
        }
      ],
      "source": [
        "#one more example\n",
        "var_e = np.resize(var_c,(4,3))\n",
        "print(var_e)\n",
        "#it is seen that the first row is repeated again"
      ]
    },
    {
      "cell_type": "code",
      "execution_count": null,
      "metadata": {
        "id": "opjcqkoYuEPk"
      },
      "outputs": [],
      "source": []
    },
    {
      "cell_type": "markdown",
      "metadata": {
        "id": "HCSH35f2uEPk"
      },
      "source": [
        "Stacking array together\n",
        "vstack -> vertical stack\n",
        "hstack -> horizontal stack\n"
      ]
    },
    {
      "cell_type": "code",
      "execution_count": null,
      "metadata": {
        "id": "Dw5EABqhuEPk",
        "outputId": "c98f83e9-9bcc-41dd-e505-0c89b0f75d35"
      },
      "outputs": [
        {
          "name": "stdout",
          "output_type": "stream",
          "text": [
            "stk_a=\n",
            " [[1 2]\n",
            " [3 4]] \n",
            "stk_b=\n",
            " [[4 5]\n",
            " [6 7]]\n"
          ]
        }
      ],
      "source": [
        "stk_a =np.arange(1,5).reshape(2,2)\n",
        "stk_b= np.arange(4,8).reshape(2,2)\n",
        "\n",
        "print(\"stk_a=\\n\",stk_a,\"\\nstk_b=\\n\",stk_b)"
      ]
    },
    {
      "cell_type": "code",
      "execution_count": null,
      "metadata": {
        "id": "f-_nPfn2uEPk",
        "outputId": "695d049c-4b18-4897-89bf-65e7950499ae"
      },
      "outputs": [
        {
          "name": "stdout",
          "output_type": "stream",
          "text": [
            "[[1 2]\n",
            " [3 4]\n",
            " [4 5]\n",
            " [6 7]]\n",
            "\n",
            "\n",
            "[[1 2 4 5]\n",
            " [3 4 6 7]]\n"
          ]
        }
      ],
      "source": [
        "stk_vs=np.vstack((stk_a,stk_b))\n",
        "print(stk_vs)\n",
        "print(\"\\n\")\n",
        "stk_hs=np.hstack((stk_a,stk_b))\n",
        "print(stk_hs)"
      ]
    },
    {
      "cell_type": "code",
      "execution_count": null,
      "metadata": {
        "id": "4CffMAb_uEPk"
      },
      "outputs": [],
      "source": []
    },
    {
      "cell_type": "code",
      "execution_count": null,
      "metadata": {
        "id": "77r9XoJ7uEPl",
        "outputId": "31888862-e681-47ea-e2c2-96cde78143d6"
      },
      "outputs": [
        {
          "name": "stdout",
          "output_type": "stream",
          "text": [
            "shallow_a [ 1  2  3  4  5  6  7  8  9 10 11 12 13 14]\n",
            "shallow_b [ 1  2  3  4  5  6  7  8  9 10 11 12 13 14]\n",
            "updating value of 5th element of shallow_b to 99\n",
            "\n",
            "shallow_b [ 1  2  3  4 99  6  7  8  9 10 11 12 13 14] \n",
            "The change was expected\n",
            "\n",
            "shallow_a [ 1  2  3  4 99  6  7  8  9 10 11 12 13 14] \n",
            "The change was un-expected\n",
            "\n",
            "inshort a=b kind of assignment is similar to an alias and technically they are the same.\n",
            "this kind of copy is called shallow copy\n"
          ]
        }
      ],
      "source": [
        "#Shallow copy and deep copy\n",
        "shallow_a = np.arange(1,15)\n",
        "print(\"shallow_a\",shallow_a)\n",
        "shallow_b = shallow_a\n",
        "print(\"shallow_b\", shallow_b)\n",
        "\n",
        "print(\"updating value of 5th element of shallow_b to 99\\n\")\n",
        "shallow_b[4]=99\n",
        "\n",
        "print(\"shallow_b\", shallow_b, \"\\nThe change was expected\\n\")\n",
        "\n",
        "print(\"shallow_a\",shallow_a,\"\\nThe change was un-expected\\n\")\n",
        "\n",
        "print(\"inshort a=b kind of assignment is similar to an alias and technically they are the same.\")\n",
        "print(\"this kind of copy is called shallow copy\")"
      ]
    },
    {
      "cell_type": "code",
      "execution_count": null,
      "metadata": {
        "id": "TY5V7nPLuEPl",
        "outputId": "8f497e1e-6069-4f05-ad2c-415f51e84c2d"
      },
      "outputs": [
        {
          "name": "stdout",
          "output_type": "stream",
          "text": [
            "deep_a [ 1  2  3  4  5  6  7  8  9 10 11 12 13 14] \n",
            "\n",
            "deep_b [ 1  2  3  4  5  6  7  8  9 10 11 12 13 14] \n",
            "\n",
            "updating value of 5th element of deep_b to 99\n",
            "\n",
            "deep_b [ 1  2  3  4 99  6  7  8  9 10 11 12 13 14] \n",
            "The change was expected\n",
            "\n",
            "deep_a [ 1  2  3  4  5  6  7  8  9 10 11 12 13 14] \n",
            " no change, as expected\n",
            "\n"
          ]
        }
      ],
      "source": [
        "#Deep Copy\n",
        "deep_a = np.arange(1,15)\n",
        "print(\"deep_a\",deep_a,\"\\n\")\n",
        "deep_b = deep_a.copy()\n",
        "print(\"deep_b\",deep_b,\"\\n\")\n",
        "\n",
        "print(\"updating value of 5th element of deep_b to 99\\n\")\n",
        "deep_b[4]=99\n",
        "\n",
        "print(\"deep_b\", deep_b, \"\\nThe change was expected\\n\")\n",
        "\n",
        "print(\"deep_a\",deep_a,\"\\n no change, as expected\\n\")"
      ]
    },
    {
      "cell_type": "code",
      "execution_count": null,
      "metadata": {
        "id": "ARvuRvy5uEPm"
      },
      "outputs": [],
      "source": []
    },
    {
      "cell_type": "markdown",
      "metadata": {
        "id": "PKAE6mROuEPm"
      },
      "source": [
        "#### Why Numpy over python list?"
      ]
    },
    {
      "cell_type": "markdown",
      "metadata": {
        "id": "89d_annkuEPm"
      },
      "source": [
        "##### 1) The numpy list is smaller in size thus faster!"
      ]
    },
    {
      "cell_type": "code",
      "execution_count": null,
      "metadata": {
        "id": "56seiI8JuEPm"
      },
      "outputs": [],
      "source": [
        "import sys\n",
        "import time"
      ]
    },
    {
      "cell_type": "code",
      "execution_count": null,
      "metadata": {
        "id": "91DE-g8EuEPm",
        "outputId": "d0309ae9-92da-4e05-df3f-fef7c73cccab"
      },
      "outputs": [
        {
          "name": "stdout",
          "output_type": "stream",
          "text": [
            "\n",
            "python list size : 1456\n"
          ]
        }
      ],
      "source": [
        "#Python list\n",
        "pyt_lst =list(range(1,151))  ### creating a list with elemetns from 1 to 150\n",
        "print(\"\\npython list size :\",sys.getsizeof(pyt_lst))"
      ]
    },
    {
      "cell_type": "code",
      "execution_count": null,
      "metadata": {
        "id": "QpoCklP3uEPm",
        "outputId": "7ac0ce98-b88d-4448-c7d1-0e84b6a94da3"
      },
      "outputs": [
        {
          "name": "stdout",
          "output_type": "stream",
          "text": [
            "\n",
            "numpy list size: 696\n"
          ]
        }
      ],
      "source": [
        "#Numpy list\n",
        "npy_lst =np.arange(1,151,1) ### creating a list with elemetns from 1 to 150\n",
        "print(\"\\nnumpy list size:\",sys.getsizeof(npy_lst))"
      ]
    },
    {
      "cell_type": "code",
      "execution_count": null,
      "metadata": {
        "id": "wbJGr6JuuEPn"
      },
      "outputs": [],
      "source": []
    },
    {
      "cell_type": "markdown",
      "metadata": {
        "id": "CrVBkCNNuEPn"
      },
      "source": [
        "##### 2) Simpler calculations"
      ]
    },
    {
      "cell_type": "code",
      "execution_count": null,
      "metadata": {
        "id": "Bq64MRU4uEPn"
      },
      "outputs": [],
      "source": [
        "height = [1.72,1.65,1.66,1.78,1.9]\n",
        "weight = [75,54,62,74,80]"
      ]
    },
    {
      "cell_type": "code",
      "execution_count": null,
      "metadata": {
        "id": "dcgdqDMsuEPn",
        "outputId": "55a3048d-fc9c-4ee1-f6eb-9387f48edd6b"
      },
      "outputs": [
        {
          "name": "stdout",
          "output_type": "stream",
          "text": [
            "25.351541373715524\n",
            "19.834710743801654\n",
            "22.49963710262738\n",
            "23.355636914530994\n",
            "22.1606648199446\n"
          ]
        }
      ],
      "source": [
        "# BMI = height in Weight/(height^2(in meters))\n",
        "#\n",
        "#weight/height**2  ==> this code will fail\n",
        "#\n",
        "for i in range (0,len(height),1) :\n",
        "    print(weight[i]/height[i]**2)"
      ]
    },
    {
      "cell_type": "code",
      "execution_count": null,
      "metadata": {
        "id": "J5Dwk-c7uEPn",
        "outputId": "88416fa2-3b38-46ed-aff0-b2e0bb4c6d9a"
      },
      "outputs": [
        {
          "name": "stdout",
          "output_type": "stream",
          "text": [
            "[25.35154137 19.83471074 22.4996371  23.35563691 22.16066482]\n"
          ]
        }
      ],
      "source": [
        "npy_height = np.array(height)\n",
        "npy_weight = np.array(weight)\n",
        "\n",
        "print(npy_weight/(npy_height**2))"
      ]
    },
    {
      "cell_type": "markdown",
      "metadata": {
        "id": "lEmgscG-uEPn"
      },
      "source": [
        "##### Here you could skip all those looping statemetns just by using numpy lists"
      ]
    },
    {
      "cell_type": "markdown",
      "metadata": {
        "id": "oYQ2Ae-uuEPn"
      },
      "source": [
        "#### Array Join"
      ]
    },
    {
      "cell_type": "code",
      "execution_count": null,
      "metadata": {
        "id": "f7Jkf8TauEPo",
        "outputId": "4b320e7a-68af-45e0-e668-8765ef1c470d"
      },
      "outputs": [
        {
          "name": "stdout",
          "output_type": "stream",
          "text": [
            "[1 2 3 4 5 6]\n"
          ]
        }
      ],
      "source": [
        "arr1 = np.array([1, 2, 3]) #array 1\n",
        "arr2 = np.array([4, 5, 6]) #array 2\n",
        "ary = np.concatenate((arr1, arr2))\n",
        "print(ary)"
      ]
    },
    {
      "cell_type": "code",
      "execution_count": null,
      "metadata": {
        "id": "JQXKTzMhuEPo",
        "outputId": "fd303cb9-cdc8-4f33-bc3c-7bb4f1aba12b"
      },
      "outputs": [
        {
          "name": "stdout",
          "output_type": "stream",
          "text": [
            "axis 1 is horizontal\n",
            "[[1 2 5 6]\n",
            " [3 4 7 8]] \n",
            "\n",
            "axis 0 is vertical\n",
            "[[1 2]\n",
            " [3 4]\n",
            " [5 6]\n",
            " [7 8]]\n"
          ]
        }
      ],
      "source": [
        "Mar1 = np.array([[1, 2], [3, 4]])\n",
        "\n",
        "Mar2 = np.array([[5, 6], [7, 8]])\n",
        "\n",
        "M_array1 = np.concatenate((Mar1, Mar2), axis=1)\n",
        "\n",
        "print(\"axis 1 is horizontal\")\n",
        "print(M_array1, \"\\n\")\n",
        "\n",
        "\n",
        "M_array2 = np.concatenate((Mar1, Mar2), axis=0)\n",
        "print(\"axis 0 is vertical\")\n",
        "print(M_array2)"
      ]
    },
    {
      "cell_type": "markdown",
      "metadata": {
        "id": "fhWmtSHvuEPo"
      },
      "source": [
        "#### Array Split"
      ]
    },
    {
      "cell_type": "code",
      "execution_count": null,
      "metadata": {
        "id": "OXwWC04RuEPo",
        "outputId": "94ca6c8b-17be-4063-d795-a311fdf07970"
      },
      "outputs": [
        {
          "name": "stdout",
          "output_type": "stream",
          "text": [
            "the array split into 2: \n",
            " [array([1, 2, 3]), array([4, 5, 6])] \n",
            "\n",
            "the array split into 3: \n",
            " [array([1, 2]), array([3, 4]), array([5, 6])]\n"
          ]
        }
      ],
      "source": [
        "ary1 = np.array([1, 2, 3, 4, 5, 6])\n",
        "print(\"the array split into 2: \\n\",np.array_split(ary1, 2),\"\\n\")\n",
        "\n",
        "print(\"the array split into 3: \\n\",np.array_split(ary1, 3))"
      ]
    },
    {
      "cell_type": "markdown",
      "metadata": {
        "id": "eOF2Hu_CuEPo"
      },
      "source": [
        "#### Array Search"
      ]
    },
    {
      "cell_type": "code",
      "execution_count": null,
      "metadata": {
        "id": "6E3AKEIVuEPp",
        "outputId": "1029c22a-cb9a-4520-f471-b79573016931"
      },
      "outputs": [
        {
          "name": "stdout",
          "output_type": "stream",
          "text": [
            "the location where 4 was found:  (array([ 0,  3,  5, 10], dtype=int64),)\n",
            "Printing with the location provided form variable x : \n",
            " [4 4 4 4]\n"
          ]
        }
      ],
      "source": [
        "ar_sr = np.array([4, 2, 3, 4, 5, 4, 7, 8, 9, 7, 4])\n",
        "\n",
        "x = np.where(ar_sr == 4)\n",
        "\n",
        "print(\"the location where 4 was found: \",x)\n",
        "\n",
        "print(\"Printing with the location provided form variable x : \\n\",ar_sr[x])"
      ]
    },
    {
      "cell_type": "code",
      "execution_count": null,
      "metadata": {
        "id": "GebucoFIuEPp",
        "outputId": "2d8964d8-294d-4ad1-dcf7-42fbdb1d190a"
      },
      "outputs": [
        {
          "name": "stdout",
          "output_type": "stream",
          "text": [
            "sorted order: [ 0  1  2  3  4  5  7  9  9 11 15 18 19 24 29 45 81 99] \n",
            "\n",
            "descending order sort: [99 81 45 29 24 19 18 15 11  9  9  7  5  4  3  2  1  0]\n"
          ]
        }
      ],
      "source": [
        "#### Array Sort\n",
        "ar_so = np.array([3, 2, 99, 1,4,9,81,0,29,5,7,9,11,45,24,15,18,19])\n",
        "ar_sort=np.sort(ar_so)\n",
        "print(\"sorted order:\",ar_sort,\"\\n\")\n",
        "print(\"descending order sort:\",ar_sort[::-1])\n"
      ]
    },
    {
      "cell_type": "code",
      "execution_count": null,
      "metadata": {
        "id": "O6AyxpeZuEPp",
        "outputId": "4bba0420-5fae-4296-ef57-baa5e7d6cfd2"
      },
      "outputs": [
        {
          "name": "stdout",
          "output_type": "stream",
          "text": [
            "[99 81 45 29 24 19 18 15 11  9  9  7  5  4  3  2  1  0]\n"
          ]
        }
      ],
      "source": [
        "## descending order sort can also be perfomed as follows.\n",
        "print(np.sort(ar_so)[::-1])"
      ]
    },
    {
      "cell_type": "markdown",
      "metadata": {
        "id": "b5blqxr2uEPp"
      },
      "source": [
        "##### Some Points to remember"
      ]
    },
    {
      "cell_type": "code",
      "execution_count": null,
      "metadata": {
        "id": "Zd0X3-JruEPp"
      },
      "outputs": [],
      "source": [
        "pyt_lst2 = [1,\"a\",3.14,True]\n",
        "npy_lst2 = np.array([1,\"a\",3.14,True])"
      ]
    },
    {
      "cell_type": "code",
      "execution_count": null,
      "metadata": {
        "id": "0sLMeBGjuEPp"
      },
      "outputs": [],
      "source": []
    },
    {
      "cell_type": "code",
      "execution_count": null,
      "metadata": {
        "id": "dKBLjWDAuEPq",
        "outputId": "9562b467-cb05-42c1-a434-e1b5fa79c8c9"
      },
      "outputs": [
        {
          "name": "stdout",
          "output_type": "stream",
          "text": [
            "pyt_lst2 =  [1, 'a', 3.14, True] \n",
            "\n",
            "npy_lst2 =  ['1' 'a' '3.14' 'True']\n"
          ]
        }
      ],
      "source": [
        "print(\"pyt_lst2 = \",pyt_lst2,\"\\n\")\n",
        "print(\"npy_lst2 = \",npy_lst2)"
      ]
    },
    {
      "cell_type": "markdown",
      "metadata": {
        "id": "vo69S7QYuEPq"
      },
      "source": [
        "Here python list mainitains the input data type as it is, but <br>\n",
        "numpy converts all into a common data type, here all as string"
      ]
    },
    {
      "cell_type": "code",
      "execution_count": null,
      "metadata": {
        "id": "yQQtO4SOuEPq"
      },
      "outputs": [],
      "source": []
    },
    {
      "cell_type": "code",
      "execution_count": null,
      "metadata": {
        "id": "vBwOx3eauEPq",
        "outputId": "01cf08c7-2822-41f7-ee23-20bd633b3a3e"
      },
      "outputs": [
        {
          "name": "stdout",
          "output_type": "stream",
          "text": [
            "height+weight = [1.72, 1.65, 1.66, 1.78, 1.9, 75, 54, 62, 74, 80]\n",
            "npy_height+npy_weight = [76.72 55.65 63.66 75.78 81.9 ]\n"
          ]
        }
      ],
      "source": [
        "print(\"height+weight =\",height+weight)\n",
        "print(\"npy_height+npy_weight =\",npy_height+npy_weight)"
      ]
    },
    {
      "cell_type": "markdown",
      "metadata": {
        "id": "tpbYCQEouEPq"
      },
      "source": [
        "Here in regular list + function results in concatenation <br>\n",
        "where as in npy_lists it results in element wise addition."
      ]
    },
    {
      "cell_type": "code",
      "execution_count": null,
      "metadata": {
        "id": "dl_4AmWouEPq"
      },
      "outputs": [],
      "source": []
    },
    {
      "cell_type": "code",
      "execution_count": null,
      "metadata": {
        "id": "1fcHvyCHuEPq",
        "outputId": "09afddf6-df33-4f7b-ed65-58dd3b4d4e21"
      },
      "outputs": [
        {
          "name": "stdout",
          "output_type": "stream",
          "text": [
            "A question , we have the following data, \n",
            "height =  [1.72, 1.65, 1.66, 1.78, 1.9] \n",
            " weight = [75, 54, 62, 74, 80]\n",
            "Question : how to find the weight of people of height 1.75m and above?\n"
          ]
        }
      ],
      "source": [
        "print (\"A question , we have the following data, \")\n",
        "print(\"height = \", height, \"\\n\", \"weight =\",weight )\n",
        "print(\"Question : how to find the weight of people of height 1.75m and above?\")"
      ]
    },
    {
      "cell_type": "code",
      "execution_count": null,
      "metadata": {
        "id": "TUoeuSA4uEPr",
        "outputId": "b53ed0bf-2636-41a4-f288-a13d993bfe47"
      },
      "outputs": [
        {
          "data": {
            "text/plain": [
              "array([False, False, False,  True,  True])"
            ]
          },
          "execution_count": 41,
          "metadata": {},
          "output_type": "execute_result"
        }
      ],
      "source": [
        "npy_height > 1.75"
      ]
    },
    {
      "cell_type": "code",
      "execution_count": null,
      "metadata": {
        "id": "QURYqsyjuEPr",
        "outputId": "39411bfe-3bc4-489d-855d-9a5f611dd363"
      },
      "outputs": [
        {
          "data": {
            "text/plain": [
              "array([74, 80])"
            ]
          },
          "execution_count": 42,
          "metadata": {},
          "output_type": "execute_result"
        }
      ],
      "source": [
        "npy_weight[npy_height>1.75]"
      ]
    },
    {
      "cell_type": "code",
      "execution_count": null,
      "metadata": {
        "id": "POvuME3ruEPr"
      },
      "outputs": [],
      "source": []
    },
    {
      "cell_type": "code",
      "execution_count": null,
      "metadata": {
        "id": "5WZ8CzWCuEPr"
      },
      "outputs": [],
      "source": []
    },
    {
      "cell_type": "code",
      "execution_count": null,
      "metadata": {
        "id": "waAUTG-PuEPr"
      },
      "outputs": [],
      "source": []
    },
    {
      "cell_type": "code",
      "execution_count": null,
      "metadata": {
        "id": "uF3B71wauEPr"
      },
      "outputs": [],
      "source": []
    },
    {
      "cell_type": "code",
      "execution_count": null,
      "metadata": {
        "id": "iTXVdFpEuEPs"
      },
      "outputs": [],
      "source": []
    },
    {
      "cell_type": "code",
      "execution_count": null,
      "metadata": {
        "id": "dt9LIcjmuEPs"
      },
      "outputs": [],
      "source": []
    },
    {
      "cell_type": "code",
      "execution_count": null,
      "metadata": {
        "id": "LCgmHbrVuEPs"
      },
      "outputs": [],
      "source": []
    },
    {
      "cell_type": "code",
      "execution_count": null,
      "metadata": {
        "id": "PL0lbb6NuEPs"
      },
      "outputs": [],
      "source": []
    },
    {
      "cell_type": "code",
      "execution_count": null,
      "metadata": {
        "id": "LmoP3Cp0uEPs"
      },
      "outputs": [],
      "source": []
    }
  ],
  "metadata": {
    "kernelspec": {
      "display_name": "Python 3",
      "language": "python",
      "name": "python3"
    },
    "language_info": {
      "codemirror_mode": {
        "name": "ipython",
        "version": 3
      },
      "file_extension": ".py",
      "mimetype": "text/x-python",
      "name": "python",
      "nbconvert_exporter": "python",
      "pygments_lexer": "ipython3",
      "version": "3.7.4"
    },
    "colab": {
      "provenance": [],
      "include_colab_link": true
    }
  },
  "nbformat": 4,
  "nbformat_minor": 0
}