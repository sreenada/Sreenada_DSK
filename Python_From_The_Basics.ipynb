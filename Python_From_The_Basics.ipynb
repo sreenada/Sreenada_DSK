{
  "cells": [
    {
      "cell_type": "markdown",
      "metadata": {
        "id": "view-in-github",
        "colab_type": "text"
      },
      "source": [
        "<a href=\"https://colab.research.google.com/github/sreenada/Sreenada_DSK/blob/main/Python_From_The_Basics.ipynb\" target=\"_parent\"><img src=\"https://colab.research.google.com/assets/colab-badge.svg\" alt=\"Open In Colab\"/></a>"
      ]
    },
    {
      "cell_type": "markdown",
      "metadata": {
        "id": "isNBZVVEHvjP"
      },
      "source": [
        "# Python Basics Learning Pack"
      ]
    },
    {
      "cell_type": "code",
      "execution_count": null,
      "metadata": {
        "id": "kxQz7x1tHvjR"
      },
      "outputs": [],
      "source": []
    },
    {
      "cell_type": "markdown",
      "metadata": {
        "id": "Okpr1m_jHvjR"
      },
      "source": [
        "#### Refferences\n",
        "https://www.pythoncheatsheet.org/ <br> https://www.w3schools.com/python/default.asp <br> https://www.geeksforgeeks.org/python-tutorial/?ref=leftbar-rightbar <br> https://www.edureka.co/blog/python-tutorial/?utm_source=youtube&utm_campaign=python-tutorial-020617-wr&utm_medium=description\n"
      ]
    },
    {
      "cell_type": "code",
      "execution_count": null,
      "metadata": {
        "id": "ldqAg3smHvjS"
      },
      "outputs": [],
      "source": []
    },
    {
      "cell_type": "markdown",
      "metadata": {
        "id": "xXCxg8uQHvjS"
      },
      "source": [
        "## Day 1"
      ]
    },
    {
      "cell_type": "markdown",
      "metadata": {
        "id": "3O_5ctsgHvjS"
      },
      "source": [
        "### Jupyter Notebook quick help\n",
        "#### m \t\t--> Markdown/comment <br>y \t\t--> code <br> A \t\t--> Insert line above <br>B\t\t --> insert line below <br>dd \t--> delete <br>\"-  \" \t--> bullet <br>z \t\t--> undo <br>f \t\t--> find and replace"
      ]
    },
    {
      "cell_type": "markdown",
      "metadata": {
        "id": "brYTRGc9HvjS"
      },
      "source": [
        "Lets start with printing a text. <br> here the \"\\n\" is used to start a new line while printing"
      ]
    },
    {
      "cell_type": "code",
      "execution_count": null,
      "metadata": {
        "colab": {
          "base_uri": "https://localhost:8080/"
        },
        "id": "BVJjDcxXHvjS",
        "outputId": "f1b4958b-3c9d-4cb5-bd0e-9554f02d0d76"
      },
      "outputs": [
        {
          "output_type": "stream",
          "name": "stdout",
          "text": [
            "Hello there, I'm Darshan. \n",
            "Hope you're doing well :-)\n"
          ]
        }
      ],
      "source": [
        "print(\"Hello there, I'm Darshan. \\nHope you're doing well :-)\")"
      ]
    },
    {
      "cell_type": "code",
      "execution_count": null,
      "metadata": {
        "id": "vr_y4vduHvjT"
      },
      "outputs": [],
      "source": []
    },
    {
      "cell_type": "markdown",
      "metadata": {
        "id": "TIk2rn7dHvjT"
      },
      "source": [
        "Lets see the data types in python"
      ]
    },
    {
      "cell_type": "markdown",
      "metadata": {
        "id": "DNc4JsnpHvjT"
      },
      "source": [
        "#### Python has the following data types built-in by default, in these categories:\n",
        "#### Text Type\t\t:\tstr <br> Numeric Types\t:\tint, float, complex <br>Sequence Types\t:\tlist, tuple, range <br>Mapping Type\t:\tdict <br>Set Types\t\t:\tset, frozenset <br>Boolean Type\t:\tbool <br>Binary Types\t:\tbytes, bytearray, memoryview"
      ]
    },
    {
      "cell_type": "markdown",
      "metadata": {
        "id": "nXdh42nZHvjU"
      },
      "source": [
        "Lets see some basic mathematical functions. <br>\n",
        "so we are assigining some values to few variables."
      ]
    },
    {
      "cell_type": "code",
      "execution_count": null,
      "metadata": {
        "id": "Z_OtIoHGHvjU"
      },
      "outputs": [],
      "source": [
        "a=10\n",
        "b=5\n",
        "c=6\n",
        "d=\"test\""
      ]
    },
    {
      "cell_type": "markdown",
      "metadata": {
        "id": "P-c3nwxyHvjU"
      },
      "source": [
        "lets see what kind of variable is that"
      ]
    },
    {
      "cell_type": "code",
      "execution_count": null,
      "metadata": {
        "colab": {
          "base_uri": "https://localhost:8080/"
        },
        "id": "tgGTUzW7HvjU",
        "outputId": "e8a22c20-2a3a-4202-e3a1-5eda5dd2edf1"
      },
      "outputs": [
        {
          "output_type": "execute_result",
          "data": {
            "text/plain": [
              "int"
            ]
          },
          "metadata": {},
          "execution_count": 3
        }
      ],
      "source": [
        "type(a) ## the command to check its type"
      ]
    },
    {
      "cell_type": "code",
      "execution_count": null,
      "metadata": {
        "colab": {
          "base_uri": "https://localhost:8080/"
        },
        "id": "PlSnfF0oHvjV",
        "outputId": "3f012323-2b5f-4679-9c20-da3e8ed77255"
      },
      "outputs": [
        {
          "output_type": "stream",
          "name": "stdout",
          "text": [
            "a = 10 \n",
            "b = 5 \n",
            "c = 6\n",
            "a+b = 15\n",
            "a-b = 5\n",
            "a/b = 2.0\n",
            "a*b = 50\n",
            "a**b = 100000  || its also called the exponentail function\n",
            "c%b = 1  || it gives the reminder\n"
          ]
        }
      ],
      "source": [
        "print (\"a =\",a,\"\\nb =\",b,\"\\nc =\",c)\n",
        "print(\"a+b =\",a+b)\n",
        "print(\"a-b =\",a-b)\n",
        "print(\"a/b =\",a/b)\n",
        "print(\"a*b =\",a*b)\n",
        "print(\"a**b =\",a**b, \" || its also called the exponentail function\")\n",
        "print(\"c%b =\",c%b, \" || it gives the reminder\")"
      ]
    },
    {
      "cell_type": "code",
      "execution_count": null,
      "metadata": {
        "id": "cuYeHz4bHvjV"
      },
      "outputs": [],
      "source": []
    },
    {
      "cell_type": "markdown",
      "metadata": {
        "id": "itA3ABJiHvjV"
      },
      "source": [
        "### String Operations"
      ]
    },
    {
      "cell_type": "code",
      "execution_count": null,
      "metadata": {
        "colab": {
          "base_uri": "https://localhost:8080/"
        },
        "id": "fAeQyMtnHvjW",
        "outputId": "fd6ef9a4-56e0-4076-e586-8e5f81c8343d"
      },
      "outputs": [
        {
          "name": "stdout",
          "output_type": "stream",
          "text": [
            "Enter First Name\n",
            "Darshan\n",
            "\n",
            "Enter Last Name\n",
            "Sreenath\n"
          ]
        }
      ],
      "source": [
        "#Hardcoding and Dynamic Method  || note: if you want to use hardcoding remove the comment in line 2 and 3\n",
        "print(\"Enter First Name\")\n",
        "name1 = input()\n",
        "print(\"\\nEnter Last Name\")\n",
        "name2 = input()"
      ]
    },
    {
      "cell_type": "code",
      "execution_count": null,
      "metadata": {
        "colab": {
          "base_uri": "https://localhost:8080/"
        },
        "id": "-Wt6FCgzHvjW",
        "outputId": "f445bd32-6e56-4449-e9cc-a82a7cd63d62"
      },
      "outputs": [
        {
          "output_type": "stream",
          "name": "stdout",
          "text": [
            "Darshan Sreenath\n"
          ]
        }
      ],
      "source": [
        "#string concat function\n",
        "print(name1+\" \"+name2)"
      ]
    },
    {
      "cell_type": "code",
      "execution_count": null,
      "metadata": {
        "colab": {
          "base_uri": "https://localhost:8080/",
          "height": 36
        },
        "id": "9c1EIE1VHvjW",
        "outputId": "4fca739f-8fe5-48c7-cb99-78b2a743829d"
      },
      "outputs": [
        {
          "output_type": "execute_result",
          "data": {
            "text/plain": [
              "'DarshanDarshanDarshan'"
            ],
            "application/vnd.google.colaboratory.intrinsic+json": {
              "type": "string"
            }
          },
          "metadata": {},
          "execution_count": 7
        }
      ],
      "source": [
        "#repeating string\n",
        "name1*3"
      ]
    },
    {
      "cell_type": "code",
      "execution_count": null,
      "metadata": {
        "colab": {
          "base_uri": "https://localhost:8080/",
          "height": 36
        },
        "id": "BXLnBr-yHvjW",
        "outputId": "9462f5d6-159c-47ff-9f03-8809ebe3b59d"
      },
      "outputs": [
        {
          "output_type": "execute_result",
          "data": {
            "text/plain": [
              "'Darshan_Sreenath_Darshan_Sreenath_Darshan_Sreenath_'"
            ],
            "application/vnd.google.colaboratory.intrinsic+json": {
              "type": "string"
            }
          },
          "metadata": {},
          "execution_count": 8
        }
      ],
      "source": [
        "(name1+\"_\"+name2+\"_\")*3"
      ]
    },
    {
      "cell_type": "code",
      "execution_count": null,
      "metadata": {
        "colab": {
          "base_uri": "https://localhost:8080/"
        },
        "id": "Sr5xDwNQHvjW",
        "outputId": "9a543c5a-eb48-4421-c67f-0dd14cbd2e6f"
      },
      "outputs": [
        {
          "output_type": "stream",
          "name": "stdout",
          "text": [
            "The contents of Input sentense is :   hello there how are you?        \n",
            "length of sentense is : 34\n",
            "The contents of Input sentense after strip function:   hello there how are you?\n",
            "length of sentense after strip function : 26\n",
            "After lstrip function hello there how are you?        \n",
            "length After lstrip function 32\n",
            "After strip function hello there how are you?\n",
            "length After strip function 24 \n",
            "\n",
            "['', '', 'hello', 'there', 'how', 'are', 'you?', '', '', '', '', '', '', '', ''] \n",
            "\n",
            "['hello', 'there', 'how', 'are', 'you?'] \n",
            "\n",
            "['hello', 'there', 'how', 'are', 'you?'] \n",
            "\n",
            "blah blah blah%%% \n",
            "\n",
            "blah blah blah\n"
          ]
        }
      ],
      "source": [
        "#Removing spaces\n",
        "sentense = \"  hello there how are you?        \"\n",
        "sen =\"blah blah blah%%%\"\n",
        "print(\"The contents of Input sentense is :\" ,sentense)\n",
        "print(\"length of sentense is :\",len(sentense))\n",
        "\n",
        "print(\"The contents of Input sentense after strip function:\", sentense.rstrip())\n",
        "print(\"length of sentense after strip function :\",len(sentense.rstrip()))  ### removing spcae at right side.\n",
        "\n",
        "print(\"After lstrip function\",sentense.lstrip())       ### removing spaces at left side.\n",
        "print(\"length After lstrip function\",len(sentense.lstrip()))\n",
        "\n",
        "\n",
        "print(\"After strip function\",sentense.strip())       ### removing space at both sides.\n",
        "print(\"length After strip function\",len(sentense.strip()),\"\\n\")\n",
        "\n",
        "\n",
        "print(sentense.split(\" \"),\"\\n\")  ### splitting the sentenses into words whereever there is a space.\n",
        "\n",
        "print(sentense.strip().split(\" \"),\"\\n\")  ### removing spaces first, then splitting.\n",
        "\n",
        "new_var = sentense.strip().split(\" \")\n",
        "print(new_var,\"\\n\")\n",
        "\n",
        "print(sen,\"\\n\")\n",
        "print(sen.strip(\"%\"))  ### removing the undesired characters\n"
      ]
    },
    {
      "cell_type": "code",
      "execution_count": null,
      "metadata": {
        "id": "bXy_q3sDHvjX"
      },
      "outputs": [],
      "source": []
    },
    {
      "cell_type": "code",
      "execution_count": null,
      "metadata": {
        "id": "arlftvI5HvjX"
      },
      "outputs": [],
      "source": []
    },
    {
      "cell_type": "code",
      "execution_count": null,
      "metadata": {
        "colab": {
          "base_uri": "https://localhost:8080/"
        },
        "id": "LBY0LRvNHvjX",
        "outputId": "0e4e91b0-f399-4488-d9b0-d7166d3b8bb8"
      },
      "outputs": [
        {
          "output_type": "stream",
          "name": "stdout",
          "text": [
            "What is your name?\n",
            "Sanju\n",
            "It is good to meet you, Sanju\n",
            "It is good to meet you,  Sanju\n",
            "Hi i'm Sanju, It is good to meet you, Darshan Sreenath\n",
            "Hi i'm Darshan Sreenath, It is good to meet you, Sanju\n"
          ]
        }
      ],
      "source": [
        "#Accepting values during runtime\n",
        "print('What is your name?')   # ask for their name\n",
        "myName = input()\n",
        "\n",
        "print('It is good to meet you, {}'.format(myName))\n",
        "##or you can print like\n",
        "\n",
        "print('It is good to meet you, ',myName)\n",
        "\n",
        "#printing multiple vatiables. using name1 and name2 used in the above section\n",
        "\n",
        "print(\"Hi i'm {0}, It is good to meet you, {1} {2}\".format(myName,name1,name2))\n",
        "\n",
        "print(\"Hi i'm {1} {2}, It is good to meet you, {0}\".format(myName,name1,name2))\n"
      ]
    },
    {
      "cell_type": "code",
      "execution_count": null,
      "metadata": {
        "colab": {
          "base_uri": "https://localhost:8080/"
        },
        "id": "IZQ8o_BxHvjX",
        "outputId": "4220a3d8-1bb9-4c72-ec4b-64ecfda1d094"
      },
      "outputs": [
        {
          "output_type": "stream",
          "name": "stdout",
          "text": [
            "Sanju\n"
          ]
        },
        {
          "output_type": "execute_result",
          "data": {
            "text/plain": [
              "6"
            ]
          },
          "metadata": {},
          "execution_count": 11
        }
      ],
      "source": [
        "#length function\n",
        "print(myName)\n",
        "len('myName')"
      ]
    },
    {
      "cell_type": "code",
      "execution_count": null,
      "metadata": {
        "colab": {
          "base_uri": "https://localhost:8080/"
        },
        "id": "zrIZ-_jJHvjX",
        "outputId": "b6357f2e-c026-46a2-ab56-8c21ed85e2ad"
      },
      "outputs": [
        {
          "output_type": "stream",
          "name": "stdout",
          "text": [
            "10\n",
            "<class 'int'>\n",
            "10\n",
            "<class 'str'>\n"
          ]
        }
      ],
      "source": [
        "#converting integer or any other data type to string.\n",
        "print(a)\n",
        "print(type(a))\n",
        "print(str(a))\n",
        "print(type(str(a)))"
      ]
    },
    {
      "cell_type": "code",
      "execution_count": null,
      "metadata": {
        "colab": {
          "base_uri": "https://localhost:8080/",
          "height": 36
        },
        "id": "6JKLYuVUHvjY",
        "outputId": "8fbd2a6d-4989-4c67-8157-90cfb1545520"
      },
      "outputs": [
        {
          "output_type": "execute_result",
          "data": {
            "text/plain": [
              "'-3.14'"
            ],
            "application/vnd.google.colaboratory.intrinsic+json": {
              "type": "string"
            }
          },
          "metadata": {},
          "execution_count": 13
        }
      ],
      "source": [
        "str(-3.14)"
      ]
    },
    {
      "cell_type": "code",
      "execution_count": null,
      "metadata": {
        "id": "4XBQrXAQHvjY"
      },
      "outputs": [],
      "source": []
    },
    {
      "cell_type": "markdown",
      "metadata": {
        "id": "MkfVx0leHvjY"
      },
      "source": [
        "### Boolean Operations"
      ]
    },
    {
      "cell_type": "code",
      "execution_count": null,
      "metadata": {
        "colab": {
          "base_uri": "https://localhost:8080/"
        },
        "id": "7FRIE7X8HvjY",
        "outputId": "88885480-1bf2-4147-8fc8-b0a09e930d96"
      },
      "outputs": [
        {
          "output_type": "execute_result",
          "data": {
            "text/plain": [
              "True"
            ]
          },
          "metadata": {},
          "execution_count": 14
        }
      ],
      "source": [
        "5 > 3"
      ]
    },
    {
      "cell_type": "code",
      "execution_count": null,
      "metadata": {
        "colab": {
          "base_uri": "https://localhost:8080/"
        },
        "id": "30tUZvgiHvjY",
        "outputId": "8b018efa-d94a-4b47-f30c-d6fe3e332d04"
      },
      "outputs": [
        {
          "output_type": "execute_result",
          "data": {
            "text/plain": [
              "False"
            ]
          },
          "metadata": {},
          "execution_count": 15
        }
      ],
      "source": [
        "42 == '42'"
      ]
    },
    {
      "cell_type": "code",
      "execution_count": null,
      "metadata": {
        "colab": {
          "base_uri": "https://localhost:8080/"
        },
        "id": "TLULiPBuHvjY",
        "outputId": "a64ef290-91ad-48db-f7c9-13dac4472a09"
      },
      "outputs": [
        {
          "output_type": "execute_result",
          "data": {
            "text/plain": [
              "True"
            ]
          },
          "metadata": {},
          "execution_count": 16
        }
      ],
      "source": [
        "(4 < 5) and (5 < 6)"
      ]
    },
    {
      "cell_type": "code",
      "execution_count": null,
      "metadata": {
        "colab": {
          "base_uri": "https://localhost:8080/"
        },
        "id": "TTMw6WiXHvjY",
        "outputId": "aeedc02c-1f39-4dfd-aa56-a5fad59befa5"
      },
      "outputs": [
        {
          "output_type": "execute_result",
          "data": {
            "text/plain": [
              "True"
            ]
          },
          "metadata": {},
          "execution_count": 17
        }
      ],
      "source": [
        "2 + 2 == 4 and not 2 + 2 == 5 and 2 * 2 == 2 + 2\n",
        "\n",
        "#(2 + 2 == 4) and (not (2 + 2 == 5)) and (2 * 2 == 2 + 2)"
      ]
    },
    {
      "cell_type": "code",
      "execution_count": null,
      "metadata": {
        "id": "ClAAy3XjHvjZ"
      },
      "outputs": [],
      "source": []
    },
    {
      "cell_type": "markdown",
      "metadata": {
        "id": "nJCPIG6EHvjZ"
      },
      "source": [
        "### Increment/Decrement Operations"
      ]
    },
    {
      "cell_type": "code",
      "execution_count": null,
      "metadata": {
        "colab": {
          "base_uri": "https://localhost:8080/"
        },
        "id": "a8gTUP1hHvjZ",
        "outputId": "d92c2576-e82d-4da4-c044-f2846afb12d3",
        "scrolled": true
      },
      "outputs": [
        {
          "output_type": "stream",
          "name": "stdout",
          "text": [
            "ogiginal inc 9\n"
          ]
        }
      ],
      "source": [
        "### Increment/Decrement Operations\n",
        "\n",
        "inc=9\n",
        "print(\"ogiginal inc\",inc)"
      ]
    },
    {
      "cell_type": "code",
      "execution_count": null,
      "metadata": {
        "colab": {
          "base_uri": "https://localhost:8080/"
        },
        "id": "PX41_6oUHvjZ",
        "outputId": "2a4fc911-24cc-4e24-bc53-1c3cba36cb3b"
      },
      "outputs": [
        {
          "output_type": "stream",
          "name": "stdout",
          "text": [
            "enter a sample number\n",
            "87\n",
            "ogiginal inc 87\n",
            "updated/incremented inc 90\n",
            "updated/decremented inc 85\n"
          ]
        }
      ],
      "source": [
        "### Increment/Decrement Operations\n",
        "print(\"enter a sample number\")\n",
        "#inc=9\n",
        "inc=int(input())\n",
        "print(\"ogiginal inc\",inc)\n",
        "\n",
        "inc+=3 ## it is equivalent to inc=inc+3\n",
        "print(\"updated/incremented inc\",inc)\n",
        "\n",
        "inc-=5  ## it is equivalent to inc=inc-5\n",
        "print(\"updated/decremented inc\",inc)"
      ]
    },
    {
      "cell_type": "code",
      "execution_count": null,
      "metadata": {
        "id": "OX8T1f30Hvja"
      },
      "outputs": [],
      "source": []
    },
    {
      "cell_type": "markdown",
      "metadata": {
        "id": "of3rvc0cHvja"
      },
      "source": [
        "### More string opeations"
      ]
    },
    {
      "cell_type": "code",
      "execution_count": null,
      "metadata": {
        "colab": {
          "base_uri": "https://localhost:8080/"
        },
        "id": "trXQ9zgdHvja",
        "outputId": "a00d99b1-7a4a-4bf5-c985-09702302623a"
      },
      "outputs": [
        {
          "output_type": "stream",
          "name": "stdout",
          "text": [
            "7 Apples\n",
            "0th Location : 7\n",
            "5th Location : l\n",
            "2nd Location : A\n",
            "0th to 4th Location : 7 App\n",
            "note : when giving range it takes n-1 value for the upper limit\n",
            "Hope you got the idea by now\n"
          ]
        }
      ],
      "source": [
        "m_str_ops =\"7 Apples\"\n",
        "print(m_str_ops)\n",
        "print(\"0th Location :\",m_str_ops[0])\n",
        "print(\"5th Location :\",m_str_ops[5])\n",
        "print(\"2nd Location :\",m_str_ops[2])\n",
        "\n",
        "print(\"0th to 4th Location :\",m_str_ops[0:5])\n",
        "print(\"note : when giving range it takes n-1 value for the upper limit\")\n",
        "\n",
        "print(\"Hope you got the idea by now\")"
      ]
    },
    {
      "cell_type": "code",
      "execution_count": null,
      "metadata": {
        "colab": {
          "base_uri": "https://localhost:8080/",
          "height": 157
        },
        "id": "tO6pT3-hHvjb",
        "outputId": "1b825b54-5264-4da4-ce12-5f56d673a4aa"
      },
      "outputs": [
        {
          "output_type": "stream",
          "name": "stdout",
          "text": [
            "Hello there, How are you?\n",
            "<class 'str'>\n",
            "splitting the sentense by ',' into a list \n",
            "['Hello there', ' How are you?']\n",
            "<class 'list'>\n",
            "\n",
            "Rejoining the splitted words\n"
          ]
        },
        {
          "output_type": "execute_result",
          "data": {
            "text/plain": [
              "'Hello there, How are you?'"
            ],
            "application/vnd.google.colaboratory.intrinsic+json": {
              "type": "string"
            }
          },
          "metadata": {},
          "execution_count": 21
        }
      ],
      "source": [
        "#Split and Join\n",
        "\n",
        "my_words=\"Hello there, How are you?\"\n",
        "print(my_words)\n",
        "print(type(my_words))\n",
        "\n",
        "print(\"splitting the sentense by ',' into a list \")\n",
        "my_words_split=my_words.split(',')\n",
        "\n",
        "\n",
        "print(my_words_split)\n",
        "print(type(my_words_split))\n",
        "\n",
        "print(\"\\nRejoining the splitted words\")\n",
        "#print(\" \".join(my_words_split))\n",
        "\",\".join(my_words_split)"
      ]
    },
    {
      "cell_type": "markdown",
      "metadata": {
        "id": "BKecCXC2Hvjb"
      },
      "source": [
        "## Data Structures"
      ]
    },
    {
      "cell_type": "markdown",
      "metadata": {
        "id": "MbSuKCg0Hvjb"
      },
      "source": [
        "#### The data structure available in python are as follows\n",
        "List <br> Tuples <br> Dictonary and <br> Sets"
      ]
    },
    {
      "cell_type": "markdown",
      "metadata": {
        "id": "V_aZSLLdHvjb"
      },
      "source": [
        "#### List\n",
        "List (denoted by square brackets) <br>\n",
        "elements can be a character, a string or even be a list."
      ]
    },
    {
      "cell_type": "code",
      "execution_count": null,
      "metadata": {
        "colab": {
          "base_uri": "https://localhost:8080/"
        },
        "id": "aJUGUYt5Hvjb",
        "outputId": "b2569e62-2781-4a5c-ad10-413645a3af85"
      },
      "outputs": [
        {
          "output_type": "stream",
          "name": "stdout",
          "text": [
            "['python', 'R', 'SAS', 'BLAH', 'BLAH2', 'C', 'C++', 'Scala', 42]\n",
            "indexing examples\n",
            "0th elemet python\n",
            "2nd element SAS\n",
            "0-3rd element ['python', 'R', 'SAS', 'BLAH']\n",
            "here the count start from 0, and to get to 3rd element we need to follow the rule n+1\n",
            "i.e to get to 3rd we have give 0:4\n"
          ]
        }
      ],
      "source": [
        "trial_list =[]\n",
        "da_lang = ['python','R','SAS','BLAH','BLAH2','C','C++','Scala',42]\n",
        "\n",
        "print(da_lang)\n",
        "\n",
        "#indexing, similar as above.\n",
        "print(\"indexing examples\")\n",
        "print(\"0th elemet\",da_lang[0])\n",
        "print(\"2nd element\",da_lang[2])\n",
        "\n",
        "print(\"0-3rd element\",da_lang[0:4])\n",
        "print(\"here the count start from 0, and to get to 3rd element we need to follow the rule n+1\")\n",
        "print(\"i.e to get to 3rd we have give 0:4\")"
      ]
    },
    {
      "cell_type": "code",
      "execution_count": null,
      "metadata": {
        "colab": {
          "base_uri": "https://localhost:8080/"
        },
        "id": "WvqfWLvrHvjc",
        "outputId": "98c344bb-c2cc-449f-a56d-1a748a3f0d6f"
      },
      "outputs": [
        {
          "output_type": "stream",
          "name": "stdout",
          "text": [
            "removing 42 from the da_lang list, with command da_lang.pop()\n",
            "['python', 'R', 'SAS', 'BLAH', 'BLAH2', 'C', 'C++', 'Scala']\n",
            "Note : if you keep on running this again and again, it'll keep on deleting the last element form the list\n",
            "pls give it a try, when you get error pls execute the line above to recreate the list\n"
          ]
        }
      ],
      "source": [
        "#functions in a list.\n",
        "#pop split join append\n",
        "\n",
        "print(\"removing 42 from the da_lang list, with command da_lang.pop()\")\n",
        "da_lang.pop() ## it deletes the last element.\n",
        "print(da_lang)\n",
        "print(\"Note : if you keep on running this again and again, it'll keep on deleting the last element form the list\")\n",
        "print(\"pls give it a try, when you get error pls execute the line above to recreate the list\")"
      ]
    },
    {
      "cell_type": "code",
      "execution_count": null,
      "metadata": {
        "colab": {
          "base_uri": "https://localhost:8080/"
        },
        "id": "gKEIGcPWHvjc",
        "outputId": "919822bf-97a8-47ec-dcef-d6f2dc1a6377"
      },
      "outputs": [
        {
          "output_type": "stream",
          "name": "stdout",
          "text": [
            "['python', 'R', 'SAS', 'BLAH2', 'C', 'C++', 'Scala']\n"
          ]
        }
      ],
      "source": [
        "#to remove an element has two options\n",
        "# 1) if you know the location we can use pop() function\n",
        "# 2) if you know the data content we can use remove function\n",
        "#example da_lang.remove('BLAH')\n",
        "da_lang.remove('BLAH')\n",
        "print(da_lang)"
      ]
    },
    {
      "cell_type": "code",
      "execution_count": null,
      "metadata": {
        "colab": {
          "base_uri": "https://localhost:8080/"
        },
        "id": "ddm3vogrHvjc",
        "outputId": "46420c30-39e6-45e2-90dc-b7feb1eaea9b"
      },
      "outputs": [
        {
          "output_type": "stream",
          "name": "stdout",
          "text": [
            "to remove the word blah2 for the list, its at location 3, Soooo\n",
            "['python', 'R', 'SAS', 'C', 'C++', 'Scala']\n"
          ]
        }
      ],
      "source": [
        "#to remove specific value form a list.\n",
        "\n",
        "print(\"to remove the word blah2 for the list, its at location 3, Soooo\")\n",
        "da_lang.pop(3)\n",
        "print(da_lang)\n"
      ]
    },
    {
      "cell_type": "code",
      "execution_count": null,
      "metadata": {
        "colab": {
          "base_uri": "https://localhost:8080/"
        },
        "id": "G5S2NUSBHvjc",
        "outputId": "bca687a9-2101-4b87-9d5a-333091d06063"
      },
      "outputs": [
        {
          "output_type": "stream",
          "name": "stdout",
          "text": [
            "Adding a new language (Ruby) to the list, \n",
            "['python', 'R', 'SAS', 'C', 'C++', 'Scala', 'Ruby']\n"
          ]
        }
      ],
      "source": [
        "#to add to the list at the end\n",
        "print(\"Adding a new language (Ruby) to the list, \")\n",
        "da_lang.append(\"Ruby\")\n",
        "print(da_lang)"
      ]
    },
    {
      "cell_type": "code",
      "execution_count": null,
      "metadata": {
        "colab": {
          "base_uri": "https://localhost:8080/"
        },
        "id": "qssCYCJtHvjd",
        "outputId": "d27d12bc-945f-4f65-80f3-240a1a3de657"
      },
      "outputs": [
        {
          "output_type": "stream",
          "name": "stdout",
          "text": [
            "['python', 'R', 'SAS', 'C', 'C++', 'Scala', 'Ruby']\n",
            "['English', 'python', 'R', 'SAS', 'C', 'C++', 'Scala', 'Ruby']\n"
          ]
        }
      ],
      "source": [
        "#adding to any specific location\n",
        "print(da_lang)\n",
        "da_lang.insert(0,'English')  ###inserting the word English at 0th Location\n",
        "print(da_lang)\n"
      ]
    },
    {
      "cell_type": "code",
      "execution_count": null,
      "metadata": {
        "colab": {
          "base_uri": "https://localhost:8080/"
        },
        "id": "OznvQgtZHvjd",
        "outputId": "66642190-c3e6-4f1a-bfc0-e31e7cd5e5d2"
      },
      "outputs": [
        {
          "output_type": "stream",
          "name": "stdout",
          "text": [
            "Before \n",
            " ['English', 'python', 'R', 'SAS', 'C', 'C++', 'Scala', 'Ruby']\n",
            "\n",
            "After\n",
            " ['Malayalam', 'python', 'R', 'SAS', 'C', 'C++', 'Scala', 'Ruby']\n"
          ]
        }
      ],
      "source": [
        "#Updating the values of the list\n",
        "#Changing English to Malayalam\n",
        "\n",
        "print(\"Before \\n\",da_lang)\n",
        "da_lang[0]='Malayalam'\n",
        "print(\"\\nAfter\\n\",da_lang)"
      ]
    },
    {
      "cell_type": "code",
      "execution_count": null,
      "metadata": {
        "colab": {
          "base_uri": "https://localhost:8080/"
        },
        "id": "dtNbkmELHvjd",
        "outputId": "7a082d1c-c26c-403b-94ee-c719212d03f4"
      },
      "outputs": [
        {
          "output_type": "stream",
          "name": "stdout",
          "text": [
            "[3, 8, 12, 5, 9]\n",
            "sorted nums [3, 5, 8, 9, 12]\n",
            "length of nums 5\n",
            "max of nums 12\n",
            "min of nums 3\n"
          ]
        }
      ],
      "source": [
        "#Numeric operations in list\n",
        "\n",
        "nums=[3,8,12,5,9]\n",
        "print(nums)\n",
        "print(\"sorted nums\",sorted(nums))\n",
        "print(\"length of nums\",len(nums))\n",
        "print(\"max of nums\",max(nums))\n",
        "print(\"min of nums\",min(nums))"
      ]
    },
    {
      "cell_type": "code",
      "execution_count": null,
      "metadata": {
        "colab": {
          "base_uri": "https://localhost:8080/"
        },
        "id": "cfyNPuAsHvjd",
        "outputId": "0beed6a5-a405-4e0f-810c-4f5847a931c0"
      },
      "outputs": [
        {
          "output_type": "stream",
          "name": "stdout",
          "text": [
            "Nested List: [[1, 2, 3], [4, 5, 6]]\n"
          ]
        },
        {
          "output_type": "execute_result",
          "data": {
            "text/plain": [
              "5"
            ]
          },
          "metadata": {},
          "execution_count": 30
        }
      ],
      "source": [
        "#nested list\n",
        "nest_list = [[1,2,3],[4,5,6]]\n",
        "print(\"Nested List:\",nest_list)\n",
        "\n",
        "nest_list[1][1]\n"
      ]
    },
    {
      "cell_type": "code",
      "execution_count": null,
      "metadata": {
        "id": "nmKor0uLHvje"
      },
      "outputs": [],
      "source": []
    },
    {
      "cell_type": "markdown",
      "metadata": {
        "id": "lAYNEdwfHvje"
      },
      "source": [
        "### Tuples"
      ]
    },
    {
      "cell_type": "markdown",
      "metadata": {
        "id": "8Bizn2IdHvje"
      },
      "source": [
        "it is very much similar to list, but it cannot be edited <br> so pop append insert etc functions will not work in tuples\n",
        "it is denoted by () brackets"
      ]
    },
    {
      "cell_type": "code",
      "execution_count": null,
      "metadata": {
        "colab": {
          "base_uri": "https://localhost:8080/"
        },
        "id": "X_-VaKQwHvje",
        "outputId": "3eb90d70-810f-4835-d4c8-10a7d00b95bd"
      },
      "outputs": [
        {
          "output_type": "stream",
          "name": "stdout",
          "text": [
            "('a', 'b', 'c')\n",
            "<class 'tuple'>\n"
          ]
        }
      ],
      "source": [
        "tup=(\"a\",\"b\",\"c\")\n",
        "print(tup)\n",
        "print(type(tup))"
      ]
    },
    {
      "cell_type": "code",
      "execution_count": null,
      "metadata": {
        "id": "C5m8mvwQHvje"
      },
      "outputs": [],
      "source": [
        "# to change a tuple to a list\n",
        "da_tup = list(tup)"
      ]
    },
    {
      "cell_type": "code",
      "execution_count": null,
      "metadata": {
        "colab": {
          "base_uri": "https://localhost:8080/"
        },
        "id": "Wp7XylfEHvje",
        "outputId": "653a806f-2485-4adf-e312-110090a67a0a"
      },
      "outputs": [
        {
          "output_type": "execute_result",
          "data": {
            "text/plain": [
              "list"
            ]
          },
          "metadata": {},
          "execution_count": 33
        }
      ],
      "source": [
        "type(da_tup)"
      ]
    },
    {
      "cell_type": "code",
      "execution_count": null,
      "metadata": {
        "colab": {
          "base_uri": "https://localhost:8080/"
        },
        "id": "58qOKC7fHvjf",
        "outputId": "2086935a-9629-4614-b815-020a7b1eb195"
      },
      "outputs": [
        {
          "output_type": "execute_result",
          "data": {
            "text/plain": [
              "tuple"
            ]
          },
          "metadata": {},
          "execution_count": 34
        }
      ],
      "source": [
        "#to convet a list to a tuple\n",
        "tup_2 = tuple(da_tup)\n",
        "type(tup_2)"
      ]
    },
    {
      "cell_type": "code",
      "execution_count": null,
      "metadata": {
        "id": "1BTMmsVMHvjf"
      },
      "outputs": [],
      "source": []
    },
    {
      "cell_type": "markdown",
      "metadata": {
        "id": "CBtkeIY5Hvjf"
      },
      "source": [
        "### Dictionary"
      ]
    },
    {
      "cell_type": "markdown",
      "metadata": {
        "id": "hI11G0YMHvjf"
      },
      "source": [
        "Data is stored in a key value pair, for example <br> roll no 1 : ram <br> roll no 2 : pavi <br> roll no 3 : ravi <br>\n",
        "so when roll no 2 is called its corresponding value is retrived and used."
      ]
    },
    {
      "cell_type": "code",
      "execution_count": null,
      "metadata": {
        "colab": {
          "base_uri": "https://localhost:8080/"
        },
        "id": "wPZ3T3fRHvjf",
        "outputId": "599c0157-dd33-4cd3-c72c-e8c25904d62c"
      },
      "outputs": [
        {
          "output_type": "stream",
          "name": "stdout",
          "text": [
            "{'user_1': 'London', 'user_2': 'Lisbon', 'user_3': 'Paris'}\n"
          ]
        }
      ],
      "source": [
        "creds = {'user_1' : 'London', 'user_2' : 'Lisbon', 'user_3': 'Paris'}\n",
        "print(creds)"
      ]
    },
    {
      "cell_type": "code",
      "execution_count": null,
      "metadata": {
        "colab": {
          "base_uri": "https://localhost:8080/"
        },
        "id": "s1_MFkIPHvjg",
        "outputId": "1c1f88f6-1938-4683-e8e7-2fcbb71575f5"
      },
      "outputs": [
        {
          "output_type": "stream",
          "name": "stdout",
          "text": [
            "Lisbon\n"
          ]
        }
      ],
      "source": [
        "print(creds['user_2'])"
      ]
    },
    {
      "cell_type": "markdown",
      "metadata": {
        "id": "KGikueBlHvjg"
      },
      "source": [
        "#### Nested Dictonary"
      ]
    },
    {
      "cell_type": "code",
      "execution_count": null,
      "metadata": {
        "id": "rWgF5raVHvjg"
      },
      "outputs": [],
      "source": [
        "myfamily = {\n",
        "  \"child1\" : {\n",
        "    \"name\" : \"Emil\",\n",
        "    \"year\" : 2004\n",
        "  },\n",
        "  \"child2\" : {\n",
        "    \"name\" : \"Tobias\",\n",
        "    \"year\" : 2007\n",
        "  },\n",
        "  \"child3\" : {\n",
        "    \"name\" : \"Linus\",\n",
        "    \"year\" : 2011\n",
        "  }\n",
        "}\n"
      ]
    },
    {
      "cell_type": "code",
      "execution_count": null,
      "metadata": {
        "colab": {
          "base_uri": "https://localhost:8080/"
        },
        "id": "52PNrDox3Ga7",
        "outputId": "9c72e036-93a0-4fb6-89d7-1eb75a926140"
      },
      "outputs": [
        {
          "output_type": "stream",
          "name": "stdout",
          "text": [
            "{'child1': {'name': 'Emil', 'year': 2004}, 'child2': {'name': 'Tobias', 'year': 2007}, 'child3': {'name': 'Linus', 'year': 2011}}\n"
          ]
        }
      ],
      "source": [
        "print(myfamily)"
      ]
    },
    {
      "cell_type": "code",
      "execution_count": null,
      "metadata": {
        "colab": {
          "base_uri": "https://localhost:8080/"
        },
        "id": "6hn9kRBdHvjg",
        "outputId": "4fec38dc-66d7-4796-80a9-55729d40cf7b"
      },
      "outputs": [
        {
          "output_type": "execute_result",
          "data": {
            "text/plain": [
              "2004"
            ]
          },
          "metadata": {},
          "execution_count": 39
        }
      ],
      "source": [
        "myfamily[\"child1\"][\"year\"]"
      ]
    },
    {
      "cell_type": "code",
      "execution_count": null,
      "metadata": {
        "colab": {
          "base_uri": "https://localhost:8080/",
          "height": 36
        },
        "id": "Izl-tJi8Hvjg",
        "outputId": "5d62bb8f-fd42-4edc-ac9a-0f266e759aa0"
      },
      "outputs": [
        {
          "output_type": "execute_result",
          "data": {
            "text/plain": [
              "'Emil'"
            ],
            "application/vnd.google.colaboratory.intrinsic+json": {
              "type": "string"
            }
          },
          "metadata": {},
          "execution_count": 40
        }
      ],
      "source": [
        "myfamily.get(\"child1\").get(\"name\")"
      ]
    },
    {
      "cell_type": "code",
      "execution_count": null,
      "metadata": {
        "colab": {
          "base_uri": "https://localhost:8080/"
        },
        "id": "fzdYKRzhHvjg",
        "outputId": "7fd3b3c7-68fd-4531-bed6-43a2f1638537"
      },
      "outputs": [
        {
          "output_type": "stream",
          "name": "stdout",
          "text": [
            "2004\n"
          ]
        }
      ],
      "source": [
        "print(myfamily[\"child1\"][\"year\"])"
      ]
    },
    {
      "cell_type": "markdown",
      "metadata": {
        "id": "5_292cdAHvjh"
      },
      "source": [
        "### Sets"
      ]
    },
    {
      "cell_type": "markdown",
      "metadata": {
        "id": "BRb-Vkb2Hvjh"
      },
      "source": [
        "set is an unordered collection of unique elements."
      ]
    },
    {
      "cell_type": "code",
      "execution_count": null,
      "metadata": {
        "colab": {
          "base_uri": "https://localhost:8080/"
        },
        "id": "U6wIcPqZHvjh",
        "outputId": "8f1bba57-4d09-4d24-be49-fb6699546efd"
      },
      "outputs": [
        {
          "output_type": "stream",
          "name": "stdout",
          "text": [
            "<class 'list'>\n",
            "\n",
            " {1, 2, 3, 4, 5, 6}\n",
            "<class 'set'>\n",
            "\n",
            " {1, 2, 5, 6, 7, 9, 10}\n",
            "<class 'set'>\n"
          ]
        }
      ],
      "source": [
        "seta = [1,2,3,1,2,5,4,6]\n",
        "setb = [7,5,5,6,1,2,9,10]\n",
        "print(type(seta))\n",
        "set_a =set(seta)\n",
        "set_b =set(setb)\n",
        "\n",
        "print(\"\\n\",set_a)\n",
        "print(type(set_a))\n",
        "\n",
        "print(\"\\n\",set_b)\n",
        "print(type(set_b))\n"
      ]
    },
    {
      "cell_type": "markdown",
      "metadata": {
        "id": "xLLC53hg3wXt"
      },
      "source": [
        "### Note: A set cannot have duplicates."
      ]
    },
    {
      "cell_type": "code",
      "execution_count": null,
      "metadata": {
        "colab": {
          "base_uri": "https://localhost:8080/"
        },
        "id": "2GBOI-A1Hvjh",
        "outputId": "00d4a46f-9d57-4770-8c92-d06b942a4187"
      },
      "outputs": [
        {
          "output_type": "execute_result",
          "data": {
            "text/plain": [
              "{3, 4}"
            ]
          },
          "metadata": {},
          "execution_count": 43
        }
      ],
      "source": [
        "#what are all the elements present in set_a and not in set_b\n",
        "set_a.difference(set_b)"
      ]
    },
    {
      "cell_type": "code",
      "execution_count": null,
      "metadata": {
        "colab": {
          "base_uri": "https://localhost:8080/"
        },
        "id": "REx4GjDXHvjh",
        "outputId": "e3ec7a48-9c85-4d4f-86c3-e843c43aef24"
      },
      "outputs": [
        {
          "output_type": "execute_result",
          "data": {
            "text/plain": [
              "{1, 2, 3, 4, 5, 6, 7, 9, 10}"
            ]
          },
          "metadata": {},
          "execution_count": 44
        }
      ],
      "source": [
        "#combining both the sets together\n",
        "set_a.union(set_b)"
      ]
    },
    {
      "cell_type": "code",
      "execution_count": null,
      "metadata": {
        "colab": {
          "base_uri": "https://localhost:8080/"
        },
        "id": "jLUhayz4Hvji",
        "outputId": "c3f6def3-6e30-4bf2-b69c-e500779825d4"
      },
      "outputs": [
        {
          "output_type": "execute_result",
          "data": {
            "text/plain": [
              "{1, 2, 5, 6}"
            ]
          },
          "metadata": {},
          "execution_count": 45
        }
      ],
      "source": [
        "#inetsection  --> it prints out the common in  both\n",
        "set_a.intersection(set_b)"
      ]
    },
    {
      "cell_type": "code",
      "execution_count": null,
      "metadata": {
        "colab": {
          "base_uri": "https://localhost:8080/"
        },
        "id": "u6ucZY4VHvji",
        "outputId": "9a5dd896-013f-45fa-f8d7-b7d2b3750ca3"
      },
      "outputs": [
        {
          "output_type": "stream",
          "name": "stdout",
          "text": [
            "{1, 2, 5, 6, 7, 9, 10}\n"
          ]
        }
      ],
      "source": [
        "#inetsection update --> update the result form intersection to seta || inshort replace seta with the  intersection value.\n",
        "set_a.intersection_update(set_b)\n",
        "print(set_b)"
      ]
    },
    {
      "cell_type": "code",
      "execution_count": null,
      "metadata": {
        "colab": {
          "base_uri": "https://localhost:8080/"
        },
        "id": "8oci3QefHvji",
        "outputId": "35db917a-5ac4-446c-b662-8ec48f045a7d"
      },
      "outputs": [
        {
          "output_type": "execute_result",
          "data": {
            "text/plain": [
              "{1, 2, 5, 6}"
            ]
          },
          "metadata": {},
          "execution_count": 47
        }
      ],
      "source": [
        "set_a"
      ]
    },
    {
      "cell_type": "code",
      "execution_count": null,
      "metadata": {
        "id": "DJvGpt7FHvji"
      },
      "outputs": [],
      "source": []
    },
    {
      "cell_type": "markdown",
      "metadata": {
        "id": "gySo5SLFHvjj"
      },
      "source": [
        "## Day 2"
      ]
    },
    {
      "cell_type": "markdown",
      "metadata": {
        "id": "Ghtlj7eTHvjj"
      },
      "source": [
        "### Conditions - If Else Statement"
      ]
    },
    {
      "cell_type": "markdown",
      "metadata": {
        "id": "psPaIxIPHvjj"
      },
      "source": [
        "the 3 statemensts are<br>1) if <br> 2) else <br> 3) elif --> else-if"
      ]
    },
    {
      "cell_type": "code",
      "execution_count": null,
      "metadata": {
        "colab": {
          "base_uri": "https://localhost:8080/"
        },
        "id": "9q6m21T1Hvjj",
        "outputId": "2b688949-dde1-4028-d47c-ce0dff551eaf"
      },
      "outputs": [
        {
          "name": "stdout",
          "output_type": "stream",
          "text": [
            "enter a value for score between 0-100\n",
            "79\n"
          ]
        }
      ],
      "source": [
        "#eg\n",
        "print(\"enter a value for score between 0-100\")\n",
        "score =int(input())"
      ]
    },
    {
      "cell_type": "code",
      "execution_count": null,
      "metadata": {
        "colab": {
          "base_uri": "https://localhost:8080/"
        },
        "id": "q7dv7uYOHvjj",
        "outputId": "68aa4ac1-79cd-4453-ed13-692e32b2b3b4"
      },
      "outputs": [
        {
          "output_type": "stream",
          "name": "stdout",
          "text": [
            "First Class\n"
          ]
        }
      ],
      "source": [
        "if score == 100:\n",
        "    print(\"Perfect\")\n",
        "elif 85<=score<100 :\n",
        "    print(\"Distinction\")\n",
        "elif 70<=score<85 :\n",
        "    print(\"First Class\")\n",
        "elif 55<=score<70 :\n",
        "    print(\"Second Class\")\n",
        "elif 40<=score<45 :\n",
        "    print(\"Third Class\")\n",
        "else :\n",
        "    print(\"Failed\")"
      ]
    },
    {
      "cell_type": "markdown",
      "metadata": {
        "id": "EE5zQj8PHvjj"
      },
      "source": [
        "#### Multiple statements in a single line."
      ]
    },
    {
      "cell_type": "code",
      "execution_count": null,
      "metadata": {
        "colab": {
          "base_uri": "https://localhost:8080/"
        },
        "id": "yxbxYOguHvjk",
        "outputId": "f049e4ac-056f-4370-98c9-1b03c3324d32"
      },
      "outputs": [
        {
          "output_type": "stream",
          "name": "stdout",
          "text": [
            "ER1\n"
          ]
        }
      ],
      "source": [
        "ER0 = 330\n",
        "ER1 = 350\n",
        "print(\"ER0\") if ER0 > ER1 else print(\"=\") if ER0 == ER1 else print(\"ER1\")"
      ]
    },
    {
      "cell_type": "markdown",
      "metadata": {
        "id": "LZa-gPb8Hvjk"
      },
      "source": [
        "### Looping Statements"
      ]
    },
    {
      "cell_type": "markdown",
      "metadata": {
        "id": "sWBzIgN7Hvjk"
      },
      "source": [
        "##### For Loop"
      ]
    },
    {
      "cell_type": "code",
      "execution_count": null,
      "metadata": {
        "colab": {
          "base_uri": "https://localhost:8080/"
        },
        "id": "bHRck9pBHvjk",
        "outputId": "d406d1ee-a8f7-4f94-ecc5-49c3f9937afc"
      },
      "outputs": [
        {
          "output_type": "stream",
          "name": "stdout",
          "text": [
            "0\n",
            "3\n",
            "6\n",
            "9\n",
            "12\n",
            "15\n",
            "18\n",
            "21\n",
            "24\n",
            "27\n",
            "30\n"
          ]
        }
      ],
      "source": [
        "#here in (0,31,3) || 0 --> starting ; 31 --> Ending ; 3 --> increment\n",
        "for i in range(0,31,3):\n",
        "    print(i)"
      ]
    },
    {
      "cell_type": "markdown",
      "metadata": {
        "id": "ZHku8s3CHvjk"
      },
      "source": [
        "##### While Loop"
      ]
    },
    {
      "cell_type": "code",
      "execution_count": null,
      "metadata": {
        "colab": {
          "base_uri": "https://localhost:8080/"
        },
        "id": "tklopmkVHvjk",
        "outputId": "7e29b35d-60a2-4ef5-e54c-733745e36a49"
      },
      "outputs": [
        {
          "output_type": "stream",
          "name": "stdout",
          "text": [
            "25\n",
            "30\n",
            "35\n",
            "40\n",
            "45\n",
            "50\n",
            "55\n",
            "the total value is: 245\n"
          ]
        }
      ],
      "source": [
        "#While Loop  || No predefined execution limit\n",
        "start =20;\n",
        "total =0;\n",
        "\n",
        "while start<=50 :\n",
        "    total+=start\n",
        "    start+=5\n",
        "    print(start)  ### till here is the body of the while loop function.\n",
        "######end of loop\n",
        "print(\"the total value is:\",total)"
      ]
    },
    {
      "cell_type": "markdown",
      "metadata": {
        "id": "EowtYcIbHvjl"
      },
      "source": [
        "### Nested Loops"
      ]
    },
    {
      "cell_type": "markdown",
      "metadata": {
        "id": "MrZDSmpkHvjl"
      },
      "source": [
        "A nested loop is a loop inside a loop. <br>\n",
        "The \"inner loop\" will be executed one time for each iteration of the \"outer loop\":"
      ]
    },
    {
      "cell_type": "code",
      "execution_count": null,
      "metadata": {
        "colab": {
          "base_uri": "https://localhost:8080/"
        },
        "id": "h5noLZkUHvjl",
        "outputId": "01e07a57-abf3-4cf2-addc-6877e5d1217e"
      },
      "outputs": [
        {
          "output_type": "stream",
          "name": "stdout",
          "text": [
            "red apple\n",
            "red banana\n",
            "red cherry\n",
            "big apple\n",
            "big banana\n",
            "big cherry\n",
            "tasty apple\n",
            "tasty banana\n",
            "tasty cherry\n"
          ]
        }
      ],
      "source": [
        "adj = [\"red\", \"big\", \"tasty\"]\n",
        "fruits = [\"apple\", \"banana\", \"cherry\"]\n",
        "\n",
        "for x in adj:\n",
        "  for y in fruits:\n",
        "    print(x, y)"
      ]
    },
    {
      "cell_type": "markdown",
      "metadata": {
        "id": "1iJdiIDTHvjl"
      },
      "source": [
        "### Break and Continue"
      ]
    },
    {
      "cell_type": "code",
      "execution_count": null,
      "metadata": {
        "colab": {
          "base_uri": "https://localhost:8080/"
        },
        "id": "qAZLbFWJHvjl",
        "outputId": "edcd97d4-127c-4446-fe03-7cc29792586f"
      },
      "outputs": [
        {
          "output_type": "stream",
          "name": "stdout",
          "text": [
            "0\n",
            "1\n",
            "2\n",
            "3\n",
            "4\n",
            "5\n"
          ]
        }
      ],
      "source": [
        "#normal while loop\n",
        "i = 0\n",
        "while i < 6:\n",
        "  print(i)\n",
        "  i += 1"
      ]
    },
    {
      "cell_type": "code",
      "execution_count": null,
      "metadata": {
        "colab": {
          "base_uri": "https://localhost:8080/"
        },
        "id": "LwfM11BnHvjm",
        "outputId": "38e2bea1-8d70-4410-d458-40c6e3d07425"
      },
      "outputs": [
        {
          "output_type": "stream",
          "name": "stdout",
          "text": [
            "0\n",
            "1\n",
            "2\n",
            "3\n"
          ]
        }
      ],
      "source": [
        "### break statement, stopping at the point 3\n",
        "i = 0\n",
        "while i < 6:\n",
        "  print(i)\n",
        "  if i == 3:\n",
        "    break\n",
        "  i += 1"
      ]
    },
    {
      "cell_type": "code",
      "execution_count": null,
      "metadata": {
        "colab": {
          "base_uri": "https://localhost:8080/"
        },
        "id": "vf4ZoqcLHvjm",
        "outputId": "d6d3aad0-eb5c-44c8-cfc5-a2fd00dd1a6f"
      },
      "outputs": [
        {
          "output_type": "stream",
          "name": "stdout",
          "text": [
            "1\n",
            "2\n",
            "4\n",
            "5\n",
            "6\n"
          ]
        }
      ],
      "source": [
        "### Continue statement, skipp step 3\n",
        "i = 0\n",
        "while i < 6:\n",
        "  i += 1\n",
        "  if i == 3:\n",
        "    continue\n",
        "  print(i)"
      ]
    },
    {
      "cell_type": "code",
      "execution_count": null,
      "metadata": {
        "id": "Sv12D1cYHvjm"
      },
      "outputs": [],
      "source": []
    },
    {
      "cell_type": "markdown",
      "metadata": {
        "id": "SWN-Aw9rHvjm"
      },
      "source": [
        "### Comprehensions"
      ]
    },
    {
      "cell_type": "code",
      "execution_count": null,
      "metadata": {
        "id": "L2f0pzPFHvjm"
      },
      "outputs": [],
      "source": [
        "square_lst =[]\n",
        "sqr_lst=[]"
      ]
    },
    {
      "cell_type": "code",
      "execution_count": null,
      "metadata": {
        "colab": {
          "base_uri": "https://localhost:8080/"
        },
        "id": "-cG7tEX6Hvjn",
        "outputId": "cab9819c-6385-466c-f379-babfd77b8457"
      },
      "outputs": [
        {
          "output_type": "stream",
          "name": "stdout",
          "text": [
            "[1, 4, 9, 16, 25, 36, 49, 64, 81, 100]\n"
          ]
        }
      ],
      "source": [
        "#method 1 for printing square for a range of numbers\n",
        "for x in range (1,11,1) :\n",
        "    square_lst.append(x**2)\n",
        "\n",
        "print(square_lst)"
      ]
    },
    {
      "cell_type": "code",
      "execution_count": null,
      "metadata": {
        "colab": {
          "base_uri": "https://localhost:8080/"
        },
        "id": "2gKAuN2LHvjn",
        "outputId": "a1cc0c31-41b4-46ec-8127-71510563a176"
      },
      "outputs": [
        {
          "output_type": "stream",
          "name": "stdout",
          "text": [
            "[1, 4, 9, 16, 25, 36, 49, 64, 81, 100]\n"
          ]
        }
      ],
      "source": [
        "#method 2 for printing square for a range of numbers\n",
        "sqr_lst=[(x**2) for x in range(1,11,1)]\n",
        "print(sqr_lst)"
      ]
    },
    {
      "cell_type": "code",
      "execution_count": null,
      "metadata": {
        "id": "RMMCgUBKHvjn"
      },
      "outputs": [],
      "source": []
    },
    {
      "cell_type": "code",
      "execution_count": null,
      "metadata": {
        "colab": {
          "base_uri": "https://localhost:8080/"
        },
        "id": "9Kbk-ereHvjn",
        "outputId": "3e98555e-1b26-4d54-9ad1-bd3688f57382"
      },
      "outputs": [
        {
          "output_type": "stream",
          "name": "stdout",
          "text": [
            "['There', 'was', 'a', 'fox', 'which', 'was', 'brown', 'in', 'color', 'it', 'ran', 'fast']\n"
          ]
        }
      ],
      "source": [
        "para =[\"There was a fox\", \"which was brown in color\", \" it ran fast\"]\n",
        "wd_lst =[]\n",
        "\n",
        "for sentence in para :\n",
        "    for words in sentence.split():\n",
        "        wd_lst.append(words)\n",
        "\n",
        "print(wd_lst)"
      ]
    },
    {
      "cell_type": "code",
      "execution_count": null,
      "metadata": {
        "id": "oOzKB2QIHvjn"
      },
      "outputs": [],
      "source": []
    },
    {
      "cell_type": "code",
      "execution_count": null,
      "metadata": {
        "colab": {
          "base_uri": "https://localhost:8080/"
        },
        "id": "eF0x0Q9sHvjn",
        "outputId": "0b948547-6ec4-40fb-9ad7-d585678b27d6"
      },
      "outputs": [
        {
          "output_type": "stream",
          "name": "stdout",
          "text": [
            "['There', 'was', 'a', 'fox', 'which', 'was', 'brown', 'in', 'color', 'it', 'ran', 'fast']\n"
          ]
        }
      ],
      "source": [
        "wrd_lst = [words for sentence in para for words in sentence.split()]\n",
        "print(wrd_lst)"
      ]
    },
    {
      "cell_type": "code",
      "execution_count": null,
      "metadata": {
        "id": "FPV8AhG0Hvjo"
      },
      "outputs": [],
      "source": []
    },
    {
      "cell_type": "markdown",
      "metadata": {
        "id": "qaq9Ch0sHvjo"
      },
      "source": [
        "### Functions"
      ]
    },
    {
      "cell_type": "markdown",
      "metadata": {
        "id": "vxKP8En2Hvjo"
      },
      "source": [
        "Function is any set of code. mostly used to run the same set of task at multiple sections in the program"
      ]
    },
    {
      "cell_type": "markdown",
      "metadata": {
        "id": "trusLLlKHvjo"
      },
      "source": [
        "#### Syntax as follows\n",
        "def function_name(vaiable_optional) :  <br>\n",
        "     scope_of_the_function             <br>\n",
        "     reutn(x)"
      ]
    },
    {
      "cell_type": "code",
      "execution_count": null,
      "metadata": {
        "id": "sq3L-mjFHvjo"
      },
      "outputs": [],
      "source": [
        "#sample function --> usually defined before use.\n",
        "def sq(num) :\n",
        "    out=num**2;\n",
        "    return(out)"
      ]
    },
    {
      "cell_type": "code",
      "execution_count": null,
      "metadata": {
        "colab": {
          "base_uri": "https://localhost:8080/"
        },
        "id": "JeNOfYYMHvjo",
        "outputId": "f4443ad8-91cc-4d7c-bf79-038d4cfb42ed"
      },
      "outputs": [
        {
          "output_type": "execute_result",
          "data": {
            "text/plain": [
              "25"
            ]
          },
          "metadata": {},
          "execution_count": 63
        }
      ],
      "source": [
        "sq(5)"
      ]
    },
    {
      "cell_type": "markdown",
      "metadata": {
        "id": "C026c2fcHvjp"
      },
      "source": [
        "##### default value in a function"
      ]
    },
    {
      "cell_type": "code",
      "execution_count": null,
      "metadata": {
        "colab": {
          "base_uri": "https://localhost:8080/"
        },
        "id": "JT6c3sOAHvjp",
        "outputId": "2ddca026-752f-47c5-8c8d-1dc78f01a493"
      },
      "outputs": [
        {
          "output_type": "stream",
          "name": "stdout",
          "text": [
            "I am from India\n",
            "I am from Norway\n"
          ]
        }
      ],
      "source": [
        "def my_function(country = \"Norway\"):\n",
        "  print(\"I am from \" + country)\n",
        "\n",
        "my_function(\"India\")\n",
        "my_function()\n"
      ]
    },
    {
      "cell_type": "code",
      "execution_count": null,
      "metadata": {
        "id": "AeI3RwhwHvjp"
      },
      "outputs": [],
      "source": []
    },
    {
      "cell_type": "markdown",
      "metadata": {
        "id": "y2p9bKvRHvjp"
      },
      "source": [
        "##### when the number of argument to be passed to a function is unknow <br> add \"**\" before the parameter name: <br> here the parameter is name"
      ]
    },
    {
      "cell_type": "code",
      "execution_count": null,
      "metadata": {
        "colab": {
          "base_uri": "https://localhost:8080/"
        },
        "id": "nP6fLDT8Hvjp",
        "outputId": "5688e5e6-b42d-4841-c3a2-35d1e438d805"
      },
      "outputs": [
        {
          "output_type": "stream",
          "name": "stdout",
          "text": [
            "His last name is Sreenath\n"
          ]
        }
      ],
      "source": [
        "def my_function(**name):\n",
        "  print(\"His last name is \" + name[\"lname\"])\n",
        "\n",
        "my_function(fname = \"Sanju\", lname = \"Sreenath\")"
      ]
    },
    {
      "cell_type": "markdown",
      "metadata": {
        "id": "5Vj1cjvQHvjq"
      },
      "source": [
        "#### Passing a List as an Argument"
      ]
    },
    {
      "cell_type": "code",
      "execution_count": null,
      "metadata": {
        "colab": {
          "base_uri": "https://localhost:8080/"
        },
        "id": "LirptOiOHvjq",
        "outputId": "42b323ca-6a3b-484a-dd60-c3e488829443"
      },
      "outputs": [
        {
          "output_type": "stream",
          "name": "stdout",
          "text": [
            "Audi\n",
            "VW\n",
            "Honda\n",
            "Fiat\n",
            "Ford\n"
          ]
        }
      ],
      "source": [
        "def my_function(my_arg):\n",
        "  for x in my_arg:\n",
        "    print(x)\n",
        "\n",
        "Cars = [\"Audi\", \"VW\", \"Honda\", \"Fiat\", \"Ford\"]\n",
        "\n",
        "my_function(Cars)"
      ]
    },
    {
      "cell_type": "code",
      "execution_count": null,
      "metadata": {
        "id": "y7OUN6qrHvjq"
      },
      "outputs": [],
      "source": []
    },
    {
      "cell_type": "markdown",
      "metadata": {
        "id": "rYZUURD3Hvjq"
      },
      "source": [
        "## Lambda Function\n",
        "function on the fly"
      ]
    },
    {
      "cell_type": "code",
      "execution_count": null,
      "metadata": {
        "id": "6cBOlZ3-Hvjq"
      },
      "outputs": [],
      "source": [
        "#eg\n",
        "str_to_lst = lambda x : x.split();\n",
        "product = lambda x,y,z : (x*y)**z;\n",
        "sqr =lambda x : x**2;"
      ]
    },
    {
      "cell_type": "code",
      "execution_count": null,
      "metadata": {
        "colab": {
          "base_uri": "https://localhost:8080/"
        },
        "id": "jEsMm0uNHvjq",
        "outputId": "7b58fad4-2cda-4f8c-961c-c4cbe1976c7f"
      },
      "outputs": [
        {
          "name": "stdout",
          "output_type": "stream",
          "text": [
            "hope you are doing well. Nice to meet you again\n"
          ]
        },
        {
          "output_type": "execute_result",
          "data": {
            "text/plain": [
              "['hope', 'you', 'are', 'doing', 'well.', 'Nice', 'to', 'meet', 'you', 'again']"
            ]
          },
          "metadata": {},
          "execution_count": 68
        }
      ],
      "source": [
        "str_to_lst(input())"
      ]
    },
    {
      "cell_type": "code",
      "execution_count": null,
      "metadata": {
        "colab": {
          "base_uri": "https://localhost:8080/"
        },
        "id": "atNUpU5iHvjr",
        "outputId": "7fcb4b92-8f35-429a-be4e-6bb68657e239"
      },
      "outputs": [
        {
          "output_type": "execute_result",
          "data": {
            "text/plain": [
              "567"
            ]
          },
          "metadata": {},
          "execution_count": 69
        }
      ],
      "source": [
        "product(2,3,4) - product(3,3,3)"
      ]
    },
    {
      "cell_type": "code",
      "execution_count": null,
      "metadata": {
        "colab": {
          "base_uri": "https://localhost:8080/"
        },
        "id": "L_JMZ0BqHvjr",
        "outputId": "83637a49-fbaa-40a6-8fa7-610669b0f613"
      },
      "outputs": [
        {
          "output_type": "execute_result",
          "data": {
            "text/plain": [
              "25"
            ]
          },
          "metadata": {},
          "execution_count": 70
        }
      ],
      "source": [
        "sqr(5)"
      ]
    },
    {
      "cell_type": "code",
      "execution_count": null,
      "metadata": {
        "id": "rUmwYxTnHvjr"
      },
      "outputs": [],
      "source": []
    },
    {
      "cell_type": "markdown",
      "metadata": {
        "id": "5_d5QcDhHvjr"
      },
      "source": [
        "### Map, Reduce, Filter"
      ]
    },
    {
      "cell_type": "markdown",
      "metadata": {
        "id": "YDl_jhJtHvjr"
      },
      "source": [
        "##### Map\n",
        "It applies the function to all the elements of an input list <br>\n",
        "syntax is as follows <br>\n",
        "map(function_to_apply,list_of_inputs)\n"
      ]
    },
    {
      "cell_type": "code",
      "execution_count": null,
      "metadata": {
        "colab": {
          "base_uri": "https://localhost:8080/"
        },
        "id": "HEWJZ-R0Hvjr",
        "outputId": "4fd27bba-efc1-4a1b-aebb-e6dad9bcfe57"
      },
      "outputs": [
        {
          "output_type": "stream",
          "name": "stdout",
          "text": [
            "[1, 2, 3, 4, 5, 6, 7, 8, 9, 10]\n"
          ]
        }
      ],
      "source": [
        "my_list = list(range(1,11,1))  ## creating a list with values from 1 to 10\n",
        "print(my_list)"
      ]
    },
    {
      "cell_type": "code",
      "execution_count": null,
      "metadata": {
        "colab": {
          "base_uri": "https://localhost:8080/"
        },
        "id": "CNKDnUdqHvjs",
        "outputId": "58497ee9-9e73-405e-ec27-cc02b2304dca"
      },
      "outputs": [
        {
          "output_type": "stream",
          "name": "stdout",
          "text": [
            "[1, 4, 9, 16, 25, 36, 49, 64, 81, 100]\n"
          ]
        }
      ],
      "source": [
        "squared_values =list(map(sqr,my_list))   ## squaring the elements form my_list and assigining it to squared_list\n",
        "#we are using map function for the same, here we are reusing an existing function sqr\n",
        "print(squared_values)  ## printing the squared value."
      ]
    },
    {
      "cell_type": "code",
      "execution_count": null,
      "metadata": {
        "colab": {
          "base_uri": "https://localhost:8080/"
        },
        "id": "RlYsPYmtHvjs",
        "outputId": "50c87276-1100-481d-e698-ad256737ed1d"
      },
      "outputs": [
        {
          "output_type": "stream",
          "name": "stdout",
          "text": [
            "[1, 4, 9, 16, 25, 36, 49, 64, 81, 100]\n"
          ]
        }
      ],
      "source": [
        "squared_values =list(map(sq,my_list))  ## here we use another squaring function, which produces same result.\n",
        "print(squared_values)"
      ]
    },
    {
      "cell_type": "code",
      "execution_count": null,
      "metadata": {
        "id": "6LK24JoXHvjs"
      },
      "outputs": [],
      "source": [
        "#instead of list of inputs we can give list of functions\n",
        "#eg\n",
        "\n",
        "def mul(x):\n",
        "    return(x*x);\n",
        "def add(x):\n",
        "    return(x+x);\n",
        "\n",
        "funct=[mul,add]\n"
      ]
    },
    {
      "cell_type": "code",
      "execution_count": null,
      "metadata": {
        "colab": {
          "base_uri": "https://localhost:8080/"
        },
        "id": "IlueWuPGHvjs",
        "outputId": "3e1cbbf7-c6fe-4ae8-8309-62a51bb77b79"
      },
      "outputs": [
        {
          "output_type": "stream",
          "name": "stdout",
          "text": [
            "[1, 2]\n",
            "[4, 4]\n",
            "[9, 6]\n",
            "[16, 8]\n"
          ]
        }
      ],
      "source": [
        "lst_fncts=[]\n",
        "for i in range(1,5):\n",
        "    lst_fncts= list(map(lambda x:x(i),funct))\n",
        "    print(lst_fncts)\n",
        "\n",
        "## here number 1 to 5 are genereated as part of range\n",
        "## then list \"funct\" has 2 custom functions, and the numbers generated is passed to both the custom functions\n"
      ]
    },
    {
      "cell_type": "code",
      "execution_count": null,
      "metadata": {
        "id": "vuatzMuGHvjs"
      },
      "outputs": [],
      "source": []
    },
    {
      "cell_type": "markdown",
      "metadata": {
        "id": "1RCBnFk8Hvjt"
      },
      "source": [
        "##### Filter\n",
        "It applies the function to all the elements of an input list <br> and retuens only those which matches the conditions <br>\n",
        "syntax is as follows <br>\n",
        "map(function_to_apply,list_of_inputs)"
      ]
    },
    {
      "cell_type": "code",
      "execution_count": null,
      "metadata": {
        "colab": {
          "base_uri": "https://localhost:8080/"
        },
        "id": "WaZb9mvOHvjt",
        "outputId": "ede9693f-7828-4ac3-d0c1-12e0b89f8997"
      },
      "outputs": [
        {
          "output_type": "stream",
          "name": "stdout",
          "text": [
            "[1, 2, 3, 4, 5, 6, 7, 8, 9, 10]\n",
            "[1, 2, 3, 4]\n"
          ]
        }
      ],
      "source": [
        "#eg\n",
        "print(my_list)\n",
        "less_than_5 = list(filter(lambda x : x <5 , my_list))\n",
        "\n",
        "print(less_than_5)"
      ]
    },
    {
      "cell_type": "code",
      "execution_count": null,
      "metadata": {
        "id": "8J-qwTdzHvjt"
      },
      "outputs": [],
      "source": []
    },
    {
      "cell_type": "markdown",
      "metadata": {
        "id": "LmPE4VzMHvjt"
      },
      "source": [
        "##### Reduce\n",
        "It is used for computation of all the elements of an input list <br>"
      ]
    },
    {
      "cell_type": "code",
      "execution_count": null,
      "metadata": {
        "id": "PUA10LdEHvjt"
      },
      "outputs": [],
      "source": [
        "import functools as ft"
      ]
    },
    {
      "cell_type": "code",
      "execution_count": null,
      "metadata": {
        "colab": {
          "base_uri": "https://localhost:8080/"
        },
        "id": "EmtLb2WjHvjt",
        "outputId": "6e1481a8-858a-4e60-ce15-d55c9a09a2b4"
      },
      "outputs": [
        {
          "output_type": "execute_result",
          "data": {
            "text/plain": [
              "[1, 2, 3, 4, 5, 6, 7, 8, 9, 10]"
            ]
          },
          "metadata": {},
          "execution_count": 78
        }
      ],
      "source": [
        "my_list"
      ]
    },
    {
      "cell_type": "code",
      "execution_count": null,
      "metadata": {
        "colab": {
          "base_uri": "https://localhost:8080/"
        },
        "id": "WVeoKZnrHvju",
        "outputId": "2eb07cac-fe19-44b0-f25d-a3db16ecdb27"
      },
      "outputs": [
        {
          "output_type": "execute_result",
          "data": {
            "text/plain": [
              "55"
            ]
          },
          "metadata": {},
          "execution_count": 79
        }
      ],
      "source": [
        "#using my_list from above\n",
        "#function to add all the elements of the list\n",
        "ft.reduce(lambda a,b : a+b , my_list)\n",
        "#its equivalent of 1+2+3+4+5+6+7+8+9+0"
      ]
    },
    {
      "cell_type": "markdown",
      "metadata": {
        "id": "T7ocTPQxHvju"
      },
      "source": [
        "my_list has values form 1 to 10 <br>\n",
        "here the first element form the list is assigned to 'a', then second element to 'b'. Then a and b are added to get 3 (1+2) <br>\n",
        "then the value 3 (1+2) is assigned to a and b is assigned with the next element form the list.<br>\n",
        "and this continues till the end of the list  "
      ]
    },
    {
      "cell_type": "code",
      "execution_count": null,
      "metadata": {
        "id": "B87V3UXFHvju"
      },
      "outputs": [],
      "source": [
        "#example 2\n",
        "F = lambda x, y : x if (x>y) else y ### function to find largest number.\n",
        "F_list = [6,5,6,34,6,1,3,45,58,75,77]"
      ]
    },
    {
      "cell_type": "code",
      "execution_count": null,
      "metadata": {
        "colab": {
          "base_uri": "https://localhost:8080/"
        },
        "id": "ORL3P7GLHvju",
        "outputId": "85427dc3-22fc-43ec-d8ed-7c736bcc7c89"
      },
      "outputs": [
        {
          "output_type": "execute_result",
          "data": {
            "text/plain": [
              "77"
            ]
          },
          "metadata": {},
          "execution_count": 81
        }
      ],
      "source": [
        "ft.reduce(F,F_list)\n",
        "#the explanation is similar to the above example."
      ]
    },
    {
      "cell_type": "code",
      "execution_count": null,
      "metadata": {
        "id": "KgCFUrQsHvjv"
      },
      "outputs": [],
      "source": []
    },
    {
      "cell_type": "markdown",
      "metadata": {
        "id": "eFVFuz8WHvjv"
      },
      "source": [
        "## Python Classes/Objects\n"
      ]
    },
    {
      "cell_type": "markdown",
      "metadata": {
        "id": "ISxtGo_4Hvjv"
      },
      "source": [
        "#### A Class is like an object constructor, or a \"blueprint\" for creating objects. <br> Create a class named Person, use the __init__() function to assign values for name and age:\n",
        "\n"
      ]
    },
    {
      "cell_type": "code",
      "execution_count": null,
      "metadata": {
        "colab": {
          "base_uri": "https://localhost:8080/"
        },
        "id": "aR9l3rNpHvjv",
        "outputId": "9cd062bc-c708-421d-f9ca-9fcc0777692a"
      },
      "outputs": [
        {
          "output_type": "stream",
          "name": "stdout",
          "text": [
            "<__main__.Person object at 0x79e68008bca0>\n"
          ]
        }
      ],
      "source": [
        "class Person:\n",
        "  def __init__(self, name, age, gender):\n",
        "    self.name = name\n",
        "    self.age = age\n",
        "    self.gender = gender\n",
        "\n",
        "\n",
        "p1 = Person(\"Sanju\", 31, \"M\")\n",
        "p2 = Person(\"Sreenath\", 27, \"M\")\n",
        "\n",
        "print(p1)"
      ]
    },
    {
      "cell_type": "code",
      "execution_count": null,
      "metadata": {
        "colab": {
          "base_uri": "https://localhost:8080/"
        },
        "id": "3rnvJOogHvjv",
        "outputId": "4d746997-f634-4cda-a391-c621d647ebda"
      },
      "outputs": [
        {
          "output_type": "stream",
          "name": "stdout",
          "text": [
            "Sanju Sreenath\n"
          ]
        }
      ],
      "source": [
        "print(p1.name+\" \"+p2.name)"
      ]
    },
    {
      "cell_type": "code",
      "execution_count": null,
      "metadata": {
        "colab": {
          "base_uri": "https://localhost:8080/"
        },
        "id": "xOveZPh7Hvjw",
        "outputId": "d8558399-40f2-4ede-e125-b0aee1d36db0"
      },
      "outputs": [
        {
          "output_type": "stream",
          "name": "stdout",
          "text": [
            "Hello my name is Sanju\n"
          ]
        }
      ],
      "source": [
        "#Insert a function that prints a greeting, and execute it on the p1 object:\n",
        "\n",
        "class Person:\n",
        "  def __init__(self, name, age):\n",
        "    self.name = name\n",
        "    self.age = age\n",
        "\n",
        "  def myfunc(self):\n",
        "    print(\"Hello my name is \" + self.name)\n",
        "\n",
        "p1 = Person(\"Sanju\", 31)\n",
        "p1.myfunc()"
      ]
    },
    {
      "cell_type": "markdown",
      "metadata": {
        "id": "BFohfT-0ZFo_"
      },
      "source": [
        "-------------------------------------------------------------------------------\n"
      ]
    },
    {
      "cell_type": "markdown",
      "metadata": {
        "id": "fJlOmTlkHvjw"
      },
      "source": [
        "# **File Handling in Google Drive**"
      ]
    },
    {
      "cell_type": "markdown",
      "metadata": {
        "id": "SoUF2zbfYvo2"
      },
      "source": [
        "### **Please note, Update the folder name below in which you are keeping the files.**"
      ]
    },
    {
      "cell_type": "code",
      "execution_count": null,
      "metadata": {
        "id": "HfPwOMtuMruP",
        "colab": {
          "base_uri": "https://localhost:8080/"
        },
        "outputId": "97b0b9af-36c3-4bc2-9c64-0aee7aecdb53"
      },
      "outputs": [
        {
          "output_type": "stream",
          "name": "stdout",
          "text": [
            "Drive already mounted at /content/drive; to attempt to forcibly remount, call drive.mount(\"/content/drive\", force_remount=True).\n"
          ]
        }
      ],
      "source": [
        "import os\n",
        "from google.colab import drive\n",
        "drive.mount('/content/drive')"
      ]
    },
    {
      "cell_type": "code",
      "execution_count": null,
      "metadata": {
        "id": "-un23xD0Hvjw",
        "colab": {
          "base_uri": "https://localhost:8080/"
        },
        "outputId": "18fd94df-c5f0-4df0-aa99-b1fb4a3be6aa"
      },
      "outputs": [
        {
          "output_type": "stream",
          "name": "stdout",
          "text": [
            "hello there \n",
            "this is the second test file to see\n",
            "whether the function wokrs fine or not\n"
          ]
        }
      ],
      "source": [
        "## Function to read file\n",
        "def print_file(filename = \"/content/drive/MyDrive/Colab Notebooks/Files/demofile.txt\") :\n",
        "\tf = open(filename,\"r\")\n",
        "\tprint(f.read())\n",
        "\tf.close()\n",
        "print_file()\n",
        "#here the default print file is demofile.txt\n",
        "#to print anyother file in the same folder provide filename, PFB an example"
      ]
    },
    {
      "cell_type": "code",
      "execution_count": null,
      "metadata": {
        "id": "RM5jcfCjfGrE",
        "colab": {
          "base_uri": "https://localhost:8080/"
        },
        "outputId": "e89c4d34-9865-4ea1-a8e6-b8fbd01214c6"
      },
      "outputs": [
        {
          "output_type": "stream",
          "name": "stdout",
          "text": [
            "this is the second demo file\n",
            "hope this works too... :-)\n"
          ]
        }
      ],
      "source": [
        "print_file(\"/content/drive/MyDrive/Colab Notebooks/Files/demo.txt\")\n",
        "## this prints the content of the specified file."
      ]
    },
    {
      "cell_type": "markdown",
      "source": [],
      "metadata": {
        "id": "G-dRcWp7GVQj"
      }
    },
    {
      "cell_type": "code",
      "source": [
        "print(\"End of File 1\")"
      ],
      "metadata": {
        "colab": {
          "base_uri": "https://localhost:8080/"
        },
        "id": "QgfVRuIsGWcT",
        "outputId": "d058266e-f218-4fbb-e18d-6513cfccb0e8"
      },
      "execution_count": null,
      "outputs": [
        {
          "output_type": "stream",
          "name": "stdout",
          "text": [
            "End of File 1\n"
          ]
        }
      ]
    }
  ],
  "metadata": {
    "colab": {
      "provenance": [],
      "include_colab_link": true
    },
    "kernelspec": {
      "display_name": "Python 3",
      "language": "python",
      "name": "python3"
    },
    "language_info": {
      "codemirror_mode": {
        "name": "ipython",
        "version": 3
      },
      "file_extension": ".py",
      "mimetype": "text/x-python",
      "name": "python",
      "nbconvert_exporter": "python",
      "pygments_lexer": "ipython3",
      "version": "3.7.4"
    }
  },
  "nbformat": 4,
  "nbformat_minor": 0
}