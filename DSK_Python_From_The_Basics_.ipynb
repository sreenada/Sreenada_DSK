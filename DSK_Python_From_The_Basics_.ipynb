{
  "cells": [
    {
      "cell_type": "markdown",
      "metadata": {
        "id": "view-in-github",
        "colab_type": "text"
      },
      "source": [
        "<a href=\"https://colab.research.google.com/github/sreenada/Sreenada_DSK/blob/DSK/DSK_Python_From_The_Basics_.ipynb\" target=\"_parent\"><img src=\"https://colab.research.google.com/assets/colab-badge.svg\" alt=\"Open In Colab\"/></a>"
      ]
    },
    {
      "cell_type": "markdown",
      "metadata": {
        "id": "isNBZVVEHvjP"
      },
      "source": [
        "# Python Basics Learning Pack"
      ]
    },
    {
      "cell_type": "code",
      "execution_count": null,
      "metadata": {
        "id": "kxQz7x1tHvjR"
      },
      "outputs": [],
      "source": []
    },
    {
      "cell_type": "markdown",
      "metadata": {
        "id": "Okpr1m_jHvjR"
      },
      "source": [
        "#### Refferences\n",
        "https://www.pythoncheatsheet.org/ <br> https://www.w3schools.com/python/default.asp <br> https://www.geeksforgeeks.org/python-tutorial/?ref=leftbar-rightbar <br> https://www.edureka.co/blog/python-tutorial/?utm_source=youtube&utm_campaign=python-tutorial-020617-wr&utm_medium=description\n"
      ]
    },
    {
      "cell_type": "code",
      "execution_count": null,
      "metadata": {
        "id": "ldqAg3smHvjS"
      },
      "outputs": [],
      "source": []
    },
    {
      "cell_type": "markdown",
      "metadata": {
        "id": "xXCxg8uQHvjS"
      },
      "source": [
        "## Day 1"
      ]
    },
    {
      "cell_type": "markdown",
      "metadata": {
        "id": "3O_5ctsgHvjS"
      },
      "source": [
        "### Jupyter Notebook quick help\n",
        "#### m \t\t--> Markdown/comment <br>y \t\t--> code <br> A \t\t--> Insert line above <br>B\t\t --> insert line below <br>dd \t--> delete <br>\"-  \" \t--> bullet <br>z \t\t--> undo <br>f \t\t--> find and replace"
      ]
    },
    {
      "cell_type": "markdown",
      "metadata": {
        "id": "brYTRGc9HvjS"
      },
      "source": [
        "Lets start with printing a text. <br> here the \"\\n\" is used to start a new line while printing"
      ]
    },
    {
      "cell_type": "code",
      "execution_count": null,
      "metadata": {
        "id": "BVJjDcxXHvjS",
        "colab": {
          "base_uri": "https://localhost:8080/"
        },
        "outputId": "c3406813-f38b-4996-8a64-3507e1a05b92"
      },
      "outputs": [
        {
          "output_type": "stream",
          "name": "stdout",
          "text": [
            "Hello there, I'm Darshan. \n",
            "Hope you're doing well :-)\n"
          ]
        }
      ],
      "source": [
        "print(\"Hello there, I'm Darshan. \\nHope you're doing well :-)\")"
      ]
    },
    {
      "cell_type": "code",
      "execution_count": null,
      "metadata": {
        "id": "vr_y4vduHvjT"
      },
      "outputs": [],
      "source": []
    },
    {
      "cell_type": "markdown",
      "metadata": {
        "id": "TIk2rn7dHvjT"
      },
      "source": [
        "Lets see the data types in python"
      ]
    },
    {
      "cell_type": "markdown",
      "metadata": {
        "id": "DNc4JsnpHvjT"
      },
      "source": [
        "#### Python has the following data types built-in by default, in these categories:\n",
        "#### Text Type\t\t:\tstr <br> Numeric Types\t:\tint, float, complex <br>Sequence Types\t:\tlist, tuple, range <br>Mapping Type\t:\tdict <br>Set Types\t\t:\tset, frozenset <br>Boolean Type\t:\tbool <br>Binary Types\t:\tbytes, bytearray, memoryview"
      ]
    },
    {
      "cell_type": "markdown",
      "metadata": {
        "id": "nXdh42nZHvjU"
      },
      "source": [
        "Lets see some basic mathematical functions. <br>\n",
        "so we are assigining some values to few variables."
      ]
    },
    {
      "cell_type": "code",
      "execution_count": null,
      "metadata": {
        "id": "Z_OtIoHGHvjU"
      },
      "outputs": [],
      "source": [
        "a=10\n",
        "b=5\n",
        "c=6\n",
        "d=\"test\""
      ]
    },
    {
      "cell_type": "markdown",
      "metadata": {
        "id": "P-c3nwxyHvjU"
      },
      "source": [
        "lets see what kind of variable is that"
      ]
    },
    {
      "cell_type": "code",
      "execution_count": null,
      "metadata": {
        "id": "tgGTUzW7HvjU",
        "outputId": "ec0e2043-d47c-44fd-d3f4-3e1ab3cf58f7",
        "colab": {
          "base_uri": "https://localhost:8080/"
        }
      },
      "outputs": [
        {
          "output_type": "execute_result",
          "data": {
            "text/plain": [
              "int"
            ]
          },
          "metadata": {},
          "execution_count": 3
        }
      ],
      "source": [
        "type(a) ## the command to check its type"
      ]
    },
    {
      "cell_type": "code",
      "execution_count": null,
      "metadata": {
        "id": "PlSnfF0oHvjV",
        "outputId": "76cf703e-100d-41d3-cb86-75cbd46abf13",
        "colab": {
          "base_uri": "https://localhost:8080/"
        }
      },
      "outputs": [
        {
          "output_type": "stream",
          "name": "stdout",
          "text": [
            "a = 10 \n",
            "b = 5 \n",
            "c = 6\n",
            "a+b = 15\n",
            "a-b = 5\n",
            "a/b = 2.0\n",
            "a*b = 50\n",
            "a**b = 100000  || its also called the exponentail function\n",
            "c%b = 1  || it gives the reminder\n"
          ]
        }
      ],
      "source": [
        "print (\"a =\",a,\"\\nb =\",b,\"\\nc =\",c)\n",
        "print(\"a+b =\",a+b)\n",
        "print(\"a-b =\",a-b)\n",
        "print(\"a/b =\",a/b)\n",
        "print(\"a*b =\",a*b)\n",
        "print(\"a**b =\",a**b, \" || its also called the exponentail function\")\n",
        "print(\"c%b =\",c%b, \" || it gives the reminder\")"
      ]
    },
    {
      "cell_type": "code",
      "execution_count": null,
      "metadata": {
        "id": "cuYeHz4bHvjV"
      },
      "outputs": [],
      "source": []
    },
    {
      "cell_type": "markdown",
      "metadata": {
        "id": "itA3ABJiHvjV"
      },
      "source": [
        "### String Operations"
      ]
    },
    {
      "cell_type": "code",
      "execution_count": null,
      "metadata": {
        "id": "fAeQyMtnHvjW",
        "outputId": "cb6401f7-49dc-401b-cd9a-010ae0d7edf3",
        "colab": {
          "base_uri": "https://localhost:8080/"
        }
      },
      "outputs": [
        {
          "name": "stdout",
          "output_type": "stream",
          "text": [
            "Enter First Name\n",
            "Darshan\n",
            "\n",
            "Enter Last Name\n",
            "Sreenath\n"
          ]
        }
      ],
      "source": [
        "#Hardcoding and Dynamic Method  || note: if you want to use hardcoding remove the comment in line 2 and 3\n",
        "print(\"Enter First Name\")\n",
        "name1 = input()\n",
        "print(\"\\nEnter Last Name\")\n",
        "name2 = input()"
      ]
    },
    {
      "cell_type": "code",
      "execution_count": null,
      "metadata": {
        "id": "-Wt6FCgzHvjW",
        "outputId": "0b6b76f1-4f34-4b66-a5f4-23d884724d6a",
        "colab": {
          "base_uri": "https://localhost:8080/"
        }
      },
      "outputs": [
        {
          "output_type": "stream",
          "name": "stdout",
          "text": [
            "Darshan Sreenath\n"
          ]
        }
      ],
      "source": [
        "#string concat function\n",
        "print(name1+\" \"+name2)"
      ]
    },
    {
      "cell_type": "code",
      "execution_count": null,
      "metadata": {
        "id": "9c1EIE1VHvjW",
        "outputId": "58c18ef7-94b7-4751-e1e9-02986dbecd49",
        "colab": {
          "base_uri": "https://localhost:8080/",
          "height": 36
        }
      },
      "outputs": [
        {
          "output_type": "execute_result",
          "data": {
            "text/plain": [
              "'DarshanDarshanDarshan'"
            ],
            "application/vnd.google.colaboratory.intrinsic+json": {
              "type": "string"
            }
          },
          "metadata": {},
          "execution_count": 7
        }
      ],
      "source": [
        "#repeating string\n",
        "name1*3"
      ]
    },
    {
      "cell_type": "code",
      "execution_count": null,
      "metadata": {
        "id": "BXLnBr-yHvjW",
        "outputId": "06ba6759-a842-4e1c-d5b7-d9fb36cf221d",
        "colab": {
          "base_uri": "https://localhost:8080/",
          "height": 36
        }
      },
      "outputs": [
        {
          "output_type": "execute_result",
          "data": {
            "text/plain": [
              "'Darshan_Sreenath_Darshan_Sreenath_Darshan_Sreenath_'"
            ],
            "application/vnd.google.colaboratory.intrinsic+json": {
              "type": "string"
            }
          },
          "metadata": {},
          "execution_count": 8
        }
      ],
      "source": [
        "(name1+\"_\"+name2+\"_\")*3"
      ]
    },
    {
      "cell_type": "code",
      "execution_count": 2,
      "metadata": {
        "id": "Sr5xDwNQHvjW",
        "outputId": "726c3e8a-9add-48f5-bb13-9bd7d5372184",
        "colab": {
          "base_uri": "https://localhost:8080/"
        }
      },
      "outputs": [
        {
          "output_type": "stream",
          "name": "stdout",
          "text": [
            "The contents of Input sentense is :   hello there how are you?        \n",
            "length of sentense is : 34\n",
            "The contents of Input sentense after strip function :   hello there how are you?\n",
            "length of sentense after strip function : 26\n",
            "After lstrip function : hello there how are you?        \n",
            "length After lstrip function : 32\n",
            "After strip function: hello there how are you?\n",
            "length After strip function : 24 \n",
            "\n",
            "['', '', 'hello', 'there', 'how', 'are', 'you?', '', '', '', '', '', '', '', ''] \n",
            "\n",
            "['hello', 'there', 'how', 'are', 'you?'] \n",
            "\n",
            "['hello', 'there', 'how', 'are', 'you?'] \n",
            "\n",
            "blah blah blah%%% \n",
            "\n",
            "blah blah blah\n"
          ]
        }
      ],
      "source": [
        "#Removing spaces\n",
        "sentense = \"  hello there how are you?        \"\n",
        "sen =\"blah blah blah%%%\"\n",
        "print(\"The contents of Input sentense is :\" ,sentense)\n",
        "print(\"length of sentense is :\",len(sentense))\n",
        "\n",
        "print(\"The contents of Input sentense after strip function :\", sentense.rstrip())\n",
        "print(\"length of sentense after strip function :\",len(sentense.rstrip()))  ### removing spcae at right side.\n",
        "\n",
        "print(\"After lstrip function :\",sentense.lstrip())       ### removing spaces at left side.\n",
        "print(\"length After lstrip function :\",len(sentense.lstrip()))\n",
        "\n",
        "\n",
        "print(\"After strip function:\",sentense.strip())       ### removing space at both sides.\n",
        "print(\"length After strip function :\",len(sentense.strip()),\"\\n\")\n",
        "\n",
        "\n",
        "print(sentense.split(\" \"),\"\\n\")  ### splitting the sentenses into words whereever there is a space.\n",
        "\n",
        "print(sentense.strip().split(\" \"),\"\\n\")  ### removing spaces first, then splitting.\n",
        "\n",
        "new_var = sentense.strip().split(\" \")\n",
        "print(new_var,\"\\n\")\n",
        "\n",
        "print(sen,\"\\n\")\n",
        "print(sen.strip(\"%\"))  ### removing the undesired characters"
      ]
    },
    {
      "cell_type": "code",
      "execution_count": null,
      "metadata": {
        "id": "bXy_q3sDHvjX"
      },
      "outputs": [],
      "source": []
    },
    {
      "cell_type": "code",
      "execution_count": null,
      "metadata": {
        "id": "arlftvI5HvjX"
      },
      "outputs": [],
      "source": []
    },
    {
      "cell_type": "code",
      "execution_count": null,
      "metadata": {
        "id": "LBY0LRvNHvjX",
        "outputId": "13e5d591-2ec7-4a69-ccf2-8ef49dc2f0f6",
        "colab": {
          "base_uri": "https://localhost:8080/"
        }
      },
      "outputs": [
        {
          "output_type": "stream",
          "name": "stdout",
          "text": [
            "What is your name?\n",
            "Sanju\n",
            "It is good to meet you, Sanju\n",
            "It is good to meet you,  Sanju\n",
            "Hi i'm Sanju, It is good to meet you, Darshan Sreenath\n",
            "Hi i'm Darshan Sreenath, It is good to meet you, Sanju\n"
          ]
        }
      ],
      "source": [
        "#Accepting values during runtime\n",
        "print('What is your name?')   # ask for their name\n",
        "myName = input()\n",
        "\n",
        "print('It is good to meet you, {}'.format(myName))\n",
        "##or you can print like\n",
        "\n",
        "print('It is good to meet you, ',myName)\n",
        "\n",
        "#printing multiple vatiables. using name1 and name2 used in the above section\n",
        "\n",
        "print(\"Hi i'm {0}, It is good to meet you, {1} {2}\".format(myName,name1,name2))\n",
        "\n",
        "print(\"Hi i'm {1} {2}, It is good to meet you, {0}\".format(myName,name1,name2))\n"
      ]
    },
    {
      "cell_type": "code",
      "execution_count": null,
      "metadata": {
        "id": "IZQ8o_BxHvjX",
        "outputId": "d9c7a5d2-c080-4dab-ac45-3de4016aa0e3",
        "colab": {
          "base_uri": "https://localhost:8080/"
        }
      },
      "outputs": [
        {
          "output_type": "stream",
          "name": "stdout",
          "text": [
            "Sanju\n"
          ]
        },
        {
          "output_type": "execute_result",
          "data": {
            "text/plain": [
              "6"
            ]
          },
          "metadata": {},
          "execution_count": 11
        }
      ],
      "source": [
        "#length function\n",
        "print(myName)\n",
        "len('myName')"
      ]
    },
    {
      "cell_type": "code",
      "execution_count": null,
      "metadata": {
        "id": "zrIZ-_jJHvjX",
        "outputId": "b8207479-59fd-40a5-9017-c240225f0aeb",
        "colab": {
          "base_uri": "https://localhost:8080/"
        }
      },
      "outputs": [
        {
          "output_type": "stream",
          "name": "stdout",
          "text": [
            "10\n",
            "<class 'int'>\n",
            "10\n",
            "<class 'str'>\n"
          ]
        }
      ],
      "source": [
        "#converting integer or any other data type to string.\n",
        "print(a)\n",
        "print(type(a))\n",
        "print(str(a))\n",
        "print(type(str(a)))"
      ]
    },
    {
      "cell_type": "code",
      "execution_count": null,
      "metadata": {
        "id": "6JKLYuVUHvjY",
        "outputId": "e27853d1-e850-4d4f-b80a-48abeb01b8ae",
        "colab": {
          "base_uri": "https://localhost:8080/",
          "height": 36
        }
      },
      "outputs": [
        {
          "output_type": "execute_result",
          "data": {
            "text/plain": [
              "'-3.14'"
            ],
            "application/vnd.google.colaboratory.intrinsic+json": {
              "type": "string"
            }
          },
          "metadata": {},
          "execution_count": 13
        }
      ],
      "source": [
        "str(-3.14)"
      ]
    },
    {
      "cell_type": "code",
      "execution_count": null,
      "metadata": {
        "id": "4XBQrXAQHvjY"
      },
      "outputs": [],
      "source": []
    },
    {
      "cell_type": "markdown",
      "metadata": {
        "id": "MkfVx0leHvjY"
      },
      "source": [
        "### Boolean Operations"
      ]
    },
    {
      "cell_type": "code",
      "execution_count": null,
      "metadata": {
        "id": "7FRIE7X8HvjY",
        "outputId": "216e8b9b-e1db-4990-f8dc-6f48e1f0e7f4",
        "colab": {
          "base_uri": "https://localhost:8080/"
        }
      },
      "outputs": [
        {
          "output_type": "execute_result",
          "data": {
            "text/plain": [
              "True"
            ]
          },
          "metadata": {},
          "execution_count": 14
        }
      ],
      "source": [
        "5 > 3"
      ]
    },
    {
      "cell_type": "code",
      "execution_count": null,
      "metadata": {
        "id": "30tUZvgiHvjY",
        "outputId": "8927efe8-14fc-45de-89da-d82f0b755c78",
        "colab": {
          "base_uri": "https://localhost:8080/"
        }
      },
      "outputs": [
        {
          "output_type": "execute_result",
          "data": {
            "text/plain": [
              "False"
            ]
          },
          "metadata": {},
          "execution_count": 15
        }
      ],
      "source": [
        "42 == '42'"
      ]
    },
    {
      "cell_type": "code",
      "execution_count": null,
      "metadata": {
        "id": "TLULiPBuHvjY",
        "outputId": "6a24a52a-343b-4311-e25d-b33cdcba0abc",
        "colab": {
          "base_uri": "https://localhost:8080/"
        }
      },
      "outputs": [
        {
          "output_type": "execute_result",
          "data": {
            "text/plain": [
              "True"
            ]
          },
          "metadata": {},
          "execution_count": 16
        }
      ],
      "source": [
        "(4 < 5) and (5 < 6)"
      ]
    },
    {
      "cell_type": "code",
      "execution_count": null,
      "metadata": {
        "id": "TTMw6WiXHvjY",
        "outputId": "0061cb3f-3411-4404-a2b4-51151bd59aaf",
        "colab": {
          "base_uri": "https://localhost:8080/"
        }
      },
      "outputs": [
        {
          "output_type": "execute_result",
          "data": {
            "text/plain": [
              "True"
            ]
          },
          "metadata": {},
          "execution_count": 17
        }
      ],
      "source": [
        "2 + 2 == 4 and not 2 + 2 == 5 and 2 * 2 == 2 + 2\n",
        "\n",
        "#(2 + 2 == 4) and (not (2 + 2 == 5)) and (2 * 2 == 2 + 2)"
      ]
    },
    {
      "cell_type": "code",
      "execution_count": null,
      "metadata": {
        "id": "ClAAy3XjHvjZ"
      },
      "outputs": [],
      "source": []
    },
    {
      "cell_type": "markdown",
      "metadata": {
        "id": "nJCPIG6EHvjZ"
      },
      "source": [
        "### Increment/Decrement Operations"
      ]
    },
    {
      "cell_type": "code",
      "execution_count": null,
      "metadata": {
        "scrolled": true,
        "id": "a8gTUP1hHvjZ",
        "outputId": "66325e73-ca56-424b-987b-1b977f3ebebe",
        "colab": {
          "base_uri": "https://localhost:8080/"
        }
      },
      "outputs": [
        {
          "output_type": "stream",
          "name": "stdout",
          "text": [
            "ogiginal inc 9\n"
          ]
        }
      ],
      "source": [
        "### Increment/Decrement Operations\n",
        "\n",
        "inc=9\n",
        "print(\"ogiginal inc\",inc)"
      ]
    },
    {
      "cell_type": "code",
      "execution_count": null,
      "metadata": {
        "id": "PX41_6oUHvjZ",
        "outputId": "0687d761-79f0-48e3-e01b-92233453f69f",
        "colab": {
          "base_uri": "https://localhost:8080/"
        }
      },
      "outputs": [
        {
          "output_type": "stream",
          "name": "stdout",
          "text": [
            "enter a sample number\n",
            "56\n",
            "ogiginal inc 56\n",
            "updated/incremented inc 59\n",
            "updated/decremented inc 54\n"
          ]
        }
      ],
      "source": [
        "### Increment/Decrement Operations\n",
        "print(\"enter a sample number\")\n",
        "#inc=9\n",
        "inc=int(input())\n",
        "print(\"ogiginal inc\",inc)\n",
        "\n",
        "inc+=3 ## it is equivalent to inc=inc+3\n",
        "print(\"updated/incremented inc\",inc)\n",
        "\n",
        "inc-=5  ## it is equivalent to inc=inc-5\n",
        "print(\"updated/decremented inc\",inc)"
      ]
    },
    {
      "cell_type": "code",
      "execution_count": null,
      "metadata": {
        "id": "OX8T1f30Hvja"
      },
      "outputs": [],
      "source": []
    },
    {
      "cell_type": "markdown",
      "metadata": {
        "id": "of3rvc0cHvja"
      },
      "source": [
        "### More string opeations"
      ]
    },
    {
      "cell_type": "code",
      "execution_count": null,
      "metadata": {
        "id": "trXQ9zgdHvja",
        "outputId": "975ee6d1-c3ad-4994-e979-7968bbadcca3",
        "colab": {
          "base_uri": "https://localhost:8080/"
        }
      },
      "outputs": [
        {
          "output_type": "stream",
          "name": "stdout",
          "text": [
            "7 Apples\n",
            "0th Location : 7\n",
            "5th Location : l\n",
            "2nd Location : A\n",
            "0th to 4th Location : 7 App\n",
            "note : when giving range it takes n-1 value for the upper limit\n",
            "Hope you got the idea by now\n"
          ]
        }
      ],
      "source": [
        "m_str_ops =\"7 Apples\"\n",
        "print(m_str_ops)\n",
        "print(\"0th Location :\",m_str_ops[0])\n",
        "print(\"5th Location :\",m_str_ops[5])\n",
        "print(\"2nd Location :\",m_str_ops[2])\n",
        "\n",
        "print(\"0th to 4th Location :\",m_str_ops[0:5])\n",
        "print(\"note : when giving range it takes n-1 value for the upper limit\")\n",
        "\n",
        "print(\"Hope you got the idea by now\")"
      ]
    },
    {
      "cell_type": "code",
      "execution_count": null,
      "metadata": {
        "id": "tO6pT3-hHvjb",
        "outputId": "f7c3d57f-ae4b-4f37-f7d4-846a42239312",
        "colab": {
          "base_uri": "https://localhost:8080/",
          "height": 157
        }
      },
      "outputs": [
        {
          "output_type": "stream",
          "name": "stdout",
          "text": [
            "Hello there, How are you?\n",
            "<class 'str'>\n",
            "splitting the sentense by ',' into a list \n",
            "['Hello there', ' How are you?']\n",
            "<class 'list'>\n",
            "\n",
            "Rejoining the splitted words\n"
          ]
        },
        {
          "output_type": "execute_result",
          "data": {
            "text/plain": [
              "'Hello there, How are you?'"
            ],
            "application/vnd.google.colaboratory.intrinsic+json": {
              "type": "string"
            }
          },
          "metadata": {},
          "execution_count": 21
        }
      ],
      "source": [
        "#Split and Join\n",
        "\n",
        "my_words=\"Hello there, How are you?\"\n",
        "print(my_words)\n",
        "print(type(my_words))\n",
        "\n",
        "print(\"splitting the sentense by ',' into a list \")\n",
        "my_words_split=my_words.split(',')\n",
        "\n",
        "\n",
        "print(my_words_split)\n",
        "print(type(my_words_split))\n",
        "\n",
        "print(\"\\nRejoining the splitted words\")\n",
        "#print(\" \".join(my_words_split))\n",
        "\",\".join(my_words_split)"
      ]
    },
    {
      "cell_type": "markdown",
      "metadata": {
        "id": "BKecCXC2Hvjb"
      },
      "source": [
        "## Data Structures"
      ]
    },
    {
      "cell_type": "markdown",
      "metadata": {
        "id": "MbSuKCg0Hvjb"
      },
      "source": [
        "#### The data structure available in python are as follows\n",
        "List <br> Tuples <br> Dictonary and <br> Sets"
      ]
    },
    {
      "cell_type": "markdown",
      "metadata": {
        "id": "V_aZSLLdHvjb"
      },
      "source": [
        "#### List\n",
        "List (denoted by square brackets) <br>\n",
        "elements can be a character, a string or even be a list."
      ]
    },
    {
      "cell_type": "code",
      "execution_count": null,
      "metadata": {
        "id": "aJUGUYt5Hvjb",
        "outputId": "2207810a-733b-4b6a-9bd2-648ba159d4ca",
        "colab": {
          "base_uri": "https://localhost:8080/"
        }
      },
      "outputs": [
        {
          "output_type": "stream",
          "name": "stdout",
          "text": [
            "['python', 'R', 'SAS', 'BLAH', 'BLAH2', 'C', 'C++', 'Scala', 42]\n",
            "indexing examples\n",
            "0th elemet python\n",
            "2nd element SAS\n",
            "0-3rd element ['python', 'R', 'SAS', 'BLAH']\n",
            "here the count start from 0, and to get to 3rd element we need to follow the rule n+1\n",
            "i.e to get to 3rd we have give 0:4\n"
          ]
        }
      ],
      "source": [
        "trial_list =[]\n",
        "da_lang = ['python','R','SAS','BLAH','BLAH2','C','C++','Scala',42]\n",
        "\n",
        "print(da_lang)\n",
        "\n",
        "#indexing, similar as above.\n",
        "print(\"indexing examples\")\n",
        "print(\"0th elemet\",da_lang[0])\n",
        "print(\"2nd element\",da_lang[2])\n",
        "\n",
        "print(\"0-3rd element\",da_lang[0:4])\n",
        "print(\"here the count start from 0, and to get to 3rd element we need to follow the rule n+1\")\n",
        "print(\"i.e to get to 3rd we have give 0:4\")"
      ]
    },
    {
      "cell_type": "code",
      "execution_count": null,
      "metadata": {
        "id": "WvqfWLvrHvjc",
        "outputId": "bf6e0504-fa34-4026-ef19-99f31e30c51b",
        "colab": {
          "base_uri": "https://localhost:8080/"
        }
      },
      "outputs": [
        {
          "output_type": "stream",
          "name": "stdout",
          "text": [
            "removing 42 from the da_lang list, with command da_lang.pop()\n",
            "['python', 'R', 'SAS', 'BLAH', 'BLAH2', 'C', 'C++', 'Scala']\n",
            "Note : if you keep on running this again and again, it'll keep on deleting the last element form the list\n",
            "pls give it a try, when you get error pls execute the line above to recreate the list\n"
          ]
        }
      ],
      "source": [
        "#functions in a list.\n",
        "#pop split join append\n",
        "\n",
        "print(\"removing 42 from the da_lang list, with command da_lang.pop()\")\n",
        "da_lang.pop() ## it deletes the last element.\n",
        "print(da_lang)\n",
        "print(\"Note : if you keep on running this again and again, it'll keep on deleting the last element form the list\")\n",
        "print(\"pls give it a try, when you get error pls execute the line above to recreate the list\")"
      ]
    },
    {
      "cell_type": "code",
      "execution_count": null,
      "metadata": {
        "id": "gKEIGcPWHvjc",
        "outputId": "8ce2138b-6830-49e3-c13a-983be426d95f",
        "colab": {
          "base_uri": "https://localhost:8080/"
        }
      },
      "outputs": [
        {
          "output_type": "stream",
          "name": "stdout",
          "text": [
            "['python', 'R', 'SAS', 'BLAH2', 'C', 'C++', 'Scala']\n"
          ]
        }
      ],
      "source": [
        "#to remove an element has two options\n",
        "# 1) if you know the location we can use pop() function\n",
        "# 2) if you know the data content we can use remove function\n",
        "#example da_lang.remove('BLAH')\n",
        "da_lang.remove('BLAH')\n",
        "print(da_lang)"
      ]
    },
    {
      "cell_type": "code",
      "execution_count": null,
      "metadata": {
        "id": "ddm3vogrHvjc",
        "outputId": "d69e1e6a-f3ef-4b6a-fa1e-3c739f692c3e",
        "colab": {
          "base_uri": "https://localhost:8080/"
        }
      },
      "outputs": [
        {
          "output_type": "stream",
          "name": "stdout",
          "text": [
            "to remove the word blah2 for the list, its at location 3, Soooo\n",
            "['python', 'R', 'SAS', 'C', 'C++', 'Scala']\n"
          ]
        }
      ],
      "source": [
        "#to remove specific value form a list.\n",
        "\n",
        "print(\"to remove the word blah2 for the list, its at location 3, Soooo\")\n",
        "da_lang.pop(3)\n",
        "print(da_lang)\n"
      ]
    },
    {
      "cell_type": "code",
      "execution_count": null,
      "metadata": {
        "id": "G5S2NUSBHvjc",
        "outputId": "4c676eec-4431-45dd-cb63-fd5077864209",
        "colab": {
          "base_uri": "https://localhost:8080/"
        }
      },
      "outputs": [
        {
          "output_type": "stream",
          "name": "stdout",
          "text": [
            "Adding a new language (Ruby) to the list, \n",
            "['python', 'R', 'SAS', 'C', 'C++', 'Scala', 'Ruby']\n"
          ]
        }
      ],
      "source": [
        "#to add to the list at the end\n",
        "print(\"Adding a new language (Ruby) to the list, \")\n",
        "da_lang.append(\"Ruby\")\n",
        "print(da_lang)"
      ]
    },
    {
      "cell_type": "code",
      "execution_count": null,
      "metadata": {
        "id": "qssCYCJtHvjd",
        "outputId": "20ae7ed1-e18b-4301-faaf-c35887283519",
        "colab": {
          "base_uri": "https://localhost:8080/"
        }
      },
      "outputs": [
        {
          "output_type": "stream",
          "name": "stdout",
          "text": [
            "['python', 'R', 'SAS', 'C', 'C++', 'Scala', 'Ruby']\n",
            "['English', 'python', 'R', 'SAS', 'C', 'C++', 'Scala', 'Ruby']\n"
          ]
        }
      ],
      "source": [
        "#adding to any specific location\n",
        "print(da_lang)\n",
        "da_lang.insert(0,'English')  ###inserting the word English at 0th Location\n",
        "print(da_lang)"
      ]
    },
    {
      "cell_type": "code",
      "execution_count": null,
      "metadata": {
        "id": "OznvQgtZHvjd",
        "outputId": "e3e38505-6e50-43b7-bbd0-e9434ca112e2",
        "colab": {
          "base_uri": "https://localhost:8080/"
        }
      },
      "outputs": [
        {
          "output_type": "stream",
          "name": "stdout",
          "text": [
            "Before \n",
            " ['English', 'python', 'R', 'SAS', 'C', 'C++', 'Scala', 'Ruby']\n",
            "\n",
            "After\n",
            " ['Malayalam', 'python', 'R', 'SAS', 'C', 'C++', 'Scala', 'Ruby']\n"
          ]
        }
      ],
      "source": [
        "#Updating the values of the list\n",
        "#Changing English to Malayalam\n",
        "\n",
        "print(\"Before \\n\",da_lang)\n",
        "da_lang[0]='Malayalam'\n",
        "print(\"\\nAfter\\n\",da_lang)"
      ]
    },
    {
      "cell_type": "code",
      "execution_count": null,
      "metadata": {
        "id": "dtNbkmELHvjd",
        "outputId": "87f602ad-4681-4e60-e7ca-69277e922d66",
        "colab": {
          "base_uri": "https://localhost:8080/"
        }
      },
      "outputs": [
        {
          "output_type": "stream",
          "name": "stdout",
          "text": [
            "[3, 8, 12, 5, 9]\n",
            "sorted nums [3, 5, 8, 9, 12]\n",
            "length of nums 5\n",
            "max of nums 12\n",
            "min of nums 3\n"
          ]
        }
      ],
      "source": [
        "#Numeric operations in list\n",
        "\n",
        "nums=[3,8,12,5,9]\n",
        "print(nums)\n",
        "print(\"sorted nums\",sorted(nums))\n",
        "print(\"length of nums\",len(nums))\n",
        "print(\"max of nums\",max(nums))\n",
        "print(\"min of nums\",min(nums))"
      ]
    },
    {
      "cell_type": "code",
      "execution_count": null,
      "metadata": {
        "id": "cfyNPuAsHvjd",
        "outputId": "421f3da5-75b2-46a7-bade-4b63ea1673ab",
        "colab": {
          "base_uri": "https://localhost:8080/"
        }
      },
      "outputs": [
        {
          "output_type": "stream",
          "name": "stdout",
          "text": [
            "[[1, 2, 3], [4, 5, 6]]\n"
          ]
        },
        {
          "output_type": "execute_result",
          "data": {
            "text/plain": [
              "5"
            ]
          },
          "metadata": {},
          "execution_count": 30
        }
      ],
      "source": [
        "#nested list\n",
        "nest_list = [[1,2,3],[4,5,6]]\n",
        "print(nest_list)\n",
        "\n",
        "nest_list[1][1]\n"
      ]
    },
    {
      "cell_type": "code",
      "execution_count": null,
      "metadata": {
        "id": "nmKor0uLHvje"
      },
      "outputs": [],
      "source": []
    },
    {
      "cell_type": "markdown",
      "metadata": {
        "id": "lAYNEdwfHvje"
      },
      "source": [
        "### Tuples"
      ]
    },
    {
      "cell_type": "markdown",
      "metadata": {
        "id": "8Bizn2IdHvje"
      },
      "source": [
        "it is very much similar to list, but it cannot be edited <br> so pop append insert etc functions will not work in tuples\n",
        "it is denoted by () brackets"
      ]
    },
    {
      "cell_type": "code",
      "execution_count": null,
      "metadata": {
        "id": "X_-VaKQwHvje",
        "outputId": "8a8d27a0-a8fd-4fb5-d3fd-757bc42ba219",
        "colab": {
          "base_uri": "https://localhost:8080/"
        }
      },
      "outputs": [
        {
          "output_type": "stream",
          "name": "stdout",
          "text": [
            "('a', 'b', 'c')\n",
            "<class 'tuple'>\n"
          ]
        }
      ],
      "source": [
        "tup=(\"a\",\"b\",\"c\")\n",
        "print(tup)\n",
        "print(type(tup))"
      ]
    },
    {
      "cell_type": "code",
      "execution_count": null,
      "metadata": {
        "id": "C5m8mvwQHvje"
      },
      "outputs": [],
      "source": [
        "# to change a tuple to a list\n",
        "da_tup = list(tup)"
      ]
    },
    {
      "cell_type": "code",
      "execution_count": null,
      "metadata": {
        "id": "Wp7XylfEHvje",
        "outputId": "ac8846c2-a3ce-43cd-de9a-a649000c9803",
        "colab": {
          "base_uri": "https://localhost:8080/"
        }
      },
      "outputs": [
        {
          "output_type": "execute_result",
          "data": {
            "text/plain": [
              "list"
            ]
          },
          "metadata": {},
          "execution_count": 33
        }
      ],
      "source": [
        "type(da_tup)"
      ]
    },
    {
      "cell_type": "code",
      "execution_count": null,
      "metadata": {
        "id": "58qOKC7fHvjf",
        "outputId": "815750ec-859a-4351-d2da-015986ce1819",
        "colab": {
          "base_uri": "https://localhost:8080/"
        }
      },
      "outputs": [
        {
          "output_type": "execute_result",
          "data": {
            "text/plain": [
              "tuple"
            ]
          },
          "metadata": {},
          "execution_count": 34
        }
      ],
      "source": [
        "#to convet a list to a tuple\n",
        "tup_2 = tuple(da_tup)\n",
        "type(tup_2)"
      ]
    },
    {
      "cell_type": "code",
      "execution_count": null,
      "metadata": {
        "id": "1BTMmsVMHvjf"
      },
      "outputs": [],
      "source": []
    },
    {
      "cell_type": "markdown",
      "metadata": {
        "id": "CBtkeIY5Hvjf"
      },
      "source": [
        "### Dictionary"
      ]
    },
    {
      "cell_type": "markdown",
      "metadata": {
        "id": "hI11G0YMHvjf"
      },
      "source": [
        "Data is stored in a key value pair, for example <br> roll no 1 : ram <br> roll no 2 : pavi <br> roll no 3 : ravi <br>\n",
        "so when roll no 2 is called its corresponding value is retrived and used."
      ]
    },
    {
      "cell_type": "code",
      "execution_count": null,
      "metadata": {
        "id": "wPZ3T3fRHvjf",
        "outputId": "b9a46170-a1bc-4461-f5cf-189d5decccac",
        "colab": {
          "base_uri": "https://localhost:8080/"
        }
      },
      "outputs": [
        {
          "output_type": "stream",
          "name": "stdout",
          "text": [
            "{'user_1': 'London', 'user_2': 'Lisbon', 'user_3': 'Paris'}\n"
          ]
        }
      ],
      "source": [
        "creds = {'user_1' : 'London', 'user_2' : 'Lisbon', 'user_3': 'Paris'}\n",
        "print(creds)"
      ]
    },
    {
      "cell_type": "code",
      "execution_count": null,
      "metadata": {
        "id": "s1_MFkIPHvjg",
        "outputId": "9b785d02-55cf-43db-d47e-0ab4fed3f77b",
        "colab": {
          "base_uri": "https://localhost:8080/"
        }
      },
      "outputs": [
        {
          "output_type": "stream",
          "name": "stdout",
          "text": [
            "Lisbon\n"
          ]
        }
      ],
      "source": [
        "print(creds['user_2'])"
      ]
    },
    {
      "cell_type": "markdown",
      "metadata": {
        "id": "KGikueBlHvjg"
      },
      "source": [
        "#### Nested Dictonary"
      ]
    },
    {
      "cell_type": "code",
      "execution_count": null,
      "metadata": {
        "id": "rWgF5raVHvjg"
      },
      "outputs": [],
      "source": [
        "myfamily = {\n",
        "  \"child1\" : {\n",
        "    \"name\" : \"Emil\",\n",
        "    \"year\" : 2004\n",
        "  },\n",
        "  \"child2\" : {\n",
        "    \"name\" : \"Tobias\",\n",
        "    \"year\" : 2007\n",
        "  },\n",
        "  \"child3\" : {\n",
        "    \"name\" : \"Linus\",\n",
        "    \"year\" : 2011\n",
        "  }\n",
        "}\n"
      ]
    },
    {
      "cell_type": "code",
      "execution_count": null,
      "metadata": {
        "id": "6hn9kRBdHvjg",
        "outputId": "f626dfe5-e561-46f3-cb36-86f57c182304",
        "colab": {
          "base_uri": "https://localhost:8080/"
        }
      },
      "outputs": [
        {
          "output_type": "execute_result",
          "data": {
            "text/plain": [
              "2004"
            ]
          },
          "metadata": {},
          "execution_count": 38
        }
      ],
      "source": [
        "myfamily[\"child1\"][\"year\"]"
      ]
    },
    {
      "cell_type": "code",
      "execution_count": null,
      "metadata": {
        "id": "Izl-tJi8Hvjg",
        "outputId": "1252dc06-9761-48c0-f94a-62eb41f41c53",
        "colab": {
          "base_uri": "https://localhost:8080/"
        }
      },
      "outputs": [
        {
          "output_type": "execute_result",
          "data": {
            "text/plain": [
              "2004"
            ]
          },
          "metadata": {},
          "execution_count": 39
        }
      ],
      "source": [
        "myfamily.get(\"child1\").get(\"year\")"
      ]
    },
    {
      "cell_type": "code",
      "execution_count": null,
      "metadata": {
        "id": "fzdYKRzhHvjg"
      },
      "outputs": [],
      "source": []
    },
    {
      "cell_type": "markdown",
      "metadata": {
        "id": "5_292cdAHvjh"
      },
      "source": [
        "### Sets"
      ]
    },
    {
      "cell_type": "markdown",
      "metadata": {
        "id": "BRb-Vkb2Hvjh"
      },
      "source": [
        "set is an unordered collection of unique elements."
      ]
    },
    {
      "cell_type": "code",
      "execution_count": null,
      "metadata": {
        "id": "U6wIcPqZHvjh",
        "outputId": "eb1eafd8-ba2c-4d05-8afc-6837fd92ca3c",
        "colab": {
          "base_uri": "https://localhost:8080/"
        }
      },
      "outputs": [
        {
          "output_type": "stream",
          "name": "stdout",
          "text": [
            "<class 'list'>\n",
            "\n",
            " {1, 2, 3, 4, 5, 6}\n",
            "<class 'set'>\n",
            "\n",
            " {1, 2, 5, 6, 7, 9, 10}\n",
            "<class 'set'>\n"
          ]
        }
      ],
      "source": [
        "seta = [1,2,3,1,2,5,4,6]\n",
        "setb = [7,5,5,6,1,2,9,10]\n",
        "print(type(seta))\n",
        "set_a =set(seta)\n",
        "set_b =set(setb)\n",
        "\n",
        "print(\"\\n\",set_a)\n",
        "print(type(set_a))\n",
        "\n",
        "print(\"\\n\",set_b)\n",
        "print(type(set_b))\n"
      ]
    },
    {
      "cell_type": "code",
      "execution_count": null,
      "metadata": {
        "id": "2GBOI-A1Hvjh",
        "outputId": "1f1e514e-bb27-4bff-81e1-f37ed1b6d689",
        "colab": {
          "base_uri": "https://localhost:8080/"
        }
      },
      "outputs": [
        {
          "output_type": "execute_result",
          "data": {
            "text/plain": [
              "{3, 4}"
            ]
          },
          "metadata": {},
          "execution_count": 41
        }
      ],
      "source": [
        "#what are all the elements present in set_a and not in set_b\n",
        "set_a.difference(set_b)"
      ]
    },
    {
      "cell_type": "code",
      "execution_count": null,
      "metadata": {
        "id": "REx4GjDXHvjh",
        "outputId": "2b77e6c6-fd69-4fa4-c036-5f7b5ef65153",
        "colab": {
          "base_uri": "https://localhost:8080/"
        }
      },
      "outputs": [
        {
          "output_type": "execute_result",
          "data": {
            "text/plain": [
              "{1, 2, 3, 4, 5, 6, 7, 9, 10}"
            ]
          },
          "metadata": {},
          "execution_count": 42
        }
      ],
      "source": [
        "#combining both the sets together\n",
        "set_a.union(set_b)"
      ]
    },
    {
      "cell_type": "code",
      "execution_count": null,
      "metadata": {
        "id": "jLUhayz4Hvji",
        "outputId": "bfd50857-2a8b-47cb-e65d-e6cc65dcc4c0",
        "colab": {
          "base_uri": "https://localhost:8080/"
        }
      },
      "outputs": [
        {
          "output_type": "execute_result",
          "data": {
            "text/plain": [
              "{1, 2, 5, 6}"
            ]
          },
          "metadata": {},
          "execution_count": 43
        }
      ],
      "source": [
        "#inetsection  --> it prints out the common in  both\n",
        "set_a.intersection(set_b)"
      ]
    },
    {
      "cell_type": "code",
      "execution_count": null,
      "metadata": {
        "id": "u6ucZY4VHvji",
        "outputId": "e9011dc7-1ee6-4402-e12e-1df2bc643824",
        "colab": {
          "base_uri": "https://localhost:8080/"
        }
      },
      "outputs": [
        {
          "output_type": "stream",
          "name": "stdout",
          "text": [
            "{1, 2, 5, 6, 7, 9, 10}\n"
          ]
        }
      ],
      "source": [
        "#inetsection update --> update the result form intersection to seta || inshort replace seta with the  intersection value.\n",
        "set_a.intersection_update(set_b)\n",
        "print(set_b)"
      ]
    },
    {
      "cell_type": "code",
      "execution_count": null,
      "metadata": {
        "id": "8oci3QefHvji",
        "outputId": "46e49e61-6a20-4b33-e36c-ede3337151f5",
        "colab": {
          "base_uri": "https://localhost:8080/"
        }
      },
      "outputs": [
        {
          "output_type": "execute_result",
          "data": {
            "text/plain": [
              "{1, 2, 5, 6}"
            ]
          },
          "metadata": {},
          "execution_count": 45
        }
      ],
      "source": [
        "set_a"
      ]
    },
    {
      "cell_type": "code",
      "execution_count": null,
      "metadata": {
        "id": "DJvGpt7FHvji"
      },
      "outputs": [],
      "source": []
    },
    {
      "cell_type": "markdown",
      "metadata": {
        "id": "gySo5SLFHvjj"
      },
      "source": [
        "## Day 2"
      ]
    },
    {
      "cell_type": "markdown",
      "metadata": {
        "id": "Ghtlj7eTHvjj"
      },
      "source": [
        "### Conditions - If Else Statement"
      ]
    },
    {
      "cell_type": "markdown",
      "metadata": {
        "id": "psPaIxIPHvjj"
      },
      "source": [
        "the 3 statemensts are<br>1) if <br> 2) else <br> 3) elif --> else-if"
      ]
    },
    {
      "cell_type": "code",
      "execution_count": null,
      "metadata": {
        "id": "9q6m21T1Hvjj",
        "outputId": "2d4c4fa2-3575-40bc-b1a9-c201af81f6cb",
        "colab": {
          "base_uri": "https://localhost:8080/"
        }
      },
      "outputs": [
        {
          "name": "stdout",
          "output_type": "stream",
          "text": [
            "enter a value for score between 0-100\n",
            "75\n"
          ]
        }
      ],
      "source": [
        "#eg\n",
        "print(\"enter a value for score between 0-100\")\n",
        "score =int(input())"
      ]
    },
    {
      "cell_type": "code",
      "execution_count": null,
      "metadata": {
        "id": "q7dv7uYOHvjj",
        "outputId": "801f3b6e-bf71-40cb-fc75-59b4fccb0a5d",
        "colab": {
          "base_uri": "https://localhost:8080/"
        }
      },
      "outputs": [
        {
          "output_type": "stream",
          "name": "stdout",
          "text": [
            "First Class\n"
          ]
        }
      ],
      "source": [
        "if score == 100:\n",
        "    print(\"Perfect\")\n",
        "elif 85<=score<100 :\n",
        "    print(\"Distinction\")\n",
        "elif 70<=score<85 :\n",
        "    print(\"First Class\")\n",
        "elif 55<=score<70 :\n",
        "    print(\"Second Class\")\n",
        "elif 40<=score<45 :\n",
        "    print(\"Third Class\")\n",
        "else :\n",
        "    print(\"Failed\")"
      ]
    },
    {
      "cell_type": "markdown",
      "metadata": {
        "id": "EE5zQj8PHvjj"
      },
      "source": [
        "#### Multiple statements in a single line."
      ]
    },
    {
      "cell_type": "code",
      "execution_count": null,
      "metadata": {
        "id": "yxbxYOguHvjk",
        "outputId": "9aa869a6-a6bc-4510-95b3-f12563016ef4",
        "colab": {
          "base_uri": "https://localhost:8080/"
        }
      },
      "outputs": [
        {
          "output_type": "stream",
          "name": "stdout",
          "text": [
            "ER1\n"
          ]
        }
      ],
      "source": [
        "ER0 = 330\n",
        "ER1 = 350\n",
        "print(\"ER0\") if ER0 > ER1 else print(\"=\") if ER0 == ER1 else print(\"ER1\")"
      ]
    },
    {
      "cell_type": "markdown",
      "metadata": {
        "id": "LZa-gPb8Hvjk"
      },
      "source": [
        "### Looping Statements"
      ]
    },
    {
      "cell_type": "markdown",
      "metadata": {
        "id": "sWBzIgN7Hvjk"
      },
      "source": [
        "##### For Loop"
      ]
    },
    {
      "cell_type": "code",
      "execution_count": null,
      "metadata": {
        "id": "bHRck9pBHvjk",
        "outputId": "a87a2ca0-e51b-4d5f-9cc6-a9c4f0761bd0",
        "colab": {
          "base_uri": "https://localhost:8080/"
        }
      },
      "outputs": [
        {
          "output_type": "stream",
          "name": "stdout",
          "text": [
            "0\n",
            "3\n",
            "6\n",
            "9\n",
            "12\n",
            "15\n",
            "18\n",
            "21\n",
            "24\n",
            "27\n",
            "30\n"
          ]
        }
      ],
      "source": [
        "#here in (0,31,3) || 0 --> starting ; 31 --> Ending ; 3 --> increment\n",
        "for i in range(0,31,3):\n",
        "    print(i)"
      ]
    },
    {
      "cell_type": "markdown",
      "metadata": {
        "id": "ZHku8s3CHvjk"
      },
      "source": [
        "##### While Loop"
      ]
    },
    {
      "cell_type": "code",
      "execution_count": null,
      "metadata": {
        "id": "tklopmkVHvjk",
        "outputId": "6058bddd-4986-4520-97e5-2f76031f2b6e",
        "colab": {
          "base_uri": "https://localhost:8080/"
        }
      },
      "outputs": [
        {
          "output_type": "stream",
          "name": "stdout",
          "text": [
            "25\n",
            "30\n",
            "35\n",
            "40\n",
            "45\n",
            "50\n",
            "55\n",
            "the total value is: 245\n"
          ]
        }
      ],
      "source": [
        "#While Loop  || No predefined execution limit\n",
        "start =20;\n",
        "total =0;\n",
        "\n",
        "while start<=50 :\n",
        "    total+=start\n",
        "    start+=5\n",
        "    print(start)  ### till here is the body of the while loop function.\n",
        "######end of loop\n",
        "print(\"the total value is:\",total)"
      ]
    },
    {
      "cell_type": "markdown",
      "metadata": {
        "id": "EowtYcIbHvjl"
      },
      "source": [
        "### Nested Loops"
      ]
    },
    {
      "cell_type": "markdown",
      "metadata": {
        "id": "MrZDSmpkHvjl"
      },
      "source": [
        "A nested loop is a loop inside a loop. <br>\n",
        "The \"inner loop\" will be executed one time for each iteration of the \"outer loop\":"
      ]
    },
    {
      "cell_type": "code",
      "execution_count": null,
      "metadata": {
        "id": "h5noLZkUHvjl",
        "outputId": "52a31a77-b51b-4683-a743-d354ef33a2ba",
        "colab": {
          "base_uri": "https://localhost:8080/"
        }
      },
      "outputs": [
        {
          "output_type": "stream",
          "name": "stdout",
          "text": [
            "red apple\n",
            "red banana\n",
            "red cherry\n",
            "big apple\n",
            "big banana\n",
            "big cherry\n",
            "tasty apple\n",
            "tasty banana\n",
            "tasty cherry\n"
          ]
        }
      ],
      "source": [
        "adj = [\"red\", \"big\", \"tasty\"]\n",
        "fruits = [\"apple\", \"banana\", \"cherry\"]\n",
        "\n",
        "for x in adj:\n",
        "  for y in fruits:\n",
        "    print(x, y)"
      ]
    },
    {
      "cell_type": "markdown",
      "metadata": {
        "id": "1iJdiIDTHvjl"
      },
      "source": [
        "### Break and Continue"
      ]
    },
    {
      "cell_type": "code",
      "execution_count": null,
      "metadata": {
        "id": "qAZLbFWJHvjl",
        "outputId": "5cb85f1f-a52d-4f87-c55b-a382a33498f2",
        "colab": {
          "base_uri": "https://localhost:8080/"
        }
      },
      "outputs": [
        {
          "output_type": "stream",
          "name": "stdout",
          "text": [
            "0\n",
            "1\n",
            "2\n",
            "3\n",
            "4\n",
            "5\n"
          ]
        }
      ],
      "source": [
        "#normal while loop\n",
        "i = 0\n",
        "while i < 6:\n",
        "  print(i)\n",
        "  i += 1"
      ]
    },
    {
      "cell_type": "code",
      "execution_count": null,
      "metadata": {
        "id": "LwfM11BnHvjm",
        "outputId": "deba3896-29fc-4e74-95b1-b95c2fa56798",
        "colab": {
          "base_uri": "https://localhost:8080/"
        }
      },
      "outputs": [
        {
          "output_type": "stream",
          "name": "stdout",
          "text": [
            "0\n",
            "1\n",
            "2\n",
            "3\n"
          ]
        }
      ],
      "source": [
        "### break statement, stopping at the point 3\n",
        "i = 0\n",
        "while i < 6:\n",
        "  print(i)\n",
        "  if i == 3:\n",
        "    break\n",
        "  i += 1"
      ]
    },
    {
      "cell_type": "code",
      "execution_count": null,
      "metadata": {
        "id": "vf4ZoqcLHvjm",
        "outputId": "d6392009-3246-4a9d-8153-f979df46630a",
        "colab": {
          "base_uri": "https://localhost:8080/"
        }
      },
      "outputs": [
        {
          "output_type": "stream",
          "name": "stdout",
          "text": [
            "1\n",
            "2\n",
            "4\n",
            "5\n",
            "6\n"
          ]
        }
      ],
      "source": [
        "### Continue statement, skipp step 3\n",
        "i = 0\n",
        "while i < 6:\n",
        "  i += 1\n",
        "  if i == 3:\n",
        "    continue\n",
        "  print(i)"
      ]
    },
    {
      "cell_type": "code",
      "execution_count": null,
      "metadata": {
        "id": "Sv12D1cYHvjm"
      },
      "outputs": [],
      "source": []
    },
    {
      "cell_type": "markdown",
      "metadata": {
        "id": "SWN-Aw9rHvjm"
      },
      "source": [
        "### Comprehensions"
      ]
    },
    {
      "cell_type": "code",
      "execution_count": null,
      "metadata": {
        "id": "L2f0pzPFHvjm"
      },
      "outputs": [],
      "source": [
        "square_lst =[]\n",
        "sqr_lst=[]"
      ]
    },
    {
      "cell_type": "code",
      "execution_count": null,
      "metadata": {
        "id": "-cG7tEX6Hvjn",
        "outputId": "fd3d0bed-2aae-4c0f-b033-01eb0fa8c7fc",
        "colab": {
          "base_uri": "https://localhost:8080/"
        }
      },
      "outputs": [
        {
          "output_type": "stream",
          "name": "stdout",
          "text": [
            "[1, 4, 9, 16, 25, 36, 49, 64, 81, 100]\n"
          ]
        }
      ],
      "source": [
        "#method 1 for printing square for a range of numbers\n",
        "for x in range (1,11,1) :\n",
        "    square_lst.append(x**2)\n",
        "\n",
        "print(square_lst)"
      ]
    },
    {
      "cell_type": "code",
      "execution_count": null,
      "metadata": {
        "id": "2gKAuN2LHvjn",
        "outputId": "8a6239ae-caac-40a9-d1b7-85b4e9938bfe",
        "colab": {
          "base_uri": "https://localhost:8080/"
        }
      },
      "outputs": [
        {
          "output_type": "stream",
          "name": "stdout",
          "text": [
            "[1, 4, 9, 16, 25, 36, 49, 64, 81, 100]\n"
          ]
        }
      ],
      "source": [
        "#method 2 for printing square for a range of numbers\n",
        "sqr_lst=[(x**2) for x in range(1,11,1)]\n",
        "print(sqr_lst)"
      ]
    },
    {
      "cell_type": "code",
      "execution_count": null,
      "metadata": {
        "id": "RMMCgUBKHvjn"
      },
      "outputs": [],
      "source": []
    },
    {
      "cell_type": "code",
      "execution_count": null,
      "metadata": {
        "id": "9Kbk-ereHvjn",
        "outputId": "4b475bc7-fb4a-43d0-b9db-e37cd438e000",
        "colab": {
          "base_uri": "https://localhost:8080/"
        }
      },
      "outputs": [
        {
          "output_type": "stream",
          "name": "stdout",
          "text": [
            "['There', 'was', 'a', 'fox', 'which', 'was', 'brown', 'in', 'color', 'it', 'ran', 'fast']\n"
          ]
        }
      ],
      "source": [
        "para =[\"There was a fox\", \"which was brown in color\", \" it ran fast\"]\n",
        "wd_lst =[]\n",
        "\n",
        "for sentence in para :\n",
        "    for words in sentence.split():\n",
        "        wd_lst.append(words)\n",
        "\n",
        "print(wd_lst)"
      ]
    },
    {
      "cell_type": "code",
      "execution_count": null,
      "metadata": {
        "id": "oOzKB2QIHvjn"
      },
      "outputs": [],
      "source": []
    },
    {
      "cell_type": "code",
      "execution_count": null,
      "metadata": {
        "id": "eF0x0Q9sHvjn",
        "outputId": "26f7e209-902d-476a-f1f5-b50cd3c45d75",
        "colab": {
          "base_uri": "https://localhost:8080/"
        }
      },
      "outputs": [
        {
          "output_type": "stream",
          "name": "stdout",
          "text": [
            "['There', 'was', 'a', 'fox', 'which', 'was', 'brown', 'in', 'color', 'it', 'ran', 'fast']\n"
          ]
        }
      ],
      "source": [
        "wrd_lst = [words for sentence in para for words in sentence.split()]\n",
        "print(wrd_lst)"
      ]
    },
    {
      "cell_type": "code",
      "execution_count": null,
      "metadata": {
        "id": "FPV8AhG0Hvjo"
      },
      "outputs": [],
      "source": []
    },
    {
      "cell_type": "markdown",
      "metadata": {
        "id": "qaq9Ch0sHvjo"
      },
      "source": [
        "### Functions"
      ]
    },
    {
      "cell_type": "markdown",
      "metadata": {
        "id": "vxKP8En2Hvjo"
      },
      "source": [
        "Function is any set of code. mostly used to run the same set of task at multiple sections in the program"
      ]
    },
    {
      "cell_type": "markdown",
      "metadata": {
        "id": "trusLLlKHvjo"
      },
      "source": [
        "#### Syntax as follows\n",
        "def function_name(vaiable_optional) :  <br>\n",
        "     scope_of_the_function             <br>\n",
        "     reutn(x)"
      ]
    },
    {
      "cell_type": "code",
      "execution_count": null,
      "metadata": {
        "id": "sq3L-mjFHvjo"
      },
      "outputs": [],
      "source": [
        "#sample function --> usually defined before use.\n",
        "def sq(num) :\n",
        "    out=num**2;\n",
        "    return(out)"
      ]
    },
    {
      "cell_type": "code",
      "execution_count": null,
      "metadata": {
        "id": "JeNOfYYMHvjo",
        "outputId": "39be637a-6f9b-401c-e904-3ffe32bbef79",
        "colab": {
          "base_uri": "https://localhost:8080/"
        }
      },
      "outputs": [
        {
          "output_type": "execute_result",
          "data": {
            "text/plain": [
              "25"
            ]
          },
          "metadata": {},
          "execution_count": 61
        }
      ],
      "source": [
        "sq(5)"
      ]
    },
    {
      "cell_type": "markdown",
      "metadata": {
        "id": "C026c2fcHvjp"
      },
      "source": [
        "##### default value in a function"
      ]
    },
    {
      "cell_type": "code",
      "execution_count": null,
      "metadata": {
        "id": "JT6c3sOAHvjp",
        "outputId": "445c2f9e-1c08-492b-b7a3-97a4de937ea8",
        "colab": {
          "base_uri": "https://localhost:8080/"
        }
      },
      "outputs": [
        {
          "output_type": "stream",
          "name": "stdout",
          "text": [
            "I am from India\n",
            "I am from Norway\n"
          ]
        }
      ],
      "source": [
        "def my_function(country = \"Norway\"):\n",
        "  print(\"I am from \" + country)\n",
        "\n",
        "my_function(\"India\")\n",
        "my_function()\n"
      ]
    },
    {
      "cell_type": "code",
      "execution_count": null,
      "metadata": {
        "id": "AeI3RwhwHvjp"
      },
      "outputs": [],
      "source": []
    },
    {
      "cell_type": "markdown",
      "metadata": {
        "id": "y2p9bKvRHvjp"
      },
      "source": [
        "##### when the number of argument to be passed to a function is unknow <br> add \"**\" before the parameter name: <br> here the parameter is name"
      ]
    },
    {
      "cell_type": "code",
      "execution_count": null,
      "metadata": {
        "id": "nP6fLDT8Hvjp",
        "outputId": "a4a8c1a8-0eae-450a-e16c-ebab4c53c10a",
        "colab": {
          "base_uri": "https://localhost:8080/"
        }
      },
      "outputs": [
        {
          "output_type": "stream",
          "name": "stdout",
          "text": [
            "His last name is Sreenath\n"
          ]
        }
      ],
      "source": [
        "def my_function(**name):\n",
        "  print(\"His last name is \" + name[\"lname\"])\n",
        "\n",
        "my_function(fname = \"Sanju\", lname = \"Sreenath\")"
      ]
    },
    {
      "cell_type": "markdown",
      "metadata": {
        "id": "5Vj1cjvQHvjq"
      },
      "source": [
        "#### Passing a List as an Argument"
      ]
    },
    {
      "cell_type": "code",
      "execution_count": null,
      "metadata": {
        "id": "LirptOiOHvjq",
        "outputId": "287f3ff8-9072-40a9-ad94-3856112b5b17",
        "colab": {
          "base_uri": "https://localhost:8080/"
        }
      },
      "outputs": [
        {
          "output_type": "stream",
          "name": "stdout",
          "text": [
            "Audi\n",
            "VW\n",
            "Honda\n",
            "Fiat\n",
            "Ford\n"
          ]
        }
      ],
      "source": [
        "def my_function(my_arg):\n",
        "  for x in my_arg:\n",
        "    print(x)\n",
        "\n",
        "Cars = [\"Audi\", \"VW\", \"Honda\", \"Fiat\", \"Ford\"]\n",
        "\n",
        "my_function(Cars)"
      ]
    },
    {
      "cell_type": "code",
      "execution_count": null,
      "metadata": {
        "id": "y7OUN6qrHvjq"
      },
      "outputs": [],
      "source": []
    },
    {
      "cell_type": "markdown",
      "metadata": {
        "id": "rYZUURD3Hvjq"
      },
      "source": [
        "## Lambda Function\n",
        "function on the fly"
      ]
    },
    {
      "cell_type": "code",
      "execution_count": null,
      "metadata": {
        "id": "6cBOlZ3-Hvjq"
      },
      "outputs": [],
      "source": [
        "#eg\n",
        "str_to_lst = lambda x : x.split();\n",
        "product = lambda x,y,z : (x*y)**z;\n",
        "sqr =lambda x : x**2;"
      ]
    },
    {
      "cell_type": "code",
      "execution_count": null,
      "metadata": {
        "id": "jEsMm0uNHvjq",
        "outputId": "4b7fe388-c708-4d57-cb7e-3d8033f958ef",
        "colab": {
          "base_uri": "https://localhost:8080/"
        }
      },
      "outputs": [
        {
          "name": "stdout",
          "output_type": "stream",
          "text": [
            "Hello there how are you?\n"
          ]
        },
        {
          "output_type": "execute_result",
          "data": {
            "text/plain": [
              "['Hello', 'there', 'how', 'are', 'you?']"
            ]
          },
          "metadata": {},
          "execution_count": 66
        }
      ],
      "source": [
        "str_to_lst(input())"
      ]
    },
    {
      "cell_type": "code",
      "execution_count": null,
      "metadata": {
        "id": "atNUpU5iHvjr",
        "outputId": "7677d9bd-2d30-42a0-8b76-358ce9670e4f",
        "colab": {
          "base_uri": "https://localhost:8080/"
        }
      },
      "outputs": [
        {
          "output_type": "execute_result",
          "data": {
            "text/plain": [
              "567"
            ]
          },
          "metadata": {},
          "execution_count": 67
        }
      ],
      "source": [
        "product(2,3,4) - product(3,3,3)"
      ]
    },
    {
      "cell_type": "code",
      "execution_count": null,
      "metadata": {
        "id": "L_JMZ0BqHvjr",
        "outputId": "b38cf7f7-f24a-4339-c8ee-ad5236ec7cbd",
        "colab": {
          "base_uri": "https://localhost:8080/"
        }
      },
      "outputs": [
        {
          "output_type": "execute_result",
          "data": {
            "text/plain": [
              "25"
            ]
          },
          "metadata": {},
          "execution_count": 68
        }
      ],
      "source": [
        "sqr(5)"
      ]
    },
    {
      "cell_type": "code",
      "execution_count": null,
      "metadata": {
        "id": "rUmwYxTnHvjr"
      },
      "outputs": [],
      "source": []
    },
    {
      "cell_type": "markdown",
      "metadata": {
        "id": "5_d5QcDhHvjr"
      },
      "source": [
        "### Map, Reduce, Filter"
      ]
    },
    {
      "cell_type": "markdown",
      "metadata": {
        "id": "YDl_jhJtHvjr"
      },
      "source": [
        "##### Map\n",
        "It applies the function to all the elements of an input list <br>\n",
        "syntax is as follows <br>\n",
        "map(function_to_apply,list_of_inputs)\n"
      ]
    },
    {
      "cell_type": "code",
      "execution_count": null,
      "metadata": {
        "id": "HEWJZ-R0Hvjr",
        "outputId": "a32e036c-088c-4a62-ab19-59249c39e4ef",
        "colab": {
          "base_uri": "https://localhost:8080/"
        }
      },
      "outputs": [
        {
          "output_type": "stream",
          "name": "stdout",
          "text": [
            "[1, 2, 3, 4, 5, 6, 7, 8, 9, 10]\n"
          ]
        }
      ],
      "source": [
        "my_list = list(range(1,11,1))  ## creating a list with values from 1 to 10\n",
        "print(my_list)"
      ]
    },
    {
      "cell_type": "code",
      "execution_count": null,
      "metadata": {
        "id": "CNKDnUdqHvjs",
        "outputId": "097c51de-90b9-4395-c291-bd24dd11107a",
        "colab": {
          "base_uri": "https://localhost:8080/"
        }
      },
      "outputs": [
        {
          "output_type": "stream",
          "name": "stdout",
          "text": [
            "[1, 4, 9, 16, 25, 36, 49, 64, 81, 100]\n"
          ]
        }
      ],
      "source": [
        "squared_values =list(map(sqr,my_list))   ## squaring the elements form my_list and assigining it to squared_list\n",
        "#we are using map function for the same, here we are reusing an existing function sqr\n",
        "print(squared_values)  ## printing the squared value."
      ]
    },
    {
      "cell_type": "code",
      "execution_count": null,
      "metadata": {
        "id": "RlYsPYmtHvjs",
        "outputId": "6e925e1f-ea63-45bf-f987-19365c2409c1",
        "colab": {
          "base_uri": "https://localhost:8080/"
        }
      },
      "outputs": [
        {
          "output_type": "stream",
          "name": "stdout",
          "text": [
            "[1, 4, 9, 16, 25, 36, 49, 64, 81, 100]\n"
          ]
        }
      ],
      "source": [
        "squared_values =list(map(sq,my_list))  ## here we use another squaring function, which produces same result.\n",
        "print(squared_values)"
      ]
    },
    {
      "cell_type": "code",
      "execution_count": null,
      "metadata": {
        "id": "6LK24JoXHvjs"
      },
      "outputs": [],
      "source": [
        "#instead of list of inputs we can give list of functions\n",
        "#eg\n",
        "\n",
        "def mul(x):\n",
        "    return(x*x);\n",
        "def add(x):\n",
        "    return(x+x);\n",
        "\n",
        "funct=[mul,add]\n"
      ]
    },
    {
      "cell_type": "code",
      "execution_count": null,
      "metadata": {
        "id": "IlueWuPGHvjs",
        "outputId": "a996b252-7630-44ca-8af7-21e87a91efda",
        "colab": {
          "base_uri": "https://localhost:8080/"
        }
      },
      "outputs": [
        {
          "output_type": "stream",
          "name": "stdout",
          "text": [
            "[1, 2]\n",
            "[4, 4]\n",
            "[9, 6]\n",
            "[16, 8]\n"
          ]
        }
      ],
      "source": [
        "lst_fncts=[]\n",
        "for i in range(1,5):\n",
        "    lst_fncts= list(map(lambda x:x(i),funct))\n",
        "    print(lst_fncts)\n",
        "\n",
        "## here number 1 to 5 are genereated as part of range\n",
        "## then list \"funct\" has 2 custom functions, and the numbers generated is passed to both the custom functions\n"
      ]
    },
    {
      "cell_type": "code",
      "execution_count": null,
      "metadata": {
        "id": "vuatzMuGHvjs"
      },
      "outputs": [],
      "source": []
    },
    {
      "cell_type": "markdown",
      "metadata": {
        "id": "1RCBnFk8Hvjt"
      },
      "source": [
        "##### Filter\n",
        "It applies the function to all the elements of an input list <br> and retuens only those which matches the conditions <br>\n",
        "syntax is as follows <br>\n",
        "map(function_to_apply,list_of_inputs)"
      ]
    },
    {
      "cell_type": "code",
      "execution_count": null,
      "metadata": {
        "id": "WaZb9mvOHvjt",
        "outputId": "e246443a-279f-4999-e449-7c636e0e4591",
        "colab": {
          "base_uri": "https://localhost:8080/"
        }
      },
      "outputs": [
        {
          "output_type": "stream",
          "name": "stdout",
          "text": [
            "[1, 2, 3, 4, 5, 6, 7, 8, 9, 10]\n",
            "[1, 2, 3, 4]\n"
          ]
        }
      ],
      "source": [
        "#eg\n",
        "print(my_list)\n",
        "less_than_5 = list(filter(lambda x : x <5 , my_list))\n",
        "\n",
        "print(less_than_5)"
      ]
    },
    {
      "cell_type": "code",
      "execution_count": null,
      "metadata": {
        "id": "8J-qwTdzHvjt"
      },
      "outputs": [],
      "source": []
    },
    {
      "cell_type": "markdown",
      "metadata": {
        "id": "LmPE4VzMHvjt"
      },
      "source": [
        "##### Reduce\n",
        "It is used for computation of all the elements of an input list <br>"
      ]
    },
    {
      "cell_type": "code",
      "execution_count": null,
      "metadata": {
        "id": "PUA10LdEHvjt"
      },
      "outputs": [],
      "source": [
        "import functools as ft"
      ]
    },
    {
      "cell_type": "code",
      "execution_count": null,
      "metadata": {
        "id": "EmtLb2WjHvjt",
        "outputId": "bf2357c4-3a95-490e-9415-94755dd092ef",
        "colab": {
          "base_uri": "https://localhost:8080/"
        }
      },
      "outputs": [
        {
          "output_type": "execute_result",
          "data": {
            "text/plain": [
              "[1, 2, 3, 4, 5, 6, 7, 8, 9, 10]"
            ]
          },
          "metadata": {},
          "execution_count": 76
        }
      ],
      "source": [
        "my_list"
      ]
    },
    {
      "cell_type": "code",
      "execution_count": null,
      "metadata": {
        "id": "WVeoKZnrHvju",
        "outputId": "ffe3a488-1aba-4e24-b141-eeb33e607242",
        "colab": {
          "base_uri": "https://localhost:8080/"
        }
      },
      "outputs": [
        {
          "output_type": "execute_result",
          "data": {
            "text/plain": [
              "55"
            ]
          },
          "metadata": {},
          "execution_count": 77
        }
      ],
      "source": [
        "#using my_list from above\n",
        "#function to add all the elements of the list\n",
        "ft.reduce(lambda a,b : a+b , my_list)\n",
        "#its equivalent of 1+2+3+4+5+6+7+8+9+0"
      ]
    },
    {
      "cell_type": "markdown",
      "metadata": {
        "id": "T7ocTPQxHvju"
      },
      "source": [
        "my_list has values form 1 to 10 <br>\n",
        "here the first element form the list is assigned to 'a', then second element to 'b'. Then a and b are added to get 3 (1+2) <br>\n",
        "then the value 3 (1+2) is assigned to a and b is assigned with the next element form the list.<br>\n",
        "and this continues till the end of the list  "
      ]
    },
    {
      "cell_type": "code",
      "execution_count": null,
      "metadata": {
        "id": "B87V3UXFHvju"
      },
      "outputs": [],
      "source": [
        "#example 2\n",
        "F = lambda x, y : x if (x>y) else y ### function to find largest number.\n",
        "F_list = [6,5,6,34,6,1,3,45,58,75,77]"
      ]
    },
    {
      "cell_type": "code",
      "execution_count": null,
      "metadata": {
        "id": "ORL3P7GLHvju",
        "outputId": "3cffdacd-0b4f-427e-8016-739e66e6f2ef",
        "colab": {
          "base_uri": "https://localhost:8080/"
        }
      },
      "outputs": [
        {
          "output_type": "execute_result",
          "data": {
            "text/plain": [
              "77"
            ]
          },
          "metadata": {},
          "execution_count": 79
        }
      ],
      "source": [
        "ft.reduce(F,F_list)\n",
        "#the explanation is similar to the above example."
      ]
    },
    {
      "cell_type": "code",
      "execution_count": null,
      "metadata": {
        "id": "KgCFUrQsHvjv"
      },
      "outputs": [],
      "source": []
    },
    {
      "cell_type": "markdown",
      "metadata": {
        "id": "eFVFuz8WHvjv"
      },
      "source": [
        "## Python Classes/Objects\n"
      ]
    },
    {
      "cell_type": "markdown",
      "metadata": {
        "id": "ISxtGo_4Hvjv"
      },
      "source": [
        "#### A Class is like an object constructor, or a \"blueprint\" for creating objects. <br> Create a class named Person, use the __init__() function to assign values for name and age:\n",
        "\n"
      ]
    },
    {
      "cell_type": "code",
      "execution_count": null,
      "metadata": {
        "id": "aR9l3rNpHvjv",
        "outputId": "f7675722-2a32-40fa-9d55-932789c28b77",
        "colab": {
          "base_uri": "https://localhost:8080/"
        }
      },
      "outputs": [
        {
          "output_type": "stream",
          "name": "stdout",
          "text": [
            "<__main__.Person object at 0x795501a69b70>\n"
          ]
        }
      ],
      "source": [
        "class Person:\n",
        "  def __init__(self, name, age, gender):\n",
        "    self.name = name\n",
        "    self.age = age\n",
        "    self.gender = gender\n",
        "\n",
        "\n",
        "p1 = Person(\"Sanju\", 31, \"M\")\n",
        "p2 = Person(\"Sreenath\", 27, \"M\")\n",
        "\n",
        "print(p1)"
      ]
    },
    {
      "cell_type": "code",
      "execution_count": null,
      "metadata": {
        "id": "3rnvJOogHvjv",
        "outputId": "644f9eaf-373a-44d9-b807-46b2b07f2676",
        "colab": {
          "base_uri": "https://localhost:8080/"
        }
      },
      "outputs": [
        {
          "output_type": "stream",
          "name": "stdout",
          "text": [
            "Sanju Sreenath\n"
          ]
        }
      ],
      "source": [
        "print(p1.name+\" \"+p2.name)"
      ]
    },
    {
      "cell_type": "code",
      "execution_count": null,
      "metadata": {
        "id": "xOveZPh7Hvjw",
        "outputId": "81a69805-ccac-433d-8f16-fd826d7d7a3f",
        "colab": {
          "base_uri": "https://localhost:8080/"
        }
      },
      "outputs": [
        {
          "output_type": "stream",
          "name": "stdout",
          "text": [
            "Hello my name is Sanju\n"
          ]
        }
      ],
      "source": [
        "#Insert a function that prints a greeting, and execute it on the p1 object:\n",
        "\n",
        "class Person:\n",
        "  def __init__(self, name, age):\n",
        "    self.name = name\n",
        "    self.age = age\n",
        "\n",
        "  def myfunc(self):\n",
        "    print(\"Hello my name is \" + self.name)\n",
        "\n",
        "p1 = Person(\"Sanju\", 31)\n",
        "p1.myfunc()"
      ]
    },
    {
      "cell_type": "markdown",
      "source": [
        "-------------------------------------------------------------------------------\n"
      ],
      "metadata": {
        "id": "BFohfT-0ZFo_"
      }
    },
    {
      "cell_type": "markdown",
      "metadata": {
        "id": "fJlOmTlkHvjw"
      },
      "source": [
        "# **File Handling in Google Drive**"
      ]
    },
    {
      "cell_type": "markdown",
      "source": [
        "### **Please note, Update the folder name below in which you are keeping the files.**"
      ],
      "metadata": {
        "id": "SoUF2zbfYvo2"
      }
    },
    {
      "cell_type": "code",
      "source": [
        "import os\n",
        "from google.colab import drive\n",
        "drive.mount('/content/drive')"
      ],
      "metadata": {
        "colab": {
          "base_uri": "https://localhost:8080/"
        },
        "id": "HfPwOMtuMruP",
        "outputId": "90fa0b7e-dcab-4c60-b78e-a7d382dc2f17"
      },
      "execution_count": null,
      "outputs": [
        {
          "output_type": "stream",
          "name": "stdout",
          "text": [
            "Mounted at /content/drive\n"
          ]
        }
      ]
    },
    {
      "cell_type": "code",
      "execution_count": null,
      "metadata": {
        "id": "-un23xD0Hvjw",
        "colab": {
          "base_uri": "https://localhost:8080/"
        },
        "outputId": "08c9ee06-dbe7-4c3b-f368-bdf71a17be70"
      },
      "outputs": [
        {
          "output_type": "stream",
          "name": "stdout",
          "text": [
            "hello there \n",
            "this is the second test file to see\n",
            "whether the function wokrs fine or not\n"
          ]
        }
      ],
      "source": [
        "## Function to read file\n",
        "def print_file(filename = \"/content/drive/MyDrive/Colab_Python_Learning/Files/demofile.txt\") :\n",
        "\tf = open(filename,\"r\")\n",
        "\tprint(f.read())\n",
        "\tf.close()\n",
        "print_file()\n",
        "#here the default print file is demofile.txt\n",
        "#to print anyother file in the same folder provide filename, PFB an example"
      ]
    },
    {
      "cell_type": "code",
      "source": [
        "print_file(\"/content/drive/MyDrive/Colab_Python_Learning/Files/demo.txt\")\n",
        "## this prints the content of the specified file."
      ],
      "metadata": {
        "colab": {
          "base_uri": "https://localhost:8080/"
        },
        "id": "RM5jcfCjfGrE",
        "outputId": "d83b21c5-5632-4bd9-f983-074f6add9fda"
      },
      "execution_count": null,
      "outputs": [
        {
          "output_type": "stream",
          "name": "stdout",
          "text": [
            "this is the second demo file\n",
            "hope this works too... :-)\n"
          ]
        }
      ]
    }
  ],
  "metadata": {
    "kernelspec": {
      "display_name": "Python 3",
      "language": "python",
      "name": "python3"
    },
    "language_info": {
      "codemirror_mode": {
        "name": "ipython",
        "version": 3
      },
      "file_extension": ".py",
      "mimetype": "text/x-python",
      "name": "python",
      "nbconvert_exporter": "python",
      "pygments_lexer": "ipython3",
      "version": "3.7.4"
    },
    "colab": {
      "provenance": [],
      "include_colab_link": true
    }
  },
  "nbformat": 4,
  "nbformat_minor": 0
}